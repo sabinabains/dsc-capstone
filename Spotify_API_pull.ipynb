{
 "cells": [
  {
   "cell_type": "markdown",
   "metadata": {},
   "source": [
    "#### Installing Packages"
   ]
  },
  {
   "cell_type": "code",
   "execution_count": 1,
   "metadata": {},
   "outputs": [],
   "source": [
    "!pip3 install spotipy --upgrade\n",
    "!pip3 install pillow\n",
    "!pip3 install tensorflow"
   ]
  },
  {
   "cell_type": "markdown",
   "metadata": {},
   "source": [
    "#### Importing Packages"
   ]
  },
  {
   "cell_type": "code",
   "execution_count": 2,
   "metadata": {},
   "outputs": [],
   "source": [
    "import matplotlib.pyplot as plt\n",
    "from matplotlib import image as mpimg\n",
    "import spotipy\n",
    "from spotipy.oauth2 import SpotifyClientCredentials\n",
    "import os\n",
    "import pandas as pd\n",
    "import requests\n",
    "import collections\n",
    "import pickle as pkl\n",
    "from PIL import Image\n",
    "import numpy as np\n",
    "from sklearn.model_selection import train_test_split"
   ]
  },
  {
   "cell_type": "markdown",
   "metadata": {},
   "source": [
    "## Using credentials to pull album art and popularity score (target variable) from Spotify's API (SpotiPy)"
   ]
  },
  {
   "cell_type": "code",
   "execution_count": 3,
   "metadata": {},
   "outputs": [],
   "source": [
    "# User will have to create their own spotipy account and put their own CID and SECRET keys into the following variables\n",
    "creds  = pd.read_csv('data/spotipy_credentials.csv', header = None)\n",
    "\n",
    "cid    = creds[1][0]\n",
    "secret = creds[1][1]"
   ]
  },
  {
   "cell_type": "code",
   "execution_count": 4,
   "metadata": {},
   "outputs": [],
   "source": [
    "# Accessing API\n",
    "client_credentials_manager = SpotifyClientCredentials(client_id=cid, client_secret=secret)\n",
    "sp = spotipy.Spotify(client_credentials_manager = client_credentials_manager)"
   ]
  },
  {
   "cell_type": "code",
   "execution_count": 5,
   "metadata": {},
   "outputs": [],
   "source": [
    "# Creating list of playlists with independent artists to pull album art data from\n",
    "fresh_finds_playlists = [\n",
    "'https://open.spotify.com/playlist/37i9dQZF1DWT0upuUFtT7o',\n",
    "'https://open.spotify.com/playlist/37i9dQZF1DWUFAJPVM3HTX',\n",
    "'https://open.spotify.com/playlist/37i9dQZF1DX3u9TSHqpdJC',\n",
    "'https://open.spotify.com/playlist/37i9dQZF1DWW4igXXl2Qkp',\n",
    "'https://open.spotify.com/playlist/37i9dQZF1DX78toxP7mOaJ',\n",
    "'https://open.spotify.com/playlist/37i9dQZF1DXdS3lvGe1GrT',\n",
    "'https://open.spotify.com/playlist/37i9dQZF1DWYUfsq4hxHWP',\n",
    "'https://open.spotify.com/playlist/37i9dQZF1DX6bBjHfdRnza',\n",
    "'https://open.spotify.com/playlist/37i9dQZF1DX8C585qnMYHP',\n",
    "'https://open.spotify.com/playlist/37i9dQZF1DXcWL5K0oNHcG',\n",
    "'https://open.spotify.com/playlist/37i9dQZF1DWWjGdmeTyeJ6',\n",
    "'https://open.spotify.com/playlist/37i9dQZF1DX7AqyNZFu97s',\n",
    "'https://open.spotify.com/playlist/37i9dQZF1DXagUeYbNSnOA',\n",
    "'https://open.spotify.com/playlist/37i9dQZF1DX5C8ObEZ48JQ',\n",
    "'https://open.spotify.com/playlist/37i9dQZF1DX4Xz5lDbaehp',\n",
    "'https://open.spotify.com/playlist/37i9dQZF1DX2ddCYH6QIK5',\n",
    "'https://open.spotify.com/playlist/37i9dQZF1DX0KBgD4Jf5tY',\n",
    "'https://open.spotify.com/playlist/37i9dQZF1DX5R53BjnKBjk',\n",
    "'https://open.spotify.com/playlist/37i9dQZF1DX7vZYLzFGQXc',\n",
    "'https://open.spotify.com/playlist/37i9dQZF1DXbDSHGzTpRHX',\n",
    "'https://open.spotify.com/playlist/37i9dQZF1DWVhn3qoy98w6',\n",
    "'https://open.spotify.com/playlist/37i9dQZF1DX34s4fg4Zx3Z',\n",
    "'https://open.spotify.com/playlist/37i9dQZF1DX8pdK1PVpBQz',\n",
    "'https://open.spotify.com/playlist/5CweKpXcP6I3p95u8zgIyb' #EDM\n",
    "]"
   ]
  },
  {
   "cell_type": "code",
   "execution_count": 6,
   "metadata": {},
   "outputs": [],
   "source": [
    "# looping through playlist lists to pull all tracks from each list\n",
    "playlist_uris = []\n",
    "\n",
    "for playlist in fresh_finds_playlists:\n",
    "    playlist_uris.append(playlist.split(\"/\")[-1].split(\"?\")[0])"
   ]
  },
  {
   "cell_type": "code",
   "execution_count": 7,
   "metadata": {},
   "outputs": [],
   "source": [
    "# Adding name of Genre to account for songs in multiple playlists\n",
    "playlist_uri_to_name_dict = {}\n",
    "\n",
    "for playlist_uri in playlist_uris:\n",
    "    playlist_name = sp.user_playlist(user=None, playlist_id=playlist_uri, fields=\"name\")['name']\n",
    "    \n",
    "    if playlist_name != \"Fresh Finds\":\n",
    "        playlist_name = playlist_name.split(' ')[-1]\n",
    "    else:\n",
    "        playlist_name = 'All Genres'\n",
    "        \n",
    "    playlist_uri_to_name_dict[playlist_uri] = playlist_name"
   ]
  },
  {
   "cell_type": "code",
   "execution_count": 8,
   "metadata": {},
   "outputs": [],
   "source": [
    "# Creating dict to append to\n",
    "data={}\n",
    "data['track_name'] = []\n",
    "data['popularity'] = []\n",
    "data['album_url'] = []\n",
    "data['playlist_uri'] = []\n",
    "\n",
    "# looping through each playlist\n",
    "for playlist in playlist_uris:\n",
    "    \n",
    "    # looping through each track in playlist to append name, popularity rating (our target variable), and album url to pull artwork.\n",
    "    for track in sp.playlist_tracks(playlist)[\"items\"]:\n",
    "        # track name\n",
    "        data['track_name'].append(track[\"track\"][\"name\"])\n",
    "        # popularity of the track\n",
    "        data['popularity'].append(track[\"track\"][\"popularity\"])\n",
    "        # Cover Art URL\n",
    "        data['album_url'].append(track[\"track\"]['album']['images'][0]['url'])\n",
    "        # playlist URI for matching later\n",
    "        data['playlist_uri'].append(playlist)"
   ]
  },
  {
   "cell_type": "code",
   "execution_count": 9,
   "metadata": {},
   "outputs": [],
   "source": [
    "# creating dataframe from above dictionary\n",
    "df = pd.DataFrame(data)"
   ]
  },
  {
   "cell_type": "code",
   "execution_count": 10,
   "metadata": {},
   "outputs": [],
   "source": [
    "# adding in playlist genre\n",
    "df['playlist_name'] = df.playlist_uri.replace(playlist_uri_to_name_dict)"
   ]
  },
  {
   "cell_type": "code",
   "execution_count": 11,
   "metadata": {},
   "outputs": [],
   "source": [
    "# dropping any potential duplicates \n",
    "df = df.drop_duplicates().reset_index(drop = True)"
   ]
  },
  {
   "cell_type": "code",
   "execution_count": 12,
   "metadata": {},
   "outputs": [],
   "source": [
    "# cleaning track names of characters for cleaner import and export\n",
    "df['track_name_cleaned'] = df.track_name.str.replace(\"(?i)[^0-9a-z!?.;,@' -]\",'')\n",
    "df['track_name_cleaned'] = df.track_name_cleaned.str.replace('.','')\n",
    "df['track_name_cleaned'] = df.track_name_cleaned.str.replace('*','')\n",
    "df['track_name_cleaned'] = df.track_name_cleaned.str.strip()\n",
    "\n",
    "df = df.loc[~(df.track_name_cleaned == '')]"
   ]
  },
  {
   "cell_type": "code",
   "execution_count": 13,
   "metadata": {},
   "outputs": [],
   "source": [
    "# creating a key column to later link album artwork back to target variable ('popularity')\n",
    "df['key'] = df['track_name_cleaned']+\"_\"+df['playlist_name']"
   ]
  },
  {
   "cell_type": "code",
   "execution_count": 14,
   "metadata": {},
   "outputs": [],
   "source": [
    "# sorting data by trackname to match album art with popularity score\n",
    "df = df.sort_values(by='key').reset_index(drop=True)"
   ]
  },
  {
   "cell_type": "code",
   "execution_count": 15,
   "metadata": {},
   "outputs": [],
   "source": [
    "# Going through each URL, downloading the image, and saving it to album_art folder\n",
    "error_list = []\n",
    "for key, url in zip(df['key'], df['album_url']):\n",
    "    \n",
    "    try:\n",
    "        img_data = requests.get(url).content\n",
    "        with open(f'data/album_art/{key}.jpg', 'wb') as handler:\n",
    "            handler.write(img_data)\n",
    "    except:\n",
    "        error_list.append(key)"
   ]
  },
  {
   "cell_type": "code",
   "execution_count": 16,
   "metadata": {},
   "outputs": [],
   "source": [
    "df.to_csv('data/popularity_index.csv')"
   ]
  },
  {
   "cell_type": "markdown",
   "metadata": {},
   "source": [
    "# DATA PULL PT. 2 - CHANGING PIXEL SIZE\n",
    "\n",
    "Our first model took too much computational power, and was unable to exceed one epoch. If the pixels are reduced from >600 to 60, this should allow future models to run without complication"
   ]
  },
  {
   "cell_type": "code",
   "execution_count": 18,
   "metadata": {},
   "outputs": [],
   "source": [
    "# reading in album_art folder to resize and therefore minimize computational complexity and time\n",
    "for name in os.listdir('data/album_art'):\n",
    "    try:\n",
    "        img = Image.open('data/album_art/'+name)\n",
    "        img = img.resize((60,60))\n",
    "        img.save('data/album_art_resized/'+name)\n",
    "    except:\n",
    "        print(name+' did not import')"
   ]
  }
 ],
 "metadata": {
  "kernelspec": {
   "display_name": "Python (learn-env)",
   "language": "python",
   "name": "learn-env"
  },
  "language_info": {
   "codemirror_mode": {
    "name": "ipython",
    "version": 3
   },
   "file_extension": ".py",
   "mimetype": "text/x-python",
   "name": "python",
   "nbconvert_exporter": "python",
   "pygments_lexer": "ipython3",
   "version": "3.8.5"
  }
 },
 "nbformat": 4,
 "nbformat_minor": 4
}
