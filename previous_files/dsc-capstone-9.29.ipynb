{
 "cells": [
  {
   "cell_type": "markdown",
   "metadata": {},
   "source": [
    "# TITLE HERE\n",
    " - Capstone Project\n",
    " - Student- Sabina Bains\n",
    " - Presentation Date- 10/05/2022\n",
    " - Instructor- Abhineet Kulkarni"
   ]
  },
  {
   "cell_type": "markdown",
   "metadata": {},
   "source": [
    "# --------------------------------------- BUSINESS UNDERSTANDING ---------------------------------------------------"
   ]
  },
  {
   "cell_type": "markdown",
   "metadata": {},
   "source": [
    "A picture is said to be worth a thousand words, but does that saying apply to album art? Before streaming services such as Spotify became the preferred format for music consumption,\n",
    "listeners would peruse the aisles of music stores, scanning the album artwork of CD's and Vinyl Records. During this time, album art likely affected what users chose to purchase. Our goal is to predict whether album art still plays a role in the success of the album's music, and if so, which album covers are predicted to be most sucessful?\n",
    "\n",
    "\n",
    "active vs passive listening. \n",
    "album art tells a story and gives context"
   ]
  },
  {
   "cell_type": "markdown",
   "metadata": {},
   "source": [
    "To do this we will experiment with Convolutional Neural Networks, a class of Neural Networks that deals with handling Image data.\n",
    "\n"
   ]
  },
  {
   "cell_type": "markdown",
   "metadata": {},
   "source": [
    "# ------------------------------------------ DATA UNDERSTANDING ------------------------------------------------------"
   ]
  },
  {
   "cell_type": "code",
   "execution_count": 1,
   "metadata": {},
   "outputs": [],
   "source": [
    "# !pip3 install spotipy --upgrade\n",
    "# !pip3 install pillow"
   ]
  },
  {
   "cell_type": "markdown",
   "metadata": {},
   "source": [
    "#### Importing Packages"
   ]
  },
  {
   "cell_type": "code",
   "execution_count": 2,
   "metadata": {},
   "outputs": [],
   "source": [
    "import matplotlib as mpl\n",
    "import matplotlib.pyplot as plt\n",
    "\n",
    "from sklearn.model_selection import train_test_split\n",
    "from matplotlib import image as mpimg\n",
    " \n",
    "from tensorflow.keras.wrappers.scikit_learn import KerasClassifier\n",
    "from keras.models import Sequential\n",
    "from tensorflow.keras import layers\n",
    "from keras.layers import Dense, Dropout, Conv2D, MaxPool2D, Flatten\n",
    "import re\n",
    "from keras.preprocessing.image import ImageDataGenerator, array_to_img, img_to_array, load_img\n",
    "import numpy as np\n",
    "import os\n",
    "\n",
    "# changing colors of output\n",
    "COLOR = 'white'\n",
    "mpl.rcParams['text.color'] = 'grey'\n",
    "mpl.rcParams['axes.labelcolor'] = COLOR\n",
    "mpl.rcParams['xtick.color'] = COLOR\n",
    "mpl.rcParams['ytick.color'] = COLOR\n",
    "\n",
    "import spotipy\n",
    "from spotipy.oauth2 import SpotifyClientCredentials\n",
    "import os\n",
    "import pandas as pd\n",
    "\n",
    "# load and show an image with Pillow\n",
    "from PIL import Image\n",
    "\n",
    "\n",
    "from matplotlib import pyplot\n",
    "\n",
    "import requests\n",
    "\n",
    "from IPython.display import Image as img_display\n",
    "\n",
    "import collections"
   ]
  },
  {
   "cell_type": "markdown",
   "metadata": {},
   "source": [
    "#### Using credentials to pull album art and popularity score (target variable) from Spotify's API (SpotiPy)"
   ]
  },
  {
   "cell_type": "code",
   "execution_count": 3,
   "metadata": {},
   "outputs": [],
   "source": [
    "# User will have to create their own spotipy account and put their own CID and SECRET keys into the following variables\n",
    "creds  = pd.read_csv('data/spotipy_credentials.csv', header = None)\n",
    "\n",
    "cid    = creds[1][0]\n",
    "secret = creds[1][1]"
   ]
  },
  {
   "cell_type": "code",
   "execution_count": 4,
   "metadata": {},
   "outputs": [],
   "source": [
    "# Accessing API\n",
    "client_credentials_manager = SpotifyClientCredentials(client_id=cid, client_secret=secret)\n",
    "sp = spotipy.Spotify(client_credentials_manager = client_credentials_manager)"
   ]
  },
  {
   "cell_type": "code",
   "execution_count": 5,
   "metadata": {},
   "outputs": [],
   "source": [
    "# Creating list of playlists with independent artists to pull album art data from\n",
    "fresh_finds_playlists = [\n",
    "'https://open.spotify.com/playlist/37i9dQZF1DWT0upuUFtT7o',\n",
    "'https://open.spotify.com/playlist/37i9dQZF1DWUFAJPVM3HTX',\n",
    "'https://open.spotify.com/playlist/37i9dQZF1DX3u9TSHqpdJC',\n",
    "'https://open.spotify.com/playlist/37i9dQZF1DWW4igXXl2Qkp',\n",
    "'https://open.spotify.com/playlist/37i9dQZF1DX78toxP7mOaJ',\n",
    "'https://open.spotify.com/playlist/37i9dQZF1DXdS3lvGe1GrT',\n",
    "'https://open.spotify.com/playlist/37i9dQZF1DWYUfsq4hxHWP',\n",
    "'https://open.spotify.com/playlist/37i9dQZF1DX6bBjHfdRnza',\n",
    "'https://open.spotify.com/playlist/37i9dQZF1DX8C585qnMYHP',\n",
    "'https://open.spotify.com/playlist/37i9dQZF1DXcWL5K0oNHcG',\n",
    "'https://open.spotify.com/playlist/37i9dQZF1DWWjGdmeTyeJ6'\n",
    "]"
   ]
  },
  {
   "cell_type": "code",
   "execution_count": 6,
   "metadata": {},
   "outputs": [],
   "source": [
    "# looping through playlist lists to pull all tracks from each list\n",
    "playlist_uris = []\n",
    "\n",
    "for playlist in fresh_finds_playlists:\n",
    "    playlist_uris.append(playlist.split(\"/\")[-1].split(\"?\")[0])"
   ]
  },
  {
   "cell_type": "code",
   "execution_count": 7,
   "metadata": {},
   "outputs": [],
   "source": [
    "playlist_uri_to_name_dict = {}\n",
    "\n",
    "for playlist_uri in playlist_uris:\n",
    "    playlist_name = sp.user_playlist(user=None, playlist_id=playlist_uri, fields=\"name\")['name']\n",
    "    \n",
    "    if playlist_name != \"Fresh Finds\":\n",
    "        playlist_name = playlist_name.split(' ')[-1]\n",
    "    else:\n",
    "        playlist_name = 'All Genres'\n",
    "        \n",
    "    playlist_uri_to_name_dict[playlist_uri] = playlist_name"
   ]
  },
  {
   "cell_type": "code",
   "execution_count": 368,
   "metadata": {},
   "outputs": [
    {
     "data": {
      "text/plain": [
       "{'37i9dQZF1DWT0upuUFtT7o': 'Indie',\n",
       " '37i9dQZF1DWUFAJPVM3HTX': 'R&B',\n",
       " '37i9dQZF1DX3u9TSHqpdJC': 'Pop',\n",
       " '37i9dQZF1DWW4igXXl2Qkp': 'Hip-Hop',\n",
       " '37i9dQZF1DX78toxP7mOaJ': 'Rock',\n",
       " '37i9dQZF1DXdS3lvGe1GrT': 'Folk',\n",
       " '37i9dQZF1DWYUfsq4hxHWP': 'Country',\n",
       " '37i9dQZF1DX6bBjHfdRnza': 'Dance',\n",
       " '37i9dQZF1DX8C585qnMYHP': 'Experimental',\n",
       " '37i9dQZF1DXcWL5K0oNHcG': 'Jazz',\n",
       " '37i9dQZF1DWWjGdmeTyeJ6': 'All Genres'}"
      ]
     },
     "execution_count": 368,
     "metadata": {},
     "output_type": "execute_result"
    }
   ],
   "source": [
    "playlist_uri_to_name_dict"
   ]
  },
  {
   "cell_type": "code",
   "execution_count": 8,
   "metadata": {},
   "outputs": [],
   "source": [
    "# Creating dict to append to\n",
    "data={}\n",
    "data['track_name'] = []\n",
    "data['popularity'] = []\n",
    "data['album_url'] = []\n",
    "data['playlist_uri'] = []\n",
    "\n",
    "\n",
    "# looping through each playlist\n",
    "for playlist in playlist_uris:\n",
    "    \n",
    "    # looping through each track in playlist to append name, popularity rating (our target variable), and album url to pull artwork.\n",
    "    for track in sp.playlist_tracks(playlist)[\"items\"]:\n",
    "        # track name\n",
    "        data['track_name'].append(track[\"track\"][\"name\"])\n",
    "        # popularity of the track\n",
    "        data['popularity'].append(track[\"track\"][\"popularity\"])\n",
    "        # Cover Art URL\n",
    "        data['album_url'].append(track[\"track\"]['album']['images'][0]['url'])\n",
    "        # playlist URI for matching later\n",
    "        data['playlist_uri'].append(playlist)"
   ]
  },
  {
   "cell_type": "code",
   "execution_count": 372,
   "metadata": {},
   "outputs": [
    {
     "data": {
      "text/plain": [
       "'https://i.scdn.co/image/ab67616d0000b273420e1e20bcaf6fdab9ddefa4'"
      ]
     },
     "execution_count": 372,
     "metadata": {},
     "output_type": "execute_result"
    }
   ],
   "source": [
    "data['album_url'][0]"
   ]
  },
  {
   "cell_type": "code",
   "execution_count": 9,
   "metadata": {},
   "outputs": [],
   "source": [
    "# creating dataframe from above dictionary\n",
    "df = pd.DataFrame(data)"
   ]
  },
  {
   "cell_type": "code",
   "execution_count": 10,
   "metadata": {},
   "outputs": [],
   "source": [
    "# adding in playlist genre\n",
    "df['playlist_name'] = df.playlist_uri.replace(playlist_uri_to_name_dict)"
   ]
  },
  {
   "cell_type": "code",
   "execution_count": 11,
   "metadata": {},
   "outputs": [
    {
     "data": {
      "text/plain": [
       "910"
      ]
     },
     "execution_count": 11,
     "metadata": {},
     "output_type": "execute_result"
    }
   ],
   "source": [
    "len(df)"
   ]
  },
  {
   "cell_type": "code",
   "execution_count": 12,
   "metadata": {},
   "outputs": [],
   "source": [
    "# dropping any potential duplicates \n",
    "df = df.drop_duplicates().reset_index(drop = True)"
   ]
  },
  {
   "cell_type": "code",
   "execution_count": 13,
   "metadata": {},
   "outputs": [],
   "source": [
    "# cleaning track names of characters for cleaner import and export\n",
    "df['track_name_cleaned'] = df.track_name.str.replace(\"(?i)[^0-9a-z!?.;,@' -]\",'')\n",
    "df['track_name_cleaned'] = df.track_name_cleaned.str.replace('.','')\n",
    "df['track_name_cleaned'] = df.track_name_cleaned.str.replace('*','')\n",
    "df['track_name_cleaned'] = df.track_name_cleaned.str.strip()"
   ]
  },
  {
   "cell_type": "code",
   "execution_count": 14,
   "metadata": {},
   "outputs": [],
   "source": [
    "df['key'] = df['track_name_cleaned']+\"_\"+df['playlist_name']"
   ]
  },
  {
   "cell_type": "code",
   "execution_count": 15,
   "metadata": {},
   "outputs": [],
   "source": [
    "# sorting data by trackname to match album art with popularity score\n",
    "df = df.sort_values(by='key').reset_index(drop=True)"
   ]
  },
  {
   "cell_type": "code",
   "execution_count": 16,
   "metadata": {},
   "outputs": [],
   "source": [
    "# # Going through each URL, downloading the image, and saving it to album_art folder\n",
    "# error_list = []\n",
    "# for key, url in zip(df['key'], df['album_url']):\n",
    "    \n",
    "#     try:\n",
    "#         img_data = requests.get(url).content\n",
    "#         with open(f'data/album_art/{key}.jpg', 'wb') as handler:\n",
    "#             handler.write(img_data)\n",
    "#     except:\n",
    "#         error_list.append(key)"
   ]
  },
  {
   "cell_type": "code",
   "execution_count": 17,
   "metadata": {},
   "outputs": [
    {
     "data": {
      "image/png": "[encoded data removed]",
      "text/plain": [
       "<Figure size 432x288 with 1 Axes>"
      ]
     },
     "metadata": {
      "needs_background": "dark"
     },
     "output_type": "display_data"
    }
   ],
   "source": [
    "# Displaying example of photo\n",
    "album_art_example = mpimg.imread(\"data/album_art/\"+df.key[0]+\".jpg\")\n",
    "plt.imshow(album_art_example)\n",
    "\n",
    "\n",
    "plt.title(\"Album Artwork for\"+df.key[0])\n",
    "plt.xlabel(\"X pixel scaling\")\n",
    "plt.ylabel(\"Y pixels scaling\")\n",
    "\n",
    "\n",
    "plt.show()"
   ]
  },
  {
   "cell_type": "code",
   "execution_count": 18,
   "metadata": {},
   "outputs": [
    {
     "name": "stdout",
     "output_type": "stream",
     "text": [
      "Say Datt_Hip-Hop.jpg was resized to (640, 640, 3)\n",
      ".DS_Store did not import\n",
      "Consolation Prize_Rock.jpg was resized to (640, 640, 3)\n",
      "Family Man_Rock.jpg was resized to (640, 640, 3)\n",
      "Say Datt_All Genres.jpg was resized to (640, 640, 3)\n",
      "Goner feat Kellin Quinn_Rock.jpg was resized to (640, 640, 3)\n",
      "At Least_Folk.jpg was resized to (640, 640, 3)\n",
      "Portals_R&B.jpg was resized to (640, 640, 3)\n",
      "Face the Music_Experimental.jpg was resized to (640, 640, 3)\n",
      "Grimiest Ever_Dance.jpg was resized to (640, 640, 3)\n",
      "WORK 4 A SMILE DEMO_R&B.jpg was resized to (640, 640, 3)\n",
      "The Wolves_Country.jpg was resized to (640, 640, 3)\n",
      "Black Visa_Hip-Hop.jpg was resized to (640, 640, 3)\n"
     ]
    }
   ],
   "source": [
    "# importing saved album art files as values in dictionary, with key being the track name. This is so we can later tie the target variable to the features (album art)\n",
    "\n",
    "# initializing dict\n",
    "image_dict = {}\n",
    "\n",
    "# looping through each album art saved\n",
    "for file in os.listdir(\"data/album_art/\"):\n",
    "    \n",
    "    filename = file.split('.jpg')[0]\n",
    "    \n",
    "    # assigning track name as key, and value as matrix form of album art (Height, Width, Depth)\n",
    "    try:\n",
    "        image_dict[filename] = (mpimg.imread('data/album_art/'+file))\n",
    "        \n",
    "        # Not including image if it is not in uniform shape\n",
    "        if image_dict[filename].shape == (640,640):\n",
    "                image_dict[filename] = np.stack((image_dict[filename],)*3, axis=-1)\n",
    "                \n",
    "                newshape = image_dict[filename].shape\n",
    "                print(file+' was resized to '+str(newshape)) \n",
    "            \n",
    "        if image_dict[filename].shape != (640,640,3):\n",
    "            del image_dict[filename]\n",
    "            \n",
    "    # created error list to observe files that were not read in properly        \n",
    "    except:\n",
    "        print(file+' did not import')"
   ]
  },
  {
   "cell_type": "code",
   "execution_count": 19,
   "metadata": {},
   "outputs": [],
   "source": [
    "# filtering down dataframe so that only the files that were read in properly are included. \n",
    "filtered_df = df.loc[df.key.isin(image_dict.keys())]"
   ]
  },
  {
   "cell_type": "code",
   "execution_count": 20,
   "metadata": {},
   "outputs": [
    {
     "data": {
      "text/plain": [
       "0"
      ]
     },
     "execution_count": 20,
     "metadata": {},
     "output_type": "execute_result"
    }
   ],
   "source": [
    "filtered_df.duplicated().sum()"
   ]
  },
  {
   "cell_type": "code",
   "execution_count": 21,
   "metadata": {},
   "outputs": [
    {
     "name": "stdout",
     "output_type": "stream",
     "text": [
      "Could not find associated value for Feels Like_Country, delete from the album art dictionary\n",
      "Could not find associated value for Kinda Don't Ever_Country, delete from the album art dictionary\n",
      "Could not find associated value for Never Buy My Love_All Genres, delete from the album art dictionary\n",
      "Could not find associated value for Sky View_Jazz, delete from the album art dictionary\n",
      "Could not find associated value for Dead Friends_Folk, delete from the album art dictionary\n",
      "Could not find associated value for Megachurch_Folk, delete from the album art dictionary\n",
      "Could not find associated value for Time Traveller_Experimental, delete from the album art dictionary\n",
      "Could not find associated value for Museum_All Genres, delete from the album art dictionary\n",
      "Could not find associated value for Threads_All Genres, delete from the album art dictionary\n",
      "Could not find associated value for The Reproach_R&B, delete from the album art dictionary\n",
      "Could not find associated value for Breakthrough_Jazz, delete from the album art dictionary\n",
      "Could not find associated value for Spit Me Out_Rock, delete from the album art dictionary\n",
      "Could not find associated value for Tequila Money_All Genres, delete from the album art dictionary\n",
      "Could not find associated value for Sleeping Tiger on the Bund  - Flora Wong Remix_Experimental, delete from the album art dictionary\n",
      "Could not find associated value for Be-Leavin_Country, delete from the album art dictionary\n",
      "Could not find associated value for SICK!_Dance, delete from the album art dictionary\n",
      "Could not find associated value for It's All Good_Country, delete from the album art dictionary\n",
      "Could not find associated value for Trail_Experimental, delete from the album art dictionary\n",
      "Could not find associated value for Was it obvious?_Indie, delete from the album art dictionary\n",
      "Could not find associated value for Lesson I Ain't Learned_All Genres, delete from the album art dictionary\n",
      "Could not find associated value for Judas_All Genres, delete from the album art dictionary\n",
      "Could not find associated value for 19_All Genres, delete from the album art dictionary\n",
      "Could not find associated value for Yaksha_Dance, delete from the album art dictionary\n",
      "Could not find associated value for Something To Give_Dance, delete from the album art dictionary\n",
      "Could not find associated value for New Dreams_Jazz, delete from the album art dictionary\n",
      "Could not find associated value for rationality  faith - Pala Chrome Remix_Dance, delete from the album art dictionary\n",
      "Could not find associated value for Who_All Genres, delete from the album art dictionary\n",
      "Could not find associated value for life you lead_All Genres, delete from the album art dictionary\n",
      "Could not find associated value for Flowers From Japan_Indie, delete from the album art dictionary\n",
      "Could not find associated value for Control Dem_All Genres, delete from the album art dictionary\n",
      "Could not find associated value for Persuaded_All Genres, delete from the album art dictionary\n",
      "Could not find associated value for Listen Up!_Rock, delete from the album art dictionary\n",
      "Could not find associated value for Love Feels_Dance, delete from the album art dictionary\n",
      "Could not find associated value for Casanova_Indie, delete from the album art dictionary\n",
      "Could not find associated value for Pinocchio Drift_Jazz, delete from the album art dictionary\n",
      "Could not find associated value for Why I Called_Country, delete from the album art dictionary\n",
      "Could not find associated value for Placeholder_Country, delete from the album art dictionary\n",
      "Could not find associated value for TOP DOWN_Hip-Hop, delete from the album art dictionary\n",
      "Could not find associated value for Close_R&B, delete from the album art dictionary\n",
      "Could not find associated value for seeker missile_Indie, delete from the album art dictionary\n",
      "Could not find associated value for vancouver_All Genres, delete from the album art dictionary\n",
      "Could not find associated value for Why Do I_Country, delete from the album art dictionary\n",
      "Could not find associated value for Sirens Riddim_All Genres, delete from the album art dictionary\n",
      "Could not find associated value for Sober_Pop, delete from the album art dictionary\n",
      "Could not find associated value for Dolmus Havasi_Jazz, delete from the album art dictionary\n",
      "Could not find associated value for Romeo_Country, delete from the album art dictionary\n",
      "Could not find associated value for Baggage_R&B, delete from the album art dictionary\n",
      "Could not find associated value for Alone Girl_Dance, delete from the album art dictionary\n",
      "Could not find associated value for Lost in a Country Song_Country, delete from the album art dictionary\n",
      "Could not find associated value for Dragonfly Meditation_Jazz, delete from the album art dictionary\n",
      "Could not find associated value for Spice Talk_All Genres, delete from the album art dictionary\n",
      "Could not find associated value for Sweat_All Genres, delete from the album art dictionary\n",
      "Could not find associated value for Bonfire_Indie, delete from the album art dictionary\n",
      "Could not find associated value for Remorse_Experimental, delete from the album art dictionary\n",
      "Could not find associated value for Cycles feat Isaiah_All Genres, delete from the album art dictionary\n",
      "Could not find associated value for Pinto_Country, delete from the album art dictionary\n",
      "Could not find associated value for Boa_Indie, delete from the album art dictionary\n",
      "Could not find associated value for Xid_Experimental, delete from the album art dictionary\n",
      "Could not find associated value for Whiskey Lies_Country, delete from the album art dictionary\n",
      "Could not find associated value for Here_R&B, delete from the album art dictionary\n",
      "Could not find associated value for Worlds Within Worlds_Jazz, delete from the album art dictionary\n",
      "Could not find associated value for Incognito_R&B, delete from the album art dictionary\n",
      "Could not find associated value for Sunday Toasted_Country, delete from the album art dictionary\n",
      "Could not find associated value for Myth Machine_Experimental, delete from the album art dictionary\n",
      "Could not find associated value for Never Have I Ever_Country, delete from the album art dictionary\n",
      "Could not find associated value for In the Pitt_Jazz, delete from the album art dictionary\n",
      "Could not find associated value for Monterosso_Dance, delete from the album art dictionary\n",
      "Could not find associated value for Heartbreak_Country, delete from the album art dictionary\n",
      "Could not find associated value for Sleep In_Rock, delete from the album art dictionary\n",
      "Could not find associated value for Over You_Country, delete from the album art dictionary\n",
      "Could not find associated value for Best Part of You_R&B, delete from the album art dictionary\n",
      "Could not find associated value for Get Paid_R&B, delete from the album art dictionary\n",
      "Could not find associated value for Between All Things_All Genres, delete from the album art dictionary\n",
      "Could not find associated value for Dust_Country, delete from the album art dictionary\n",
      "Could not find associated value for Break These Chains_Country, delete from the album art dictionary\n",
      "Could not find associated value for FIST_All Genres, delete from the album art dictionary\n",
      "Could not find associated value for still into u_Dance, delete from the album art dictionary\n",
      "Could not find associated value for Jolly Good Fela_Jazz, delete from the album art dictionary\n",
      "Could not find associated value for You Follow Me Around_Rock, delete from the album art dictionary\n",
      "Could not find associated value for Hop Out 2_All Genres, delete from the album art dictionary\n",
      "Could not find associated value for Heart Exam_Jazz, delete from the album art dictionary\n",
      "Could not find associated value for Muzik_All Genres, delete from the album art dictionary\n",
      "Could not find associated value for Second Love_Experimental, delete from the album art dictionary\n",
      "Could not find associated value for Luv Interlude_R&B, delete from the album art dictionary\n",
      "Could not find associated value for Crush_Country, delete from the album art dictionary\n",
      "Could not find associated value for New Year's Resolution_Indie, delete from the album art dictionary\n",
      "Could not find associated value for Fall In_R&B, delete from the album art dictionary\n",
      "Could not find associated value for Myth Machine_All Genres, delete from the album art dictionary\n",
      "Could not find associated value for Life  Living_Country, delete from the album art dictionary\n",
      "Could not find associated value for Be Mine_Indie, delete from the album art dictionary\n",
      "Could not find associated value for Worse Than Me_Country, delete from the album art dictionary\n",
      "Could not find associated value for The Assistant Marten_Experimental, delete from the album art dictionary\n",
      "Could not find associated value for Rich People Problems_Country, delete from the album art dictionary\n",
      "Could not find associated value for Tears Into Diamonds_Country, delete from the album art dictionary\n",
      "Could not find associated value for I've Been Down_Indie, delete from the album art dictionary\n",
      "Could not find associated value for Agenda_Hip-Hop, delete from the album art dictionary\n",
      "Could not find associated value for lily of the valley_Folk, delete from the album art dictionary\n",
      "Could not find associated value for AHBC_Experimental, delete from the album art dictionary\n",
      "Could not find associated value for The Metallic Index_All Genres, delete from the album art dictionary\n",
      "Could not find associated value for Stationmaster_Experimental, delete from the album art dictionary\n",
      "Could not find associated value for Derby Glen Ln_Country, delete from the album art dictionary\n",
      "Could not find associated value for Petroleum_Dance, delete from the album art dictionary\n",
      "Could not find associated value for Closer_Dance, delete from the album art dictionary\n",
      "Could not find associated value for Sandcastle_All Genres, delete from the album art dictionary\n",
      "Could not find associated value for 30 Thousand Feet I Ain't_Country, delete from the album art dictionary\n",
      "Could not find associated value for Yiyo_All Genres, delete from the album art dictionary\n",
      "Could not find associated value for Chevrolaid Back_Country, delete from the album art dictionary\n",
      "Could not find associated value for Ink_All Genres, delete from the album art dictionary\n",
      "Could not find associated value for Ghostbuster_Indie, delete from the album art dictionary\n",
      "Could not find associated value for Statistics_All Genres, delete from the album art dictionary\n",
      "Could not find associated value for The One_Country, delete from the album art dictionary\n",
      "Could not find associated value for she's in a cage_Indie, delete from the album art dictionary\n",
      "Could not find associated value for Tap_Experimental, delete from the album art dictionary\n",
      "Could not find associated value for Fireball_Country, delete from the album art dictionary\n",
      "Could not find associated value for MUTUAL - ACOUSTIC LIVE_All Genres, delete from the album art dictionary\n",
      "Could not find associated value for Tequila Money_Country, delete from the album art dictionary\n",
      "Could not find associated value for 5 MO' MINUTES_All Genres, delete from the album art dictionary\n",
      "Could not find associated value for That's Deep_Dance, delete from the album art dictionary\n",
      "Could not find associated value for Mac and Steeze_Rock, delete from the album art dictionary\n",
      "Could not find associated value for Say Datt_All Genres, delete from the album art dictionary\n",
      "Could not find associated value for i stayed awake_All Genres, delete from the album art dictionary\n",
      "Could not find associated value for Timbuktu_Country, delete from the album art dictionary\n",
      "Could not find associated value for Supernova_Dance, delete from the album art dictionary\n",
      "Could not find associated value for The Hopeful Kind_Indie, delete from the album art dictionary\n",
      "Could not find associated value for Starting Over_Rock, delete from the album art dictionary\n",
      "Could not find associated value for Sunday Groove_Jazz, delete from the album art dictionary\n",
      "Could not find associated value for Memory Man_Jazz, delete from the album art dictionary\n",
      "Could not find associated value for A Month Ago_All Genres, delete from the album art dictionary\n",
      "Could not find associated value for Back to you_All Genres, delete from the album art dictionary\n",
      "Could not find associated value for Thank God for Good Friends_Country, delete from the album art dictionary\n",
      "Could not find associated value for For the Weekend_Country, delete from the album art dictionary\n",
      "Could not find associated value for Wrong Side of Town_Rock, delete from the album art dictionary\n",
      "Could not find associated value for Drink to That_Country, delete from the album art dictionary\n",
      "Could not find associated value for TONGUE TIED_R&B, delete from the album art dictionary\n",
      "Could not find associated value for i got what i asked for_All Genres, delete from the album art dictionary\n",
      "Could not find associated value for Black Gold - Radio Edit_Rock, delete from the album art dictionary\n",
      "Could not find associated value for int4rmission!_Indie, delete from the album art dictionary\n",
      "Could not find associated value for Fast Car_Rock, delete from the album art dictionary\n",
      "Could not find associated value for Girlfriend with Magical Ears_Jazz, delete from the album art dictionary\n",
      "Could not find associated value for Letting Go_Indie, delete from the album art dictionary\n",
      "Could not find associated value for A Lot to Drink About_Country, delete from the album art dictionary\n",
      "Could not find associated value for Breathe_R&B, delete from the album art dictionary\n",
      "Could not find associated value for Queen St_R&B, delete from the album art dictionary\n",
      "Could not find associated value for Like Bill_Hip-Hop, delete from the album art dictionary\n",
      "Could not find associated value for Jesper_All Genres, delete from the album art dictionary\n",
      "Could not find associated value for Garden_All Genres, delete from the album art dictionary\n",
      "Could not find associated value for Anime Flashbacks_Rock, delete from the album art dictionary\n",
      "Could not find associated value for Persuaded_Country, delete from the album art dictionary\n",
      "Could not find associated value for H2O interlude_All Genres, delete from the album art dictionary\n",
      "Could not find associated value for heaven_Indie, delete from the album art dictionary\n",
      "Could not find associated value for YOU_All Genres, delete from the album art dictionary\n",
      "Could not find associated value for Drumatix_Jazz, delete from the album art dictionary\n",
      "Could not find associated value for Play_All Genres, delete from the album art dictionary\n",
      "Could not find associated value for THE 55_Indie, delete from the album art dictionary\n",
      "Could not find associated value for Ain't Nothin' New_Country, delete from the album art dictionary\n",
      "Could not find associated value for Bloom_Dance, delete from the album art dictionary\n",
      "Could not find associated value for Playboy_All Genres, delete from the album art dictionary\n",
      "Could not find associated value for Get Even_Country, delete from the album art dictionary\n",
      "Could not find associated value for Who Would've Known_Country, delete from the album art dictionary\n",
      "Could not find associated value for Kommissar Brenkstrupp Main Titles_All Genres, delete from the album art dictionary\n",
      "Could not find associated value for Made 4_Country, delete from the album art dictionary\n",
      "Could not find associated value for to all the plants i loved_All Genres, delete from the album art dictionary\n",
      "Could not find associated value for Trenches_Country, delete from the album art dictionary\n",
      "Could not find associated value for Make It Last Forever_All Genres, delete from the album art dictionary\n",
      "Could not find associated value for Something New_Rock, delete from the album art dictionary\n",
      "Could not find associated value for Lemonade_All Genres, delete from the album art dictionary\n",
      "Could not find associated value for Stereo_Dance, delete from the album art dictionary\n",
      "Could not find associated value for Keepsakes_Jazz, delete from the album art dictionary\n",
      "Could not find associated value for Somebody's Hometown_Country, delete from the album art dictionary\n",
      "Could not find associated value for untitled_Folk, delete from the album art dictionary\n",
      "Could not find associated value for Never Been so Fine_Indie, delete from the album art dictionary\n",
      "Could not find associated value for YA YA YA_All Genres, delete from the album art dictionary\n",
      "Could not find associated value for RAGGA_R&B, delete from the album art dictionary\n",
      "Could not find associated value for Stay_Dance, delete from the album art dictionary\n",
      "Could not find associated value for I Hate Cardio_All Genres, delete from the album art dictionary\n",
      "Could not find associated value for Lost Track of Summer_Country, delete from the album art dictionary\n",
      "Could not find associated value for Weightless_All Genres, delete from the album art dictionary\n",
      "Could not find associated value for Complicated_All Genres, delete from the album art dictionary\n",
      "Could not find associated value for 30_Experimental, delete from the album art dictionary\n",
      "Could not find associated value for .SYSTVMRVSTVRT, delete from the album art dictionary\n",
      "Could not find associated value for Didn't Have to Drink_Country, delete from the album art dictionary\n",
      "Could not find associated value for Every Girl is You_Country, delete from the album art dictionary\n",
      "Could not find associated value for Billboard_Country, delete from the album art dictionary\n",
      "Could not find associated value for Off The Edge_All Genres, delete from the album art dictionary\n",
      "Could not find associated value for Up for Anything_Country, delete from the album art dictionary\n",
      "Could not find associated value for Remember_Dance, delete from the album art dictionary\n",
      "Could not find associated value for December_Folk, delete from the album art dictionary\n",
      "Could not find associated value for One And Only_Country, delete from the album art dictionary\n",
      "Could not find associated value for Y So Angry_Jazz, delete from the album art dictionary\n",
      "Could not find associated value for Hours_All Genres, delete from the album art dictionary\n",
      "Could not find associated value for Her song_Folk, delete from the album art dictionary\n",
      "Could not find associated value for Face the Music_Experimental, delete from the album art dictionary\n",
      "Could not find associated value for Much More_R&B, delete from the album art dictionary\n",
      "Could not find associated value for .SYSTVMRVSTVRT*, delete from the album art dictionary\n",
      "Could not find associated value for Planta Dance_Experimental, delete from the album art dictionary\n",
      "Could not find associated value for Viral_Dance, delete from the album art dictionary\n",
      "Could not find associated value for Feels Like_Dance, delete from the album art dictionary\n",
      "Could not find associated value for Whiskey In Me_Country, delete from the album art dictionary\n",
      "Could not find associated value for Free Yola_All Genres, delete from the album art dictionary\n",
      "Could not find associated value for Burn Me Out_Country, delete from the album art dictionary\n",
      "Could not find associated value for Bald_All Genres, delete from the album art dictionary\n",
      "Could not find associated value for pbr_Indie, delete from the album art dictionary\n",
      "Could not find associated value for Jam It Up_Dance, delete from the album art dictionary\n",
      "Could not find associated value for The Way You Dance_Country, delete from the album art dictionary\n",
      "Could not find associated value for Warp Speed_Jazz, delete from the album art dictionary\n",
      "Could not find associated value for Station 5_Dance, delete from the album art dictionary\n",
      "Could not find associated value for Soar_Experimental, delete from the album art dictionary\n",
      "Could not find associated value for The Florist_Indie, delete from the album art dictionary\n",
      "Could not find associated value for Married to the Ground_Folk, delete from the album art dictionary\n",
      "Could not find associated value for Just Wanna Love You_All Genres, delete from the album art dictionary\n",
      "Could not find associated value for 7 Seconds_All Genres, delete from the album art dictionary\n",
      "Could not find associated value for Remorse_All Genres, delete from the album art dictionary\n",
      "Could not find associated value for Flower Power_Jazz, delete from the album art dictionary\n",
      "Could not find associated value for Well Enough Alone_Country, delete from the album art dictionary\n",
      "Could not find associated value for Can't Swim_R&B, delete from the album art dictionary\n",
      "Could not find associated value for Somebody New_Indie, delete from the album art dictionary\n",
      "Could not find associated value for I Can_Rock, delete from the album art dictionary\n",
      "Could not find associated value for Ef_All Genres, delete from the album art dictionary\n",
      "Could not find associated value for Only One_Dance, delete from the album art dictionary\n",
      "Could not find associated value for Im Here With You_R&B, delete from the album art dictionary\n",
      "Could not find associated value for Kristine - Edit_Experimental, delete from the album art dictionary\n",
      "Could not find associated value for Feelings_Hip-Hop, delete from the album art dictionary\n"
     ]
    }
   ],
   "source": [
    "del_list = []\n",
    "\n",
    "for key in image_dict.keys():\n",
    "    if key in df.key.to_list():\n",
    "        pass\n",
    "    else:\n",
    "        print(\"Could not find associated value for \"+key+\", delete from the album art dictionary\")\n",
    "        del_list.append(key)\n",
    "        \n",
    "for key in del_list:\n",
    "    del image_dict[key]"
   ]
  },
  {
   "cell_type": "code",
   "execution_count": 22,
   "metadata": {},
   "outputs": [],
   "source": [
    "# Sorting Dictionary to match DataFrame order\n",
    "image_dict = collections.OrderedDict(sorted(image_dict.items()))"
   ]
  },
  {
   "cell_type": "code",
   "execution_count": 23,
   "metadata": {},
   "outputs": [
    {
     "data": {
      "text/plain": [
       "True"
      ]
     },
     "execution_count": 23,
     "metadata": {},
     "output_type": "execute_result"
    }
   ],
   "source": [
    "# Checking if order of names matches, so we can accuractly match features with target data. \n",
    "filtered_df.key.to_list() == list(image_dict.keys())"
   ]
  },
  {
   "cell_type": "markdown",
   "metadata": {},
   "source": [
    "# -------------------------------------------- DATA PREPARATION --------------------------------------------------------"
   ]
  },
  {
   "cell_type": "code",
   "execution_count": 24,
   "metadata": {},
   "outputs": [],
   "source": [
    "X = np.array(list(image_dict.values()))"
   ]
  },
  {
   "cell_type": "code",
   "execution_count": 25,
   "metadata": {},
   "outputs": [
    {
     "data": {
      "text/plain": [
       "(655, 640, 640, 3)"
      ]
     },
     "execution_count": 25,
     "metadata": {},
     "output_type": "execute_result"
    }
   ],
   "source": [
    "X.shape"
   ]
  },
  {
   "cell_type": "code",
   "execution_count": 26,
   "metadata": {},
   "outputs": [],
   "source": [
    "y = np.array(filtered_df.popularity).reshape(len(filtered_df.popularity), 1)"
   ]
  },
  {
   "cell_type": "code",
   "execution_count": 27,
   "metadata": {},
   "outputs": [
    {
     "data": {
      "text/plain": [
       "(655, 1)"
      ]
     },
     "execution_count": 27,
     "metadata": {},
     "output_type": "execute_result"
    }
   ],
   "source": [
    "y.shape"
   ]
  },
  {
   "cell_type": "code",
   "execution_count": 28,
   "metadata": {},
   "outputs": [],
   "source": [
    "# Split the data into Train and Test, so we can later validate our model on \"unseen\" data.\n",
    "X_train, X_test, y_train, y_test = train_test_split(X, y, test_size=0.25)"
   ]
  },
  {
   "cell_type": "code",
   "execution_count": 29,
   "metadata": {},
   "outputs": [],
   "source": [
    "X_train = X_train / 255\n",
    "X_test  = X_test  / 255"
   ]
  },
  {
   "cell_type": "code",
   "execution_count": null,
   "metadata": {},
   "outputs": [],
   "source": []
  },
  {
   "cell_type": "markdown",
   "metadata": {},
   "source": [
    "# ----------------------------------------------------- MODELING ---------------------------------------------------------"
   ]
  },
  {
   "cell_type": "code",
   "execution_count": 337,
   "metadata": {},
   "outputs": [],
   "source": [
    "def plot_history(model, history, X_test, y_test):\n",
    "    \n",
    "    plt.plot(history.history['mse'], label='mse')\n",
    "    plt.plot(history.history['val_mse'], label = 'val_mse')\n",
    "    \n",
    "    plt.xlabel('Epoch')\n",
    "    plt.ylabel('Mean Squared Error')\n",
    "    plt.legend(loc='upper right')\n",
    "    \n",
    "    loss, mse = model.evaluate(X_test,  y_test)\n",
    "    print(\"Root Mean Squared Error: {:.1f}\".format(np.sqrt(mse)))\n",
    "    return mse"
   ]
  },
  {
   "cell_type": "code",
   "execution_count": 338,
   "metadata": {},
   "outputs": [],
   "source": [
    "def plot_scatter(model, X_test):\n",
    "    \n",
    "    y_hat = model.predict(X_test);\n",
    "    \n",
    "    error = y_test - y_hat\n",
    "    rmse = np.sqrt(np.mean(error**2))\n",
    "\n",
    "    plt.figure(figsize=(5, 5))\n",
    "    plt.scatter(y_hat,y_test)\n",
    "    plt.xlabel(\"Predicted Value\")\n",
    "    plt.ylabel(\"True Value\")\n",
    "    yvy = np.linspace(10,55,2)\n",
    "    plt.plot(yvy, yvy, color='red', linestyle='dashed')\n",
    "    plt.xlim([10, 55])\n",
    "    plt.ylim([10, 55])"
   ]
  },
  {
   "cell_type": "markdown",
   "metadata": {},
   "source": [
    "#### Baseline Model: Convolutional Neural Network with a flattening layer. "
   ]
  },
  {
   "cell_type": "code",
   "execution_count": 239,
   "metadata": {},
   "outputs": [],
   "source": [
    "baseline_model = Sequential()\n",
    "baseline_model.add(layers.Conv2D(64, kernel_size=(3,3), input_shape = X_train[0].shape))\n",
    "baseline_model.add(Flatten())\n",
    "baseline_model.add(layers.Dense(1, activation='linear'))"
   ]
  },
  {
   "cell_type": "code",
   "execution_count": 240,
   "metadata": {},
   "outputs": [],
   "source": [
    "baseline_model.compile(optimizer='adam',\n",
    "              loss='mse',\n",
    "              metrics=['mse'])"
   ]
  },
  {
   "cell_type": "code",
   "execution_count": 241,
   "metadata": {},
   "outputs": [],
   "source": [
    "# baseline_history = baseline_model.fit(X_train, y_train, epochs=1, \n",
    "#                     validation_data=(X_test, y_test))"
   ]
  },
  {
   "cell_type": "markdown",
   "metadata": {},
   "source": [
    "### DATA PROCESSING PT. 2 - CHANGING PIXEL SIZE"
   ]
  },
  {
   "cell_type": "code",
   "execution_count": 242,
   "metadata": {},
   "outputs": [],
   "source": [
    "# for name in os.listdir('data/album_art'):\n",
    "#     try:\n",
    "#         img = Image.open('data/album_art/'+name)\n",
    "#         img = img.resize((60,60))\n",
    "#         img.save('data/album_art_resized/'+name)\n",
    "#     except:\n",
    "#         print(name+' did not import')"
   ]
  },
  {
   "cell_type": "code",
   "execution_count": 35,
   "metadata": {},
   "outputs": [
    {
     "name": "stdout",
     "output_type": "stream",
     "text": [
      "Say Datt_Hip-Hop.jpg was resized to (60, 60, 3)\n",
      ".DS_Store did not import\n",
      "Consolation Prize_Rock.jpg was resized to (60, 60, 3)\n",
      "Family Man_Rock.jpg was resized to (60, 60, 3)\n",
      "Say Datt_All Genres.jpg was resized to (60, 60, 3)\n",
      "Goner feat Kellin Quinn_Rock.jpg was resized to (60, 60, 3)\n",
      "At Least_Folk.jpg was resized to (60, 60, 3)\n",
      "Portals_R&B.jpg was resized to (60, 60, 3)\n",
      "Face the Music_Experimental.jpg was resized to (60, 60, 3)\n",
      "Grimiest Ever_Dance.jpg was resized to (60, 60, 3)\n",
      "WORK 4 A SMILE DEMO_R&B.jpg was resized to (60, 60, 3)\n",
      "The Wolves_Country.jpg was resized to (60, 60, 3)\n",
      "Black Visa_Hip-Hop.jpg was resized to (60, 60, 3)\n"
     ]
    }
   ],
   "source": [
    "# importing saved album art files as values in dictionary, with key being the track name. This is so we can later tie the target variable to the features (album art)\n",
    "\n",
    "# initializing dict\n",
    "resized_image_dict = {}\n",
    "\n",
    "# looping through each album art saved\n",
    "for file in os.listdir(\"data/album_art_resized/\"):\n",
    "    \n",
    "    filename = file.split('.jpg')[0]\n",
    "    \n",
    "    # assigning track name as key, and value as matrix form of album art (Height, Width, Depth)\n",
    "    try:\n",
    "        resized_image_dict[filename] = (mpimg.imread('data/album_art_resized/'+file))\n",
    "        \n",
    "        # Not including image if it is not in uniform shape\n",
    "        if resized_image_dict[filename].shape == (60,60):\n",
    "                resized_image_dict[filename] = np.stack((resized_image_dict[filename],)*3, axis=-1)\n",
    "                \n",
    "                newshape = resized_image_dict[filename].shape\n",
    "                print(file+' was resized to '+str(newshape)) \n",
    "            \n",
    "        if resized_image_dict[filename].shape != (60,60,3):\n",
    "            del resized_image_dict[filename]\n",
    "            \n",
    "    # created error list to observe files that were not read in properly        \n",
    "    except:\n",
    "        print(file+' did not import')"
   ]
  },
  {
   "cell_type": "code",
   "execution_count": 36,
   "metadata": {},
   "outputs": [],
   "source": [
    "# filtering down dataframe so that only the files that were read in properly are included. \n",
    "resized_filtered_df = df.loc[df.key.isin(resized_image_dict.keys())]"
   ]
  },
  {
   "cell_type": "code",
   "execution_count": 37,
   "metadata": {},
   "outputs": [
    {
     "data": {
      "text/plain": [
       "665"
      ]
     },
     "execution_count": 37,
     "metadata": {},
     "output_type": "execute_result"
    }
   ],
   "source": [
    "len(resized_filtered_df)"
   ]
  },
  {
   "cell_type": "code",
   "execution_count": 38,
   "metadata": {},
   "outputs": [
    {
     "data": {
      "text/plain": [
       "0"
      ]
     },
     "execution_count": 38,
     "metadata": {},
     "output_type": "execute_result"
    }
   ],
   "source": [
    "resized_filtered_df.duplicated().sum()"
   ]
  },
  {
   "cell_type": "code",
   "execution_count": 39,
   "metadata": {},
   "outputs": [
    {
     "name": "stdout",
     "output_type": "stream",
     "text": [
      "Could not find associated value for Feels Like_Country, delete from the album art dictionary\n",
      "Could not find associated value for Kinda Don't Ever_Country, delete from the album art dictionary\n",
      "Could not find associated value for Never Buy My Love_All Genres, delete from the album art dictionary\n",
      "Could not find associated value for Sky View_Jazz, delete from the album art dictionary\n",
      "Could not find associated value for Dead Friends_Folk, delete from the album art dictionary\n",
      "Could not find associated value for Megachurch_Folk, delete from the album art dictionary\n",
      "Could not find associated value for Time Traveller_Experimental, delete from the album art dictionary\n",
      "Could not find associated value for Museum_All Genres, delete from the album art dictionary\n",
      "Could not find associated value for Threads_All Genres, delete from the album art dictionary\n",
      "Could not find associated value for The Reproach_R&B, delete from the album art dictionary\n",
      "Could not find associated value for Breakthrough_Jazz, delete from the album art dictionary\n",
      "Could not find associated value for Spit Me Out_Rock, delete from the album art dictionary\n",
      "Could not find associated value for Tequila Money_All Genres, delete from the album art dictionary\n",
      "Could not find associated value for Sleeping Tiger on the Bund  - Flora Wong Remix_Experimental, delete from the album art dictionary\n",
      "Could not find associated value for Be-Leavin_Country, delete from the album art dictionary\n",
      "Could not find associated value for SICK!_Dance, delete from the album art dictionary\n",
      "Could not find associated value for It's All Good_Country, delete from the album art dictionary\n",
      "Could not find associated value for Trail_Experimental, delete from the album art dictionary\n",
      "Could not find associated value for Was it obvious?_Indie, delete from the album art dictionary\n",
      "Could not find associated value for Lesson I Ain't Learned_All Genres, delete from the album art dictionary\n",
      "Could not find associated value for Judas_All Genres, delete from the album art dictionary\n",
      "Could not find associated value for 19_All Genres, delete from the album art dictionary\n",
      "Could not find associated value for Yaksha_Dance, delete from the album art dictionary\n",
      "Could not find associated value for Something To Give_Dance, delete from the album art dictionary\n",
      "Could not find associated value for New Dreams_Jazz, delete from the album art dictionary\n",
      "Could not find associated value for rationality  faith - Pala Chrome Remix_Dance, delete from the album art dictionary\n",
      "Could not find associated value for Who_All Genres, delete from the album art dictionary\n",
      "Could not find associated value for life you lead_All Genres, delete from the album art dictionary\n",
      "Could not find associated value for Flowers From Japan_Indie, delete from the album art dictionary\n",
      "Could not find associated value for Control Dem_All Genres, delete from the album art dictionary\n",
      "Could not find associated value for Persuaded_All Genres, delete from the album art dictionary\n",
      "Could not find associated value for Listen Up!_Rock, delete from the album art dictionary\n",
      "Could not find associated value for Love Feels_Dance, delete from the album art dictionary\n",
      "Could not find associated value for Casanova_Indie, delete from the album art dictionary\n",
      "Could not find associated value for Pinocchio Drift_Jazz, delete from the album art dictionary\n",
      "Could not find associated value for TBH - C Wills Remix_Hip-Hop, delete from the album art dictionary\n",
      "Could not find associated value for Honey Yes_Country, delete from the album art dictionary\n",
      "Could not find associated value for Why I Called_Country, delete from the album art dictionary\n",
      "Could not find associated value for Placeholder_Country, delete from the album art dictionary\n",
      "Could not find associated value for TOP DOWN_Hip-Hop, delete from the album art dictionary\n",
      "Could not find associated value for Close_R&B, delete from the album art dictionary\n",
      "Could not find associated value for seeker missile_Indie, delete from the album art dictionary\n",
      "Could not find associated value for vancouver_All Genres, delete from the album art dictionary\n",
      "Could not find associated value for Why Do I_Country, delete from the album art dictionary\n",
      "Could not find associated value for Sirens Riddim_All Genres, delete from the album art dictionary\n",
      "Could not find associated value for Sober_Pop, delete from the album art dictionary\n",
      "Could not find associated value for Dolmus Havasi_Jazz, delete from the album art dictionary\n",
      "Could not find associated value for Romeo_Country, delete from the album art dictionary\n",
      "Could not find associated value for Take Your Time_R&B, delete from the album art dictionary\n",
      "Could not find associated value for Baggage_R&B, delete from the album art dictionary\n",
      "Could not find associated value for Will_Indie, delete from the album art dictionary\n",
      "Could not find associated value for Alone Girl_Dance, delete from the album art dictionary\n",
      "Could not find associated value for Lost in a Country Song_Country, delete from the album art dictionary\n",
      "Could not find associated value for Dragonfly Meditation_Jazz, delete from the album art dictionary\n",
      "Could not find associated value for Spice Talk_All Genres, delete from the album art dictionary\n",
      "Could not find associated value for Sweat_All Genres, delete from the album art dictionary\n",
      "Could not find associated value for Bonfire_Indie, delete from the album art dictionary\n",
      "Could not find associated value for Remorse_Experimental, delete from the album art dictionary\n",
      "Could not find associated value for Cycles feat Isaiah_All Genres, delete from the album art dictionary\n",
      "Could not find associated value for Pinto_Country, delete from the album art dictionary\n",
      "Could not find associated value for Boa_Indie, delete from the album art dictionary\n",
      "Could not find associated value for Xid_Experimental, delete from the album art dictionary\n",
      "Could not find associated value for Whiskey Lies_Country, delete from the album art dictionary\n",
      "Could not find associated value for Here_R&B, delete from the album art dictionary\n",
      "Could not find associated value for Worlds Within Worlds_Jazz, delete from the album art dictionary\n",
      "Could not find associated value for Incognito_R&B, delete from the album art dictionary\n",
      "Could not find associated value for Sunday Toasted_Country, delete from the album art dictionary\n",
      "Could not find associated value for Myth Machine_Experimental, delete from the album art dictionary\n",
      "Could not find associated value for Never Have I Ever_Country, delete from the album art dictionary\n",
      "Could not find associated value for In the Pitt_Jazz, delete from the album art dictionary\n",
      "Could not find associated value for Monterosso_Dance, delete from the album art dictionary\n",
      "Could not find associated value for Heartbreak_Country, delete from the album art dictionary\n",
      "Could not find associated value for Sleep In_Rock, delete from the album art dictionary\n",
      "Could not find associated value for Over You_Country, delete from the album art dictionary\n",
      "Could not find associated value for Best Part of You_R&B, delete from the album art dictionary\n",
      "Could not find associated value for Get Paid_R&B, delete from the album art dictionary\n",
      "Could not find associated value for Between All Things_All Genres, delete from the album art dictionary\n",
      "Could not find associated value for Dust_Country, delete from the album art dictionary\n",
      "Could not find associated value for Break These Chains_Country, delete from the album art dictionary\n",
      "Could not find associated value for FIST_All Genres, delete from the album art dictionary\n",
      "Could not find associated value for still into u_Dance, delete from the album art dictionary\n",
      "Could not find associated value for Jolly Good Fela_Jazz, delete from the album art dictionary\n",
      "Could not find associated value for You Follow Me Around_Rock, delete from the album art dictionary\n",
      "Could not find associated value for Hop Out 2_All Genres, delete from the album art dictionary\n",
      "Could not find associated value for Heart Exam_Jazz, delete from the album art dictionary\n",
      "Could not find associated value for Muzik_All Genres, delete from the album art dictionary\n",
      "Could not find associated value for Second Love_Experimental, delete from the album art dictionary\n",
      "Could not find associated value for Luv Interlude_R&B, delete from the album art dictionary\n",
      "Could not find associated value for Crush_Country, delete from the album art dictionary\n",
      "Could not find associated value for New Year's Resolution_Indie, delete from the album art dictionary\n",
      "Could not find associated value for Fall In_R&B, delete from the album art dictionary\n",
      "Could not find associated value for Myth Machine_All Genres, delete from the album art dictionary\n",
      "Could not find associated value for Life  Living_Country, delete from the album art dictionary\n",
      "Could not find associated value for Be Mine_Indie, delete from the album art dictionary\n",
      "Could not find associated value for Worse Than Me_Country, delete from the album art dictionary\n",
      "Could not find associated value for The Assistant Marten_Experimental, delete from the album art dictionary\n",
      "Could not find associated value for Rich People Problems_Country, delete from the album art dictionary\n",
      "Could not find associated value for Tears Into Diamonds_Country, delete from the album art dictionary\n",
      "Could not find associated value for I've Been Down_Indie, delete from the album art dictionary\n",
      "Could not find associated value for Agenda_Hip-Hop, delete from the album art dictionary\n",
      "Could not find associated value for lily of the valley_Folk, delete from the album art dictionary\n",
      "Could not find associated value for AHBC_Experimental, delete from the album art dictionary\n",
      "Could not find associated value for The Metallic Index_All Genres, delete from the album art dictionary\n",
      "Could not find associated value for Stationmaster_Experimental, delete from the album art dictionary\n",
      "Could not find associated value for Not Every Lake Dreams Of Being A Magic Swamp_Experimental, delete from the album art dictionary\n",
      "Could not find associated value for Derby Glen Ln_Country, delete from the album art dictionary\n",
      "Could not find associated value for Petroleum_Dance, delete from the album art dictionary\n",
      "Could not find associated value for Closer_Dance, delete from the album art dictionary\n",
      "Could not find associated value for Sandcastle_All Genres, delete from the album art dictionary\n",
      "Could not find associated value for 30 Thousand Feet I Ain't_Country, delete from the album art dictionary\n",
      "Could not find associated value for Yiyo_All Genres, delete from the album art dictionary\n",
      "Could not find associated value for Chevrolaid Back_Country, delete from the album art dictionary\n",
      "Could not find associated value for Ink_All Genres, delete from the album art dictionary\n",
      "Could not find associated value for Ghostbuster_Indie, delete from the album art dictionary\n",
      "Could not find associated value for Statistics_All Genres, delete from the album art dictionary\n",
      "Could not find associated value for The One_Country, delete from the album art dictionary\n",
      "Could not find associated value for she's in a cage_Indie, delete from the album art dictionary\n",
      "Could not find associated value for Tap_Experimental, delete from the album art dictionary\n",
      "Could not find associated value for Fireball_Country, delete from the album art dictionary\n",
      "Could not find associated value for MUTUAL - ACOUSTIC LIVE_All Genres, delete from the album art dictionary\n",
      "Could not find associated value for Tequila Money_Country, delete from the album art dictionary\n",
      "Could not find associated value for 5 MO' MINUTES_All Genres, delete from the album art dictionary\n",
      "Could not find associated value for That's Deep_Dance, delete from the album art dictionary\n",
      "Could not find associated value for Mac and Steeze_Rock, delete from the album art dictionary\n",
      "Could not find associated value for Say Datt_All Genres, delete from the album art dictionary\n",
      "Could not find associated value for i stayed awake_All Genres, delete from the album art dictionary\n",
      "Could not find associated value for Timbuktu_Country, delete from the album art dictionary\n",
      "Could not find associated value for Supernova_Dance, delete from the album art dictionary\n",
      "Could not find associated value for The Hopeful Kind_Indie, delete from the album art dictionary\n",
      "Could not find associated value for Starting Over_Rock, delete from the album art dictionary\n",
      "Could not find associated value for Sunday Groove_Jazz, delete from the album art dictionary\n",
      "Could not find associated value for Memory Man_Jazz, delete from the album art dictionary\n",
      "Could not find associated value for A Month Ago_All Genres, delete from the album art dictionary\n",
      "Could not find associated value for Back to you_All Genres, delete from the album art dictionary\n",
      "Could not find associated value for Thank God for Good Friends_Country, delete from the album art dictionary\n",
      "Could not find associated value for For the Weekend_Country, delete from the album art dictionary\n",
      "Could not find associated value for Wrong Side of Town_Rock, delete from the album art dictionary\n",
      "Could not find associated value for Drink to That_Country, delete from the album art dictionary\n",
      "Could not find associated value for TONGUE TIED_R&B, delete from the album art dictionary\n",
      "Could not find associated value for i got what i asked for_All Genres, delete from the album art dictionary\n",
      "Could not find associated value for Black Gold - Radio Edit_Rock, delete from the album art dictionary\n",
      "Could not find associated value for int4rmission!_Indie, delete from the album art dictionary\n",
      "Could not find associated value for Fast Car_Rock, delete from the album art dictionary\n",
      "Could not find associated value for Girlfriend with Magical Ears_Jazz, delete from the album art dictionary\n",
      "Could not find associated value for Letting Go_Indie, delete from the album art dictionary\n",
      "Could not find associated value for A Lot to Drink About_Country, delete from the album art dictionary\n",
      "Could not find associated value for Breathe_R&B, delete from the album art dictionary\n",
      "Could not find associated value for Queen St_R&B, delete from the album art dictionary\n",
      "Could not find associated value for Like Bill_Hip-Hop, delete from the album art dictionary\n",
      "Could not find associated value for Jesper_All Genres, delete from the album art dictionary\n",
      "Could not find associated value for Garden_All Genres, delete from the album art dictionary\n",
      "Could not find associated value for Anime Flashbacks_Rock, delete from the album art dictionary\n",
      "Could not find associated value for Persuaded_Country, delete from the album art dictionary\n",
      "Could not find associated value for H2O interlude_All Genres, delete from the album art dictionary\n",
      "Could not find associated value for heaven_Indie, delete from the album art dictionary\n",
      "Could not find associated value for YOU_All Genres, delete from the album art dictionary\n",
      "Could not find associated value for Drumatix_Jazz, delete from the album art dictionary\n",
      "Could not find associated value for Play_All Genres, delete from the album art dictionary\n",
      "Could not find associated value for THE 55_Indie, delete from the album art dictionary\n",
      "Could not find associated value for Ain't Nothin' New_Country, delete from the album art dictionary\n",
      "Could not find associated value for Bloom_Dance, delete from the album art dictionary\n",
      "Could not find associated value for Bonsai Jungle_Jazz, delete from the album art dictionary\n",
      "Could not find associated value for Playboy_All Genres, delete from the album art dictionary\n",
      "Could not find associated value for Get Even_Country, delete from the album art dictionary\n",
      "Could not find associated value for Who Would've Known_Country, delete from the album art dictionary\n",
      "Could not find associated value for Kommissar Brenkstrupp Main Titles_All Genres, delete from the album art dictionary\n",
      "Could not find associated value for Made 4_Country, delete from the album art dictionary\n",
      "Could not find associated value for to all the plants i loved_All Genres, delete from the album art dictionary\n",
      "Could not find associated value for Trenches_Country, delete from the album art dictionary\n",
      "Could not find associated value for Make It Last Forever_All Genres, delete from the album art dictionary\n",
      "Could not find associated value for Something New_Rock, delete from the album art dictionary\n",
      "Could not find associated value for Lemonade_All Genres, delete from the album art dictionary\n",
      "Could not find associated value for Stereo_Dance, delete from the album art dictionary\n",
      "Could not find associated value for Keepsakes_Jazz, delete from the album art dictionary\n",
      "Could not find associated value for Somebody's Hometown_Country, delete from the album art dictionary\n",
      "Could not find associated value for untitled_Folk, delete from the album art dictionary\n",
      "Could not find associated value for Never Been so Fine_Indie, delete from the album art dictionary\n",
      "Could not find associated value for YA YA YA_All Genres, delete from the album art dictionary\n",
      "Could not find associated value for RAGGA_R&B, delete from the album art dictionary\n",
      "Could not find associated value for Stay_Dance, delete from the album art dictionary\n",
      "Could not find associated value for I Hate Cardio_All Genres, delete from the album art dictionary\n",
      "Could not find associated value for Lost Track of Summer_Country, delete from the album art dictionary\n",
      "Could not find associated value for Weightless_All Genres, delete from the album art dictionary\n",
      "Could not find associated value for Complicated_All Genres, delete from the album art dictionary\n",
      "Could not find associated value for 30_Experimental, delete from the album art dictionary\n",
      "Could not find associated value for .SYSTVMRVSTVRT, delete from the album art dictionary\n",
      "Could not find associated value for Didn't Have to Drink_Country, delete from the album art dictionary\n",
      "Could not find associated value for Every Girl is You_Country, delete from the album art dictionary\n",
      "Could not find associated value for Billboard_Country, delete from the album art dictionary\n",
      "Could not find associated value for Off The Edge_All Genres, delete from the album art dictionary\n",
      "Could not find associated value for Up for Anything_Country, delete from the album art dictionary\n",
      "Could not find associated value for Remember_Dance, delete from the album art dictionary\n",
      "Could not find associated value for December_Folk, delete from the album art dictionary\n",
      "Could not find associated value for One And Only_Country, delete from the album art dictionary\n",
      "Could not find associated value for Y So Angry_Jazz, delete from the album art dictionary\n",
      "Could not find associated value for Hours_All Genres, delete from the album art dictionary\n",
      "Could not find associated value for Her song_Folk, delete from the album art dictionary\n",
      "Could not find associated value for Face the Music_Experimental, delete from the album art dictionary\n",
      "Could not find associated value for Much More_R&B, delete from the album art dictionary\n",
      "Could not find associated value for .SYSTVMRVSTVRT*, delete from the album art dictionary\n",
      "Could not find associated value for Planta Dance_Experimental, delete from the album art dictionary\n",
      "Could not find associated value for Viral_Dance, delete from the album art dictionary\n",
      "Could not find associated value for Feels Like_Dance, delete from the album art dictionary\n",
      "Could not find associated value for Whiskey In Me_Country, delete from the album art dictionary\n",
      "Could not find associated value for Free Yola_All Genres, delete from the album art dictionary\n",
      "Could not find associated value for Burn Me Out_Country, delete from the album art dictionary\n",
      "Could not find associated value for Shallots_Experimental, delete from the album art dictionary\n",
      "Could not find associated value for Bald_All Genres, delete from the album art dictionary\n",
      "Could not find associated value for pbr_Indie, delete from the album art dictionary\n",
      "Could not find associated value for Jam It Up_Dance, delete from the album art dictionary\n",
      "Could not find associated value for The Way You Dance_Country, delete from the album art dictionary\n",
      "Could not find associated value for Warp Speed_Jazz, delete from the album art dictionary\n",
      "Could not find associated value for Station 5_Dance, delete from the album art dictionary\n",
      "Could not find associated value for Soar_Experimental, delete from the album art dictionary\n",
      "Could not find associated value for The Florist_Indie, delete from the album art dictionary\n",
      "Could not find associated value for Married to the Ground_Folk, delete from the album art dictionary\n",
      "Could not find associated value for Just Wanna Love You_All Genres, delete from the album art dictionary\n",
      "Could not find associated value for 7 Seconds_All Genres, delete from the album art dictionary\n",
      "Could not find associated value for EASIER TO BE ANGRY_R&B, delete from the album art dictionary\n",
      "Could not find associated value for Remorse_All Genres, delete from the album art dictionary\n",
      "Could not find associated value for Flower Power_Jazz, delete from the album art dictionary\n",
      "Could not find associated value for Well Enough Alone_Country, delete from the album art dictionary\n",
      "Could not find associated value for Can't Swim_R&B, delete from the album art dictionary\n",
      "Could not find associated value for Somebody New_Indie, delete from the album art dictionary\n",
      "Could not find associated value for 3AM_Pop, delete from the album art dictionary\n",
      "Could not find associated value for I Can_Rock, delete from the album art dictionary\n",
      "Could not find associated value for Ef_All Genres, delete from the album art dictionary\n",
      "Could not find associated value for Bakehouse 306_Experimental, delete from the album art dictionary\n",
      "Could not find associated value for Only One_Dance, delete from the album art dictionary\n",
      "Could not find associated value for Im Here With You_R&B, delete from the album art dictionary\n",
      "Could not find associated value for Kristine - Edit_Experimental, delete from the album art dictionary\n",
      "Could not find associated value for Feelings_Hip-Hop, delete from the album art dictionary\n"
     ]
    }
   ],
   "source": [
    "del_list = []\n",
    "\n",
    "for key in resized_image_dict.keys():\n",
    "    if key in df.key.to_list():\n",
    "        pass\n",
    "    else:\n",
    "        print(\"Could not find associated value for \"+key+\", delete from the album art dictionary\")\n",
    "        del_list.append(key)\n",
    "        \n",
    "for key in del_list:\n",
    "    del resized_image_dict[key]"
   ]
  },
  {
   "cell_type": "code",
   "execution_count": 40,
   "metadata": {},
   "outputs": [],
   "source": [
    "# Sorting Dictionary to match DataFrame order\n",
    "resized_image_dict = collections.OrderedDict(sorted(resized_image_dict.items()))"
   ]
  },
  {
   "cell_type": "code",
   "execution_count": 41,
   "metadata": {},
   "outputs": [
    {
     "data": {
      "text/plain": [
       "True"
      ]
     },
     "execution_count": 41,
     "metadata": {},
     "output_type": "execute_result"
    }
   ],
   "source": [
    "# Checking if order of names matches, so we can accuractly match features with target data. \n",
    "resized_filtered_df.key.to_list() == list(resized_image_dict.keys())"
   ]
  },
  {
   "cell_type": "markdown",
   "metadata": {},
   "source": [
    "### DATA PREP PART 2 - REDUCED PIXEL SIZE"
   ]
  },
  {
   "cell_type": "code",
   "execution_count": 42,
   "metadata": {},
   "outputs": [
    {
     "data": {
      "text/plain": [
       "(665, 60, 60, 3)"
      ]
     },
     "execution_count": 42,
     "metadata": {},
     "output_type": "execute_result"
    }
   ],
   "source": [
    "X = np.array(list(resized_image_dict.values()))\n",
    "X.shape"
   ]
  },
  {
   "cell_type": "code",
   "execution_count": 43,
   "metadata": {},
   "outputs": [
    {
     "data": {
      "text/plain": [
       "(665, 1)"
      ]
     },
     "execution_count": 43,
     "metadata": {},
     "output_type": "execute_result"
    }
   ],
   "source": [
    "y = np.array(resized_filtered_df.popularity).reshape(len(resized_filtered_df.popularity), 1)\n",
    "y.shape"
   ]
  },
  {
   "cell_type": "code",
   "execution_count": 44,
   "metadata": {},
   "outputs": [],
   "source": [
    "# Split the data into Train and Test, so we can later validate our model on \"unseen\" data.\n",
    "X_train, X_test, y_train, y_test = train_test_split(X, y, test_size=0.25)"
   ]
  },
  {
   "cell_type": "code",
   "execution_count": 45,
   "metadata": {},
   "outputs": [],
   "source": [
    "X_train = X_train / 255\n",
    "X_test  = X_test  / 255"
   ]
  },
  {
   "cell_type": "markdown",
   "metadata": {},
   "source": [
    "## MODEL #2: REDUCED PIXELS"
   ]
  },
  {
   "cell_type": "code",
   "execution_count": 383,
   "metadata": {},
   "outputs": [
    {
     "name": "stdout",
     "output_type": "stream",
     "text": [
      "Epoch 1/5\n",
      "16/16 [==============================] - 1s 44ms/step - loss: 415.2096 - mse: 415.2096 - val_loss: 329.6503 - val_mse: 329.6503\n",
      "Epoch 2/5\n",
      "16/16 [==============================] - 1s 34ms/step - loss: 260.3741 - mse: 260.3741 - val_loss: 286.4531 - val_mse: 286.4531\n",
      "Epoch 3/5\n",
      "16/16 [==============================] - 1s 37ms/step - loss: 205.4815 - mse: 205.4815 - val_loss: 215.1761 - val_mse: 215.1761\n",
      "Epoch 4/5\n",
      "16/16 [==============================] - 1s 34ms/step - loss: 155.6939 - mse: 155.6939 - val_loss: 148.8363 - val_mse: 148.8363\n",
      "Epoch 5/5\n",
      "16/16 [==============================] - 1s 37ms/step - loss: 105.5544 - mse: 105.5544 - val_loss: 169.9351 - val_mse: 169.9351\n"
     ]
    }
   ],
   "source": [
    "model_2 = Sequential()\n",
    "model_2.add(layers.Conv2D(64, kernel_size=(3,3), input_shape = X_train[0].shape))\n",
    "model_2.add(Flatten())\n",
    "model_2.add(layers.Dense(1, activation='linear'))\n",
    "\n",
    "model_2.compile(optimizer='adam',\n",
    "              loss='mse',\n",
    "              metrics=['mse'])\n",
    "\n",
    "history_2 = model_2.fit(X_train, y_train, epochs=5, \n",
    "                    validation_data=(X_test, y_test))"
   ]
  },
  {
   "cell_type": "code",
   "execution_count": 341,
   "metadata": {
    "scrolled": true
   },
   "outputs": [
    {
     "name": "stdout",
     "output_type": "stream",
     "text": [
      "6/6 [==============================] - 0s 10ms/step - loss: 114.0110 - mse: 114.0110\n",
      "Root Mean Squared Error: 10.7\n"
     ]
    },
    {
     "data": {
      "image/png": "[encoded data removed]",
      "text/plain": [
       "<Figure size 432x288 with 1 Axes>"
      ]
     },
     "metadata": {
      "needs_background": "dark"
     },
     "output_type": "display_data"
    }
   ],
   "source": [
    "rmse_2 = plot_history(model_2, history_2, X_test, y_test)"
   ]
  },
  {
   "cell_type": "code",
   "execution_count": 342,
   "metadata": {},
   "outputs": [
    {
     "data": {
      "image/png": "[encoded data removed]",
      "text/plain": [
       "<Figure size 360x360 with 1 Axes>"
      ]
     },
     "metadata": {
      "needs_background": "dark"
     },
     "output_type": "display_data"
    }
   ],
   "source": [
    "plot_scatter(model_2, X_test)"
   ]
  },
  {
   "cell_type": "markdown",
   "metadata": {},
   "source": [
    "Our second model after reducing pixels actually outperforms our baseline model with the larger dimensions, with a significantly faster computiation time. This will allow us to increase epochs and add layers. "
   ]
  },
  {
   "cell_type": "markdown",
   "metadata": {},
   "source": [
    "### Model #3: added pooling layers, another conv2D layer, and increase in epochs now that computational time has drastically improved"
   ]
  },
  {
   "cell_type": "code",
   "execution_count": 261,
   "metadata": {},
   "outputs": [],
   "source": [
    "# good to use a repeating structure for cnns"
   ]
  },
  {
   "cell_type": "code",
   "execution_count": 345,
   "metadata": {},
   "outputs": [
    {
     "name": "stdout",
     "output_type": "stream",
     "text": [
      "Epoch 1/40\n",
      "16/16 [==============================] - 2s 109ms/step - loss: 523.3017 - mse: 523.3017 - val_loss: 362.2466 - val_mse: 362.2466\n",
      "Epoch 2/40\n",
      "16/16 [==============================] - 2s 101ms/step - loss: 251.1328 - mse: 251.1328 - val_loss: 249.1036 - val_mse: 249.1036\n",
      "Epoch 3/40\n",
      "16/16 [==============================] - 2s 112ms/step - loss: 208.7848 - mse: 208.7848 - val_loss: 217.8082 - val_mse: 217.8082\n",
      "Epoch 4/40\n",
      "16/16 [==============================] - 2s 108ms/step - loss: 178.4213 - mse: 178.4213 - val_loss: 176.3785 - val_mse: 176.3785\n",
      "Epoch 5/40\n",
      "16/16 [==============================] - 2s 117ms/step - loss: 139.9197 - mse: 139.9197 - val_loss: 126.0205 - val_mse: 126.0205\n",
      "Epoch 6/40\n",
      "16/16 [==============================] - 2s 116ms/step - loss: 118.6559 - mse: 118.6559 - val_loss: 125.4246 - val_mse: 125.4246\n",
      "Epoch 7/40\n",
      "16/16 [==============================] - 2s 104ms/step - loss: 110.7459 - mse: 110.7459 - val_loss: 128.2345 - val_mse: 128.2345\n",
      "Epoch 8/40\n",
      "16/16 [==============================] - 2s 112ms/step - loss: 93.7735 - mse: 93.7735 - val_loss: 97.0660 - val_mse: 97.0660\n",
      "Epoch 9/40\n",
      "16/16 [==============================] - 2s 115ms/step - loss: 88.0246 - mse: 88.0246 - val_loss: 94.5320 - val_mse: 94.5320\n",
      "Epoch 10/40\n",
      "16/16 [==============================] - 2s 116ms/step - loss: 86.9807 - mse: 86.9807 - val_loss: 94.2050 - val_mse: 94.2050\n",
      "Epoch 11/40\n",
      "16/16 [==============================] - 2s 128ms/step - loss: 93.7616 - mse: 93.7616 - val_loss: 91.5570 - val_mse: 91.5570\n",
      "Epoch 12/40\n",
      "16/16 [==============================] - 2s 111ms/step - loss: 88.8047 - mse: 88.8047 - val_loss: 90.4061 - val_mse: 90.4061\n",
      "Epoch 13/40\n",
      "16/16 [==============================] - 2s 109ms/step - loss: 83.4642 - mse: 83.4642 - val_loss: 98.8840 - val_mse: 98.8840\n",
      "Epoch 14/40\n",
      "16/16 [==============================] - 2s 113ms/step - loss: 80.4805 - mse: 80.4805 - val_loss: 91.2381 - val_mse: 91.2381\n",
      "Epoch 15/40\n",
      "16/16 [==============================] - 2s 111ms/step - loss: 89.3853 - mse: 89.3853 - val_loss: 98.7436 - val_mse: 98.7436\n",
      "Epoch 16/40\n",
      "16/16 [==============================] - 2s 120ms/step - loss: 97.2203 - mse: 97.2203 - val_loss: 90.7575 - val_mse: 90.7575\n",
      "Epoch 17/40\n",
      "16/16 [==============================] - 2s 109ms/step - loss: 79.0972 - mse: 79.0972 - val_loss: 91.5439 - val_mse: 91.5439\n",
      "Epoch 18/40\n",
      "16/16 [==============================] - 2s 106ms/step - loss: 77.8780 - mse: 77.8780 - val_loss: 89.2584 - val_mse: 89.2584\n",
      "Epoch 19/40\n",
      "16/16 [==============================] - 2s 131ms/step - loss: 76.8508 - mse: 76.8508 - val_loss: 92.6250 - val_mse: 92.6250\n",
      "Epoch 20/40\n",
      "16/16 [==============================] - 2s 129ms/step - loss: 77.4250 - mse: 77.4250 - val_loss: 97.0026 - val_mse: 97.0026\n",
      "Epoch 21/40\n",
      "16/16 [==============================] - 2s 119ms/step - loss: 80.8472 - mse: 80.8472 - val_loss: 96.6683 - val_mse: 96.6683\n",
      "Epoch 22/40\n",
      "16/16 [==============================] - 2s 118ms/step - loss: 79.7987 - mse: 79.7987 - val_loss: 89.2978 - val_mse: 89.2978\n",
      "Epoch 23/40\n",
      "16/16 [==============================] - 2s 109ms/step - loss: 74.3165 - mse: 74.3165 - val_loss: 89.9550 - val_mse: 89.9550\n",
      "Epoch 24/40\n",
      "16/16 [==============================] - 2s 113ms/step - loss: 75.0902 - mse: 75.0902 - val_loss: 90.2186 - val_mse: 90.2186\n",
      "Epoch 25/40\n",
      "16/16 [==============================] - 2s 113ms/step - loss: 74.8439 - mse: 74.8439 - val_loss: 92.6343 - val_mse: 92.6343\n",
      "Epoch 26/40\n",
      "16/16 [==============================] - 2s 110ms/step - loss: 84.5798 - mse: 84.5798 - val_loss: 99.0108 - val_mse: 99.0108\n",
      "Epoch 27/40\n",
      "16/16 [==============================] - 2s 115ms/step - loss: 75.5352 - mse: 75.5352 - val_loss: 96.3023 - val_mse: 96.3023\n",
      "Epoch 28/40\n",
      "16/16 [==============================] - 2s 106ms/step - loss: 78.0968 - mse: 78.0968 - val_loss: 102.5987 - val_mse: 102.5987\n",
      "Epoch 29/40\n",
      "16/16 [==============================] - 2s 106ms/step - loss: 72.7513 - mse: 72.7513 - val_loss: 101.7133 - val_mse: 101.7133\n",
      "Epoch 30/40\n",
      "16/16 [==============================] - 2s 110ms/step - loss: 77.7172 - mse: 77.7172 - val_loss: 98.2705 - val_mse: 98.2705\n",
      "Epoch 31/40\n",
      "16/16 [==============================] - 2s 124ms/step - loss: 70.6449 - mse: 70.6449 - val_loss: 93.4545 - val_mse: 93.4545\n",
      "Epoch 32/40\n",
      "16/16 [==============================] - 2s 120ms/step - loss: 70.9510 - mse: 70.9510 - val_loss: 93.6357 - val_mse: 93.6357\n",
      "Epoch 33/40\n",
      "16/16 [==============================] - 2s 122ms/step - loss: 67.9038 - mse: 67.9038 - val_loss: 93.3728 - val_mse: 93.3728\n",
      "Epoch 34/40\n",
      "16/16 [==============================] - 2s 136ms/step - loss: 66.9571 - mse: 66.9571 - val_loss: 93.9195 - val_mse: 93.9195\n",
      "Epoch 35/40\n",
      "16/16 [==============================] - 2s 113ms/step - loss: 71.6366 - mse: 71.6366 - val_loss: 97.1577 - val_mse: 97.1577\n",
      "Epoch 36/40\n",
      "16/16 [==============================] - 2s 115ms/step - loss: 69.9465 - mse: 69.9465 - val_loss: 110.5214 - val_mse: 110.5214\n",
      "Epoch 37/40\n",
      "16/16 [==============================] - 2s 117ms/step - loss: 76.0065 - mse: 76.0065 - val_loss: 99.9158 - val_mse: 99.9158\n",
      "Epoch 38/40\n",
      "16/16 [==============================] - 2s 130ms/step - loss: 67.4833 - mse: 67.4833 - val_loss: 95.3465 - val_mse: 95.3465\n",
      "Epoch 39/40\n",
      "16/16 [==============================] - 2s 142ms/step - loss: 72.1172 - mse: 72.1172 - val_loss: 94.0923 - val_mse: 94.0923\n",
      "Epoch 40/40\n",
      "16/16 [==============================] - 2s 108ms/step - loss: 67.8189 - mse: 67.8189 - val_loss: 106.2342 - val_mse: 106.2342\n"
     ]
    }
   ],
   "source": [
    "# build the model_3\n",
    "model_3 = Sequential()\n",
    "model_3.add(layers.Conv2D(64, kernel_size =(3, 3), input_shape = X_train[0].shape))\n",
    "model_3.add(layers.MaxPooling2D(pool_size =(2, 2)))\n",
    "model_3.add(layers.Conv2D(64, (3, 3)))\n",
    "model_3.add(layers.MaxPooling2D(pool_size =(2, 2)))\n",
    "model_3.add(Flatten())\n",
    "model_3.add(layers.Dense(1, activation='linear'))\n",
    "   \n",
    "    \n",
    "# training the model_3\n",
    "model_3.compile(optimizer='adam',\n",
    "              loss='mse',\n",
    "              metrics=['mse'])\n",
    "  \n",
    "# fitting the model_3\n",
    "history_3 = model_3.fit(X_train, y_train, epochs=15, \n",
    "                    validation_data=(X_test, y_test))"
   ]
  },
  {
   "cell_type": "code",
   "execution_count": 348,
   "metadata": {},
   "outputs": [
    {
     "name": "stdout",
     "output_type": "stream",
     "text": [
      "6/6 [==============================] - 0s 33ms/step - loss: 106.2342 - mse: 106.2342\n",
      "Root Mean Squared Error: 10.3\n"
     ]
    },
    {
     "data": {
      "image/png": "[encoded data removed]",
      "text/plain": [
       "<Figure size 432x288 with 1 Axes>"
      ]
     },
     "metadata": {
      "needs_background": "dark"
     },
     "output_type": "display_data"
    }
   ],
   "source": [
    "rmse_3 = plot_history(model_3, history_3, X_test, y_test)"
   ]
  },
  {
   "cell_type": "code",
   "execution_count": 349,
   "metadata": {},
   "outputs": [
    {
     "data": {
      "image/png": "[encoded data removed]",
      "text/plain": [
       "<Figure size 360x360 with 1 Axes>"
      ]
     },
     "metadata": {
      "needs_background": "dark"
     },
     "output_type": "display_data"
    }
   ],
   "source": [
    "plot_scatter(model_3, X_test)"
   ]
  },
  {
   "cell_type": "markdown",
   "metadata": {},
   "source": [
    "The third model iteration outperforms the second with an rmse of 10.3, but based on the scatter plot of true vs. predicted values our model is not very accurate. tuning hyperparameters may lead to a l"
   ]
  },
  {
   "cell_type": "markdown",
   "metadata": {},
   "source": [
    "## Model 4. tuning parameters"
   ]
  },
  {
   "cell_type": "code",
   "execution_count": 357,
   "metadata": {},
   "outputs": [
    {
     "name": "stdout",
     "output_type": "stream",
     "text": [
      "Epoch 1/15\n",
      "16/16 [==============================] - 2s 132ms/step - loss: 629.2829 - mse: 629.2829 - val_loss: 220.0329 - val_mse: 220.0329\n",
      "Epoch 2/15\n",
      "16/16 [==============================] - 2s 124ms/step - loss: 258.4335 - mse: 258.4335 - val_loss: 207.5279 - val_mse: 207.5279\n",
      "Epoch 3/15\n",
      "16/16 [==============================] - 2s 138ms/step - loss: 186.7776 - mse: 186.7776 - val_loss: 194.4538 - val_mse: 194.4538\n",
      "Epoch 4/15\n",
      "16/16 [==============================] - 2s 139ms/step - loss: 166.0966 - mse: 166.0966 - val_loss: 173.7812 - val_mse: 173.7812\n",
      "Epoch 5/15\n",
      "16/16 [==============================] - 2s 134ms/step - loss: 143.7134 - mse: 143.7134 - val_loss: 143.0879 - val_mse: 143.0879\n",
      "Epoch 6/15\n",
      "16/16 [==============================] - 2s 131ms/step - loss: 120.4232 - mse: 120.4232 - val_loss: 133.2235 - val_mse: 133.2235\n",
      "Epoch 7/15\n",
      "16/16 [==============================] - 2s 129ms/step - loss: 98.3684 - mse: 98.3684 - val_loss: 105.0339 - val_mse: 105.0339\n",
      "Epoch 8/15\n",
      "16/16 [==============================] - 2s 138ms/step - loss: 93.4936 - mse: 93.4936 - val_loss: 117.5498 - val_mse: 117.5498\n",
      "Epoch 9/15\n",
      "16/16 [==============================] - 2s 124ms/step - loss: 94.0716 - mse: 94.0716 - val_loss: 98.1541 - val_mse: 98.1541\n",
      "Epoch 10/15\n",
      "16/16 [==============================] - 2s 120ms/step - loss: 87.9398 - mse: 87.9398 - val_loss: 96.9649 - val_mse: 96.9649\n",
      "Epoch 11/15\n",
      "16/16 [==============================] - 2s 126ms/step - loss: 89.0138 - mse: 89.0138 - val_loss: 112.8599 - val_mse: 112.8599\n",
      "Epoch 12/15\n",
      "16/16 [==============================] - 3s 163ms/step - loss: 93.8657 - mse: 93.8657 - val_loss: 97.9637 - val_mse: 97.9637\n",
      "Epoch 13/15\n",
      "16/16 [==============================] - 2s 139ms/step - loss: 86.1708 - mse: 86.1708 - val_loss: 97.6901 - val_mse: 97.6901\n",
      "Epoch 14/15\n",
      "16/16 [==============================] - 2s 152ms/step - loss: 87.8642 - mse: 87.8642 - val_loss: 95.1573 - val_mse: 95.1573\n",
      "Epoch 15/15\n",
      "16/16 [==============================] - 3s 160ms/step - loss: 83.2039 - mse: 83.2039 - val_loss: 93.0653 - val_mse: 93.0653\n"
     ]
    }
   ],
   "source": [
    "model_4 = Sequential()\n",
    "model_4.add(layers.Conv2D(64, kernel_size=(3,3), input_shape = X_train[0].shape))\n",
    "model_4.add(layers.MaxPooling2D((2, 2), strides=(2,2)))\n",
    "model_4.add(layers.Conv2D(64, (3, 3), activation='relu'))\n",
    "model_4.add(layers.MaxPooling2D((2, 2), strides=(2,2)))\n",
    "model_4.add(layers.Conv2D(64, (3, 3), activation='relu'))\n",
    "model_4.add(layers.MaxPooling2D((2, 2)))\n",
    "model_4.add(Flatten())\n",
    "model_4.add(layers.Dense(1, activation='linear'))\n",
    "\n",
    "model_4.compile(optimizer='adam',\n",
    "              loss='mse',\n",
    "              metrics=['mse'])\n",
    "\n",
    "# fitting the model\n",
    "history_4 = model_4.fit(X_train, y_train, epochs=15, \n",
    "                    validation_data=(X_test, y_test))"
   ]
  },
  {
   "cell_type": "code",
   "execution_count": 358,
   "metadata": {},
   "outputs": [
    {
     "name": "stdout",
     "output_type": "stream",
     "text": [
      "6/6 [==============================] - 0s 23ms/step - loss: 93.0653 - mse: 93.0653\n",
      "Root Mean Squared Error: 9.6\n"
     ]
    },
    {
     "data": {
      "text/plain": [
       "93.0653076171875"
      ]
     },
     "execution_count": 358,
     "metadata": {},
     "output_type": "execute_result"
    },
    {
     "data": {
      "image/png": "[encoded data removed]",
      "text/plain": [
       "<Figure size 432x288 with 1 Axes>"
      ]
     },
     "metadata": {
      "needs_background": "dark"
     },
     "output_type": "display_data"
    }
   ],
   "source": [
    "plot_history(model_4, history_4, X_test, y_test)"
   ]
  },
  {
   "cell_type": "code",
   "execution_count": 359,
   "metadata": {},
   "outputs": [
    {
     "data": {
      "image/png": "[encoded data removed]",
      "text/plain": [
       "<Figure size 360x360 with 1 Axes>"
      ]
     },
     "metadata": {
      "needs_background": "dark"
     },
     "output_type": "display_data"
    }
   ],
   "source": [
    "plot_scatter(model_4, X_test)"
   ]
  },
  {
   "cell_type": "code",
   "execution_count": 360,
   "metadata": {},
   "outputs": [],
   "source": [
    "# with an rmse of 9.4, this is our best model so far. however the scatterplot again does not show any predicting power. lets create a funcition to tune more efficiently "
   ]
  },
  {
   "cell_type": "code",
   "execution_count": null,
   "metadata": {},
   "outputs": [],
   "source": [
    "## adding cnn layers - show how that doesn't work. "
   ]
  },
  {
   "cell_type": "markdown",
   "metadata": {},
   "source": [
    "# Models 5,6,7-- tuning using build_cnn function"
   ]
  },
  {
   "cell_type": "markdown",
   "metadata": {},
   "source": [
    "To determine the best hyperparameters I am building a function to more efficiently modify "
   ]
  },
  {
   "cell_type": "code",
   "execution_count": 365,
   "metadata": {},
   "outputs": [],
   "source": [
    "# build the model\n",
    "def build_cnn(X_train, y_train, X_test, y_test, neurons, kernel_size, activation, epochs, pool_size, padding):\n",
    "    \n",
    "    model = Sequential()\n",
    "    model.add(layers.Conv2D(neurons, kernel_size=kernel_size, activation= activation))\n",
    "    model.add(layers.MaxPooling2D(pool_size = pool_size))\n",
    "    model.add(layers.Conv2D(neurons, kernel_size=kernel_size, activation = activation, padding=padding))\n",
    "    model.add(layers.MaxPooling2D(pool_size = pool_size))\n",
    "    model.add(layers.Conv2D(neurons, kernel_size=kernel_size, activation = activation, padding=padding))\n",
    "    model.add(layers.MaxPooling2D(pool_size = pool_size))\n",
    "    model.add(layers.Conv2D(neurons, kernel_size=kernel_size, activation = activation, padding=padding))\n",
    "    model.add(layers.MaxPooling2D(pool_size = pool_size))\n",
    "    model.add(layers.Conv2D(neurons, kernel_size=kernel_size, activation = activation, padding=padding))\n",
    "    model.add(layers.MaxPooling2D(pool_size = pool_size))\n",
    "    model.add(Flatten())\n",
    "    model.add(layers.Dense(1, activation=activation))\n",
    "\n",
    "        # training the model\n",
    "    model.compile(optimizer='adam', loss='mse', metrics=['mse'])\n",
    "    \n",
    "    # fitting the model\n",
    "    history = model.fit(X_train, y_train, epochs=epochs, validation_data=(X_test, y_test))\n",
    "\n",
    "    return model, history"
   ]
  },
  {
   "cell_type": "code",
   "execution_count": 366,
   "metadata": {},
   "outputs": [
    {
     "name": "stdout",
     "output_type": "stream",
     "text": [
      "Epoch 1/15\n",
      "16/16 [==============================] - 1s 86ms/step - loss: 1135.2715 - mse: 1135.2715 - val_loss: 1052.6360 - val_mse: 1052.6360\n",
      "Epoch 2/15\n",
      "16/16 [==============================] - 1s 80ms/step - loss: 956.2911 - mse: 956.2911 - val_loss: 677.3602 - val_mse: 677.3602\n",
      "Epoch 3/15\n",
      "16/16 [==============================] - 1s 74ms/step - loss: 334.9104 - mse: 334.9104 - val_loss: 175.0781 - val_mse: 175.0781\n",
      "Epoch 4/15\n",
      "16/16 [==============================] - 1s 85ms/step - loss: 139.1699 - mse: 139.1699 - val_loss: 121.8528 - val_mse: 121.8528\n",
      "Epoch 5/15\n",
      "16/16 [==============================] - 1s 77ms/step - loss: 102.2746 - mse: 102.2746 - val_loss: 116.1324 - val_mse: 116.1324\n",
      "Epoch 6/15\n",
      "16/16 [==============================] - 1s 83ms/step - loss: 98.1519 - mse: 98.1519 - val_loss: 109.6740 - val_mse: 109.6740\n",
      "Epoch 7/15\n",
      "16/16 [==============================] - 1s 72ms/step - loss: 95.5844 - mse: 95.5844 - val_loss: 110.7684 - val_mse: 110.7684\n",
      "Epoch 8/15\n",
      "16/16 [==============================] - 1s 66ms/step - loss: 94.5273 - mse: 94.5273 - val_loss: 108.5880 - val_mse: 108.5880\n",
      "Epoch 9/15\n",
      "16/16 [==============================] - 1s 65ms/step - loss: 93.7765 - mse: 93.7765 - val_loss: 108.6787 - val_mse: 108.6787\n",
      "Epoch 10/15\n",
      "16/16 [==============================] - 1s 65ms/step - loss: 93.7386 - mse: 93.7386 - val_loss: 108.9319 - val_mse: 108.9319\n",
      "Epoch 11/15\n",
      "16/16 [==============================] - 1s 65ms/step - loss: 93.3797 - mse: 93.3797 - val_loss: 108.0731 - val_mse: 108.0731\n",
      "Epoch 12/15\n",
      "16/16 [==============================] - 1s 65ms/step - loss: 91.6167 - mse: 91.6167 - val_loss: 105.7492 - val_mse: 105.7492\n",
      "Epoch 13/15\n",
      "16/16 [==============================] - 1s 68ms/step - loss: 92.4305 - mse: 92.4305 - val_loss: 105.6159 - val_mse: 105.6159\n",
      "Epoch 14/15\n",
      "16/16 [==============================] - 1s 68ms/step - loss: 91.3322 - mse: 91.3322 - val_loss: 104.7929 - val_mse: 104.7929\n",
      "Epoch 15/15\n",
      "16/16 [==============================] - 1s 66ms/step - loss: 91.7896 - mse: 91.7896 - val_loss: 104.6794 - val_mse: 104.6794\n"
     ]
    },
    {
     "data": {
      "text/plain": [
       "(<tensorflow.python.keras.engine.sequential.Sequential at 0x16cee25b0>,\n",
       " <tensorflow.python.keras.callbacks.History at 0x16cf0a250>)"
      ]
     },
     "execution_count": 366,
     "metadata": {},
     "output_type": "execute_result"
    }
   ],
   "source": [
    "build_cnn(X_train, y_train, X_test, y_test, 64, (1,1), 'relu', 15, (2,2), 'same')\n",
    "\n",
    "# kernel size - tuple, must be odd integer, determines the size of the kernel. \n",
    "# padding - padding: \"valid\" means no padding. \"same\" results in padding with zeros evenly to the left/right or up/down of the input. \n",
    "        # When padding=\"same\" and strides=1, the output has the same size as the input.\n",
    "# strides: An integer or tuple/list of 2 integers, specifying the strides of the convolution along the height and width. \n",
    "#         Can be a single integer to specify the same value for all spatial dimensions.\n"
   ]
  },
  {
   "cell_type": "code",
   "execution_count": 328,
   "metadata": {},
   "outputs": [
    {
     "name": "stdout",
     "output_type": "stream",
     "text": [
      "Epoch 1/15\n",
      "16/16 [==============================] - 1s 42ms/step - loss: 1100.0951 - mse: 1100.0951 - val_loss: 970.8015 - val_mse: 970.8015\n",
      "Epoch 2/15\n",
      "16/16 [==============================] - 1s 32ms/step - loss: 823.8523 - mse: 823.8523 - val_loss: 519.1631 - val_mse: 519.1631\n",
      "Epoch 3/15\n",
      "16/16 [==============================] - 1s 32ms/step - loss: 278.2404 - mse: 278.2404 - val_loss: 157.5882 - val_mse: 157.5882\n",
      "Epoch 4/15\n",
      "16/16 [==============================] - 1s 32ms/step - loss: 150.8130 - mse: 150.8130 - val_loss: 134.1697 - val_mse: 134.1697\n",
      "Epoch 5/15\n",
      "16/16 [==============================] - 1s 33ms/step - loss: 125.9268 - mse: 125.9268 - val_loss: 126.2531 - val_mse: 126.2531\n",
      "Epoch 6/15\n",
      "16/16 [==============================] - 1s 31ms/step - loss: 117.2001 - mse: 117.2001 - val_loss: 118.6308 - val_mse: 118.6308\n",
      "Epoch 7/15\n",
      "16/16 [==============================] - 1s 33ms/step - loss: 107.1141 - mse: 107.1141 - val_loss: 110.1006 - val_mse: 110.1006\n",
      "Epoch 8/15\n",
      "16/16 [==============================] - 1s 32ms/step - loss: 99.1990 - mse: 99.1990 - val_loss: 104.6877 - val_mse: 104.6877\n",
      "Epoch 9/15\n",
      "16/16 [==============================] - 1s 34ms/step - loss: 94.9655 - mse: 94.9655 - val_loss: 98.4079 - val_mse: 98.4079\n",
      "Epoch 10/15\n",
      "16/16 [==============================] - 1s 33ms/step - loss: 91.9145 - mse: 91.9145 - val_loss: 95.5324 - val_mse: 95.5324\n",
      "Epoch 11/15\n",
      "16/16 [==============================] - 1s 35ms/step - loss: 88.2686 - mse: 88.2686 - val_loss: 96.3802 - val_mse: 96.3802\n",
      "Epoch 12/15\n",
      "16/16 [==============================] - 1s 36ms/step - loss: 87.5106 - mse: 87.5106 - val_loss: 93.1906 - val_mse: 93.1906\n",
      "Epoch 13/15\n",
      "16/16 [==============================] - 1s 50ms/step - loss: 85.7581 - mse: 85.7581 - val_loss: 92.9086 - val_mse: 92.9086\n",
      "Epoch 14/15\n",
      "16/16 [==============================] - 1s 40ms/step - loss: 85.5968 - mse: 85.5968 - val_loss: 93.4646 - val_mse: 93.4646\n",
      "Epoch 15/15\n",
      "16/16 [==============================] - 1s 37ms/step - loss: 85.2514 - mse: 85.2514 - val_loss: 92.4346 - val_mse: 92.4346\n"
     ]
    },
    {
     "data": {
      "text/plain": [
       "(<tensorflow.python.keras.engine.sequential.Sequential at 0x15e5ae4c0>,\n",
       " <tensorflow.python.keras.callbacks.History at 0x15e605850>)"
      ]
     },
     "execution_count": 328,
     "metadata": {},
     "output_type": "execute_result"
    }
   ],
   "source": [
    "build_cnn(X_train, y_train, X_test, y_test, 32, (1,1), 'relu', 15, (2,2))"
   ]
  },
  {
   "cell_type": "code",
   "execution_count": 273,
   "metadata": {},
   "outputs": [],
   "source": [
    "# - mention there seems to be no instance of overfitting so we should continue to add layers/ increase epochs / make more complex "
   ]
  },
  {
   "cell_type": "markdown",
   "metadata": {},
   "source": [
    "#  -------------------------------------- FINAL MODEL EVALUATION ----------------------------------------------------"
   ]
  },
  {
   "cell_type": "markdown",
   "metadata": {},
   "source": [
    "# -------------------------------------- CONCLUSION AND NEXT STEPS ----------------------------------------------"
   ]
  },
  {
   "cell_type": "markdown",
   "metadata": {},
   "source": [
    "- with more time, I would look into creating my own architecture to mix categorical variables with image classification. this would help me take genre of a playlist into account, as my hypothesis is that album art could affect success of a track depending on the genre it's in. \n",
    "\n",
    "- I would also look into finding a different target variable to measure \"success\". "
   ]
  },
  {
   "cell_type": "code",
   "execution_count": null,
   "metadata": {},
   "outputs": [],
   "source": []
  }
 ],
 "metadata": {
  "kernelspec": {
   "display_name": "Python (learn-env)",
   "language": "python",
   "name": "learn-env"
  },
  "language_info": {
   "codemirror_mode": {
    "name": "ipython",
    "version": 3
   },
   "file_extension": ".py",
   "mimetype": "text/x-python",
   "name": "python",
   "nbconvert_exporter": "python",
   "pygments_lexer": "ipython3",
   "version": "3.8.5"
  }
 },
 "nbformat": 4,
 "nbformat_minor": 4
}
