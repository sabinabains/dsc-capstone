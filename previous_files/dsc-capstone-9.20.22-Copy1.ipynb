{
 "cells": [
  {
   "cell_type": "markdown",
   "metadata": {},
   "source": [
    "# TITLE HERE\n",
    " - Capstone Project\n",
    " - Student- Sabina Bains\n",
    " - Presentation Date- 10/05/2022\n",
    " - Instructor- Abhineet Kulkarni"
   ]
  },
  {
   "cell_type": "markdown",
   "metadata": {},
   "source": [
    "# --------------------------------------- BUSINESS UNDERSTANDING ---------------------------------------------------"
   ]
  },
  {
   "cell_type": "markdown",
   "metadata": {},
   "source": [
    "A picture is said to be worth a thousand words, but does that saying apply to album art? Before streaming services such as Spotify became the preferred format for music consumption,\n",
    "listeners would peruse the aisles of music stores, scanning the album artwork of CD's and Vinyl Records. During this time, album art likely affected what users chose to purchase. Our goal is to predict whether album art still plays a role in the success of the album's music, and if so, which album covers are predicted to be most sucessful?\n",
    "\n",
    "\n",
    "active vs passive listening. \n",
    "album art tells a story and gives context"
   ]
  },
  {
   "cell_type": "markdown",
   "metadata": {},
   "source": [
    "To do this we will experiment with Convolutional Neural Networks, a class of Neural Networks that deals with handling Image data.\n",
    "\n"
   ]
  },
  {
   "cell_type": "markdown",
   "metadata": {},
   "source": [
    "# ------------------------------------------ DATA UNDERSTANDING ------------------------------------------------------"
   ]
  },
  {
   "cell_type": "code",
   "execution_count": 1,
   "metadata": {},
   "outputs": [],
   "source": [
    "# !pip3 install spotipy --upgrade\n",
    "# !pip3 install pillow"
   ]
  },
  {
   "cell_type": "markdown",
   "metadata": {},
   "source": [
    "#### Importing Packages"
   ]
  },
  {
   "cell_type": "code",
   "execution_count": 124,
   "metadata": {},
   "outputs": [],
   "source": [
    "from tensorflow.keras.wrappers.scikit_learn import KerasClassifier"
   ]
  },
  {
   "cell_type": "code",
   "execution_count": 2,
   "metadata": {},
   "outputs": [],
   "source": [
    "import matplotlib as mpl\n",
    "import matplotlib.pyplot as plt\n",
    "\n",
    "from sklearn.model_selection import train_test_split\n",
    "from matplotlib import image as mpimg\n",
    " \n",
    "from keras.models import Sequential\n",
    "from tensorflow.keras import layers\n",
    "from keras.layers import Dense, Dropout, Conv2D, MaxPool2D, Flatten\n",
    "import re\n",
    "from keras.preprocessing.image import ImageDataGenerator, array_to_img, img_to_array, load_img\n",
    "import numpy as np\n",
    "import os\n",
    "\n",
    "# changing colors of output\n",
    "COLOR = 'white'\n",
    "mpl.rcParams['text.color'] = 'grey'\n",
    "mpl.rcParams['axes.labelcolor'] = COLOR\n",
    "mpl.rcParams['xtick.color'] = COLOR\n",
    "mpl.rcParams['ytick.color'] = COLOR\n",
    "\n",
    "import spotipy\n",
    "from spotipy.oauth2 import SpotifyClientCredentials\n",
    "import os\n",
    "import pandas as pd\n",
    "\n",
    "# load and show an image with Pillow\n",
    "from PIL import Image\n",
    "\n",
    "\n",
    "from matplotlib import pyplot\n",
    "\n",
    "import requests\n",
    "\n",
    "from IPython.display import Image as img_display\n",
    "\n",
    "import collections"
   ]
  },
  {
   "cell_type": "markdown",
   "metadata": {},
   "source": [
    "#### Using credentials to pull album art and popularity score (target variable) from Spotify's API (SpotiPy)"
   ]
  },
  {
   "cell_type": "code",
   "execution_count": 3,
   "metadata": {},
   "outputs": [],
   "source": [
    "# User will have to create their own spotipy account and put their own CID and SECRET keys into the following variables\n",
    "creds  = pd.read_csv('data/spotipy_credentials.csv', header = None)\n",
    "\n",
    "cid    = creds[1][0]\n",
    "secret = creds[1][1]"
   ]
  },
  {
   "cell_type": "code",
   "execution_count": 4,
   "metadata": {},
   "outputs": [],
   "source": [
    "# Accessing API\n",
    "client_credentials_manager = SpotifyClientCredentials(client_id=cid, client_secret=secret)\n",
    "sp = spotipy.Spotify(client_credentials_manager = client_credentials_manager)"
   ]
  },
  {
   "cell_type": "code",
   "execution_count": 5,
   "metadata": {},
   "outputs": [],
   "source": [
    "# Creating list of playlists with independent artists to pull album art data from\n",
    "fresh_finds_playlists = [\n",
    "'https://open.spotify.com/playlist/37i9dQZF1DWT0upuUFtT7o',\n",
    "'https://open.spotify.com/playlist/37i9dQZF1DWUFAJPVM3HTX',\n",
    "'https://open.spotify.com/playlist/37i9dQZF1DX3u9TSHqpdJC',\n",
    "'https://open.spotify.com/playlist/37i9dQZF1DWW4igXXl2Qkp',\n",
    "'https://open.spotify.com/playlist/37i9dQZF1DX78toxP7mOaJ',\n",
    "'https://open.spotify.com/playlist/37i9dQZF1DXdS3lvGe1GrT',\n",
    "'https://open.spotify.com/playlist/37i9dQZF1DWYUfsq4hxHWP',\n",
    "'https://open.spotify.com/playlist/37i9dQZF1DX6bBjHfdRnza',\n",
    "'https://open.spotify.com/playlist/37i9dQZF1DX8C585qnMYHP',\n",
    "'https://open.spotify.com/playlist/37i9dQZF1DXcWL5K0oNHcG',\n",
    "'https://open.spotify.com/playlist/37i9dQZF1DWWjGdmeTyeJ6'\n",
    "]"
   ]
  },
  {
   "cell_type": "code",
   "execution_count": 6,
   "metadata": {},
   "outputs": [],
   "source": [
    "# looping through playlist lists to pull all tracks from each list\n",
    "playlist_uris = []\n",
    "\n",
    "for playlist in fresh_finds_playlists:\n",
    "    playlist_uris.append(playlist.split(\"/\")[-1].split(\"?\")[0])"
   ]
  },
  {
   "cell_type": "code",
   "execution_count": 7,
   "metadata": {},
   "outputs": [],
   "source": [
    "playlist_uri_to_name_dict = {}\n",
    "\n",
    "for playlist_uri in playlist_uris:\n",
    "    playlist_name = sp.user_playlist(user=None, playlist_id=playlist_uri, fields=\"name\")['name']\n",
    "    \n",
    "    if playlist_name != \"Fresh Finds\":\n",
    "        playlist_name = playlist_name.split(' ')[-1]\n",
    "    else:\n",
    "        playlist_name = 'All Genres'\n",
    "        \n",
    "    playlist_uri_to_name_dict[playlist_uri] = playlist_name"
   ]
  },
  {
   "cell_type": "code",
   "execution_count": 8,
   "metadata": {},
   "outputs": [],
   "source": [
    "# Creating dict to append to\n",
    "data={}\n",
    "data['track_name'] = []\n",
    "data['popularity'] = []\n",
    "data['album_url'] = []\n",
    "data['playlist_uri'] = []\n",
    "\n",
    "\n",
    "# looping through each playlist\n",
    "for playlist in playlist_uris:\n",
    "    \n",
    "    # looping through each track in playlist to append name, popularity rating (our target variable), and album url to pull artwork.\n",
    "    for track in sp.playlist_tracks(playlist)[\"items\"]:\n",
    "        # track name\n",
    "        data['track_name'].append(track[\"track\"][\"name\"])\n",
    "        # popularity of the track\n",
    "        data['popularity'].append(track[\"track\"][\"popularity\"])\n",
    "        # Cover Art URL\n",
    "        data['album_url'].append(track[\"track\"]['album']['images'][0]['url'])\n",
    "        # playlist URI for matching later\n",
    "        data['playlist_uri'].append(playlist)"
   ]
  },
  {
   "cell_type": "code",
   "execution_count": 9,
   "metadata": {},
   "outputs": [],
   "source": [
    "# creating dataframe from above dictionary\n",
    "df = pd.DataFrame(data)"
   ]
  },
  {
   "cell_type": "code",
   "execution_count": 10,
   "metadata": {},
   "outputs": [],
   "source": [
    "# adding in playlist genre\n",
    "df['playlist_name'] = df.playlist_uri.replace(playlist_uri_to_name_dict)"
   ]
  },
  {
   "cell_type": "code",
   "execution_count": 11,
   "metadata": {},
   "outputs": [
    {
     "data": {
      "text/plain": [
       "910"
      ]
     },
     "execution_count": 11,
     "metadata": {},
     "output_type": "execute_result"
    }
   ],
   "source": [
    "len(df)"
   ]
  },
  {
   "cell_type": "code",
   "execution_count": 12,
   "metadata": {},
   "outputs": [],
   "source": [
    "# dropping any potential duplicates \n",
    "df = df.drop_duplicates().reset_index(drop = True)"
   ]
  },
  {
   "cell_type": "code",
   "execution_count": 13,
   "metadata": {},
   "outputs": [],
   "source": [
    "# cleaning track names of characters for cleaner import and export\n",
    "df['track_name_cleaned'] = df.track_name.str.replace(\"(?i)[^0-9a-z!?.;,@' -]\",'')\n",
    "df['track_name_cleaned'] = df.track_name_cleaned.str.replace('.','')\n",
    "df['track_name_cleaned'] = df.track_name_cleaned.str.replace('*','')\n",
    "df['track_name_cleaned'] = df.track_name_cleaned.str.strip()"
   ]
  },
  {
   "cell_type": "code",
   "execution_count": 14,
   "metadata": {},
   "outputs": [],
   "source": [
    "df['key'] = df['track_name_cleaned']+\"_\"+df['playlist_name']"
   ]
  },
  {
   "cell_type": "code",
   "execution_count": 15,
   "metadata": {},
   "outputs": [],
   "source": [
    "# sorting data by trackname to match album art with popularity score\n",
    "df = df.sort_values(by='key').reset_index(drop=True)"
   ]
  },
  {
   "cell_type": "code",
   "execution_count": 16,
   "metadata": {},
   "outputs": [],
   "source": [
    "# # Going through each URL, downloading the image, and saving it to album_art folder\n",
    "# error_list = []\n",
    "# for key, url in zip(df['key'], df['album_url']):\n",
    "    \n",
    "#     try:\n",
    "#         img_data = requests.get(url).content\n",
    "#         with open(f'data/album_art/{key}.jpg', 'wb') as handler:\n",
    "#             handler.write(img_data)\n",
    "#     except:\n",
    "#         error_list.append(key)"
   ]
  },
  {
   "cell_type": "code",
   "execution_count": 17,
   "metadata": {},
   "outputs": [
    {
     "data": {
      "image/png": "[encoded data removed]",
      "text/plain": [
       "<Figure size 432x288 with 1 Axes>"
      ]
     },
     "metadata": {
      "needs_background": "dark"
     },
     "output_type": "display_data"
    }
   ],
   "source": [
    "# Displaying example of photo\n",
    "album_art_example = mpimg.imread(\"data/album_art/\"+df.key[0]+\".jpg\")\n",
    "plt.imshow(album_art_example)\n",
    "\n",
    "\n",
    "plt.title(\"Album Artwork for\"+df.key[0])\n",
    "plt.xlabel(\"X pixel scaling\")\n",
    "plt.ylabel(\"Y pixels scaling\")\n",
    "\n",
    "\n",
    "plt.show()"
   ]
  },
  {
   "cell_type": "code",
   "execution_count": 18,
   "metadata": {},
   "outputs": [
    {
     "name": "stdout",
     "output_type": "stream",
     "text": [
      "Say Datt_Hip-Hop.jpg was resized to (640, 640, 3)\n",
      ".DS_Store did not import\n",
      "Consolation Prize_Rock.jpg was resized to (640, 640, 3)\n",
      "Family Man_Rock.jpg was resized to (640, 640, 3)\n",
      "Say Datt_All Genres.jpg was resized to (640, 640, 3)\n",
      "Goner feat Kellin Quinn_Rock.jpg was resized to (640, 640, 3)\n",
      "At Least_Folk.jpg was resized to (640, 640, 3)\n",
      "Portals_R&B.jpg was resized to (640, 640, 3)\n",
      "Face the Music_Experimental.jpg was resized to (640, 640, 3)\n",
      "Grimiest Ever_Dance.jpg was resized to (640, 640, 3)\n",
      "WORK 4 A SMILE DEMO_R&B.jpg was resized to (640, 640, 3)\n",
      "The Wolves_Country.jpg was resized to (640, 640, 3)\n",
      "Black Visa_Hip-Hop.jpg was resized to (640, 640, 3)\n"
     ]
    }
   ],
   "source": [
    "# importing saved album art files as values in dictionary, with key being the track name. This is so we can later tie the target variable to the features (album art)\n",
    "\n",
    "# initializing dict\n",
    "image_dict = {}\n",
    "\n",
    "# looping through each album art saved\n",
    "for file in os.listdir(\"data/album_art/\"):\n",
    "    \n",
    "    filename = file.split('.jpg')[0]\n",
    "    \n",
    "    # assigning track name as key, and value as matrix form of album art (Height, Width, Depth)\n",
    "    try:\n",
    "        image_dict[filename] = (mpimg.imread('data/album_art/'+file))\n",
    "        \n",
    "        # Not including image if it is not in uniform shape\n",
    "        if image_dict[filename].shape == (640,640):\n",
    "                image_dict[filename] = np.stack((image_dict[filename],)*3, axis=-1)\n",
    "                \n",
    "                newshape = image_dict[filename].shape\n",
    "                print(file+' was resized to '+str(newshape)) \n",
    "            \n",
    "        if image_dict[filename].shape != (640,640,3):\n",
    "            del image_dict[filename]\n",
    "            \n",
    "    # created error list to observe files that were not read in properly        \n",
    "    except:\n",
    "        print(file+' did not import')"
   ]
  },
  {
   "cell_type": "code",
   "execution_count": 19,
   "metadata": {},
   "outputs": [],
   "source": [
    "# filtering down dataframe so that only the files that were read in properly are included. \n",
    "filtered_df = df.loc[df.key.isin(image_dict.keys())]"
   ]
  },
  {
   "cell_type": "code",
   "execution_count": 20,
   "metadata": {},
   "outputs": [
    {
     "data": {
      "text/plain": [
       "0"
      ]
     },
     "execution_count": 20,
     "metadata": {},
     "output_type": "execute_result"
    }
   ],
   "source": [
    "filtered_df.duplicated().sum()"
   ]
  },
  {
   "cell_type": "code",
   "execution_count": 21,
   "metadata": {},
   "outputs": [
    {
     "name": "stdout",
     "output_type": "stream",
     "text": [
      "Could not find associated value for Feels Like_Country, delete from the album art dictionary\n",
      "Could not find associated value for Kinda Don't Ever_Country, delete from the album art dictionary\n",
      "Could not find associated value for Never Buy My Love_All Genres, delete from the album art dictionary\n",
      "Could not find associated value for Sky View_Jazz, delete from the album art dictionary\n",
      "Could not find associated value for Dead Friends_Folk, delete from the album art dictionary\n",
      "Could not find associated value for Megachurch_Folk, delete from the album art dictionary\n",
      "Could not find associated value for Time Traveller_Experimental, delete from the album art dictionary\n",
      "Could not find associated value for Museum_All Genres, delete from the album art dictionary\n",
      "Could not find associated value for Threads_All Genres, delete from the album art dictionary\n",
      "Could not find associated value for The Reproach_R&B, delete from the album art dictionary\n",
      "Could not find associated value for Breakthrough_Jazz, delete from the album art dictionary\n",
      "Could not find associated value for Spit Me Out_Rock, delete from the album art dictionary\n",
      "Could not find associated value for Tequila Money_All Genres, delete from the album art dictionary\n",
      "Could not find associated value for Sleeping Tiger on the Bund  - Flora Wong Remix_Experimental, delete from the album art dictionary\n",
      "Could not find associated value for Be-Leavin_Country, delete from the album art dictionary\n",
      "Could not find associated value for SICK!_Dance, delete from the album art dictionary\n",
      "Could not find associated value for It's All Good_Country, delete from the album art dictionary\n",
      "Could not find associated value for Trail_Experimental, delete from the album art dictionary\n",
      "Could not find associated value for Was it obvious?_Indie, delete from the album art dictionary\n",
      "Could not find associated value for Lesson I Ain't Learned_All Genres, delete from the album art dictionary\n",
      "Could not find associated value for Judas_All Genres, delete from the album art dictionary\n",
      "Could not find associated value for 19_All Genres, delete from the album art dictionary\n",
      "Could not find associated value for Yaksha_Dance, delete from the album art dictionary\n",
      "Could not find associated value for Something To Give_Dance, delete from the album art dictionary\n",
      "Could not find associated value for New Dreams_Jazz, delete from the album art dictionary\n",
      "Could not find associated value for rationality  faith - Pala Chrome Remix_Dance, delete from the album art dictionary\n",
      "Could not find associated value for Who_All Genres, delete from the album art dictionary\n",
      "Could not find associated value for life you lead_All Genres, delete from the album art dictionary\n",
      "Could not find associated value for Flowers From Japan_Indie, delete from the album art dictionary\n",
      "Could not find associated value for Control Dem_All Genres, delete from the album art dictionary\n",
      "Could not find associated value for Persuaded_All Genres, delete from the album art dictionary\n",
      "Could not find associated value for Listen Up!_Rock, delete from the album art dictionary\n",
      "Could not find associated value for Love Feels_Dance, delete from the album art dictionary\n",
      "Could not find associated value for Casanova_Indie, delete from the album art dictionary\n",
      "Could not find associated value for Pinocchio Drift_Jazz, delete from the album art dictionary\n",
      "Could not find associated value for Why I Called_Country, delete from the album art dictionary\n",
      "Could not find associated value for Placeholder_Country, delete from the album art dictionary\n",
      "Could not find associated value for TOP DOWN_Hip-Hop, delete from the album art dictionary\n",
      "Could not find associated value for Close_R&B, delete from the album art dictionary\n",
      "Could not find associated value for seeker missile_Indie, delete from the album art dictionary\n",
      "Could not find associated value for vancouver_All Genres, delete from the album art dictionary\n",
      "Could not find associated value for Why Do I_Country, delete from the album art dictionary\n",
      "Could not find associated value for Sirens Riddim_All Genres, delete from the album art dictionary\n",
      "Could not find associated value for Sober_Pop, delete from the album art dictionary\n",
      "Could not find associated value for Dolmus Havasi_Jazz, delete from the album art dictionary\n",
      "Could not find associated value for Romeo_Country, delete from the album art dictionary\n",
      "Could not find associated value for Baggage_R&B, delete from the album art dictionary\n",
      "Could not find associated value for Alone Girl_Dance, delete from the album art dictionary\n",
      "Could not find associated value for Lost in a Country Song_Country, delete from the album art dictionary\n",
      "Could not find associated value for Dragonfly Meditation_Jazz, delete from the album art dictionary\n",
      "Could not find associated value for Spice Talk_All Genres, delete from the album art dictionary\n",
      "Could not find associated value for Sweat_All Genres, delete from the album art dictionary\n",
      "Could not find associated value for Bonfire_Indie, delete from the album art dictionary\n",
      "Could not find associated value for Remorse_Experimental, delete from the album art dictionary\n",
      "Could not find associated value for Cycles feat Isaiah_All Genres, delete from the album art dictionary\n",
      "Could not find associated value for Pinto_Country, delete from the album art dictionary\n",
      "Could not find associated value for Boa_Indie, delete from the album art dictionary\n",
      "Could not find associated value for Xid_Experimental, delete from the album art dictionary\n",
      "Could not find associated value for Whiskey Lies_Country, delete from the album art dictionary\n",
      "Could not find associated value for Here_R&B, delete from the album art dictionary\n",
      "Could not find associated value for Worlds Within Worlds_Jazz, delete from the album art dictionary\n",
      "Could not find associated value for Incognito_R&B, delete from the album art dictionary\n",
      "Could not find associated value for Sunday Toasted_Country, delete from the album art dictionary\n",
      "Could not find associated value for Myth Machine_Experimental, delete from the album art dictionary\n",
      "Could not find associated value for Never Have I Ever_Country, delete from the album art dictionary\n",
      "Could not find associated value for In the Pitt_Jazz, delete from the album art dictionary\n",
      "Could not find associated value for Monterosso_Dance, delete from the album art dictionary\n",
      "Could not find associated value for Heartbreak_Country, delete from the album art dictionary\n",
      "Could not find associated value for Sleep In_Rock, delete from the album art dictionary\n",
      "Could not find associated value for Over You_Country, delete from the album art dictionary\n",
      "Could not find associated value for Best Part of You_R&B, delete from the album art dictionary\n",
      "Could not find associated value for Get Paid_R&B, delete from the album art dictionary\n",
      "Could not find associated value for Between All Things_All Genres, delete from the album art dictionary\n",
      "Could not find associated value for Dust_Country, delete from the album art dictionary\n",
      "Could not find associated value for Break These Chains_Country, delete from the album art dictionary\n",
      "Could not find associated value for FIST_All Genres, delete from the album art dictionary\n",
      "Could not find associated value for still into u_Dance, delete from the album art dictionary\n",
      "Could not find associated value for Jolly Good Fela_Jazz, delete from the album art dictionary\n",
      "Could not find associated value for You Follow Me Around_Rock, delete from the album art dictionary\n",
      "Could not find associated value for Hop Out 2_All Genres, delete from the album art dictionary\n",
      "Could not find associated value for Heart Exam_Jazz, delete from the album art dictionary\n",
      "Could not find associated value for Muzik_All Genres, delete from the album art dictionary\n",
      "Could not find associated value for Second Love_Experimental, delete from the album art dictionary\n",
      "Could not find associated value for Luv Interlude_R&B, delete from the album art dictionary\n",
      "Could not find associated value for Crush_Country, delete from the album art dictionary\n",
      "Could not find associated value for New Year's Resolution_Indie, delete from the album art dictionary\n",
      "Could not find associated value for Fall In_R&B, delete from the album art dictionary\n",
      "Could not find associated value for Myth Machine_All Genres, delete from the album art dictionary\n",
      "Could not find associated value for Life  Living_Country, delete from the album art dictionary\n",
      "Could not find associated value for Be Mine_Indie, delete from the album art dictionary\n",
      "Could not find associated value for Worse Than Me_Country, delete from the album art dictionary\n",
      "Could not find associated value for The Assistant Marten_Experimental, delete from the album art dictionary\n",
      "Could not find associated value for Rich People Problems_Country, delete from the album art dictionary\n",
      "Could not find associated value for Tears Into Diamonds_Country, delete from the album art dictionary\n",
      "Could not find associated value for I've Been Down_Indie, delete from the album art dictionary\n",
      "Could not find associated value for Agenda_Hip-Hop, delete from the album art dictionary\n",
      "Could not find associated value for lily of the valley_Folk, delete from the album art dictionary\n",
      "Could not find associated value for AHBC_Experimental, delete from the album art dictionary\n",
      "Could not find associated value for The Metallic Index_All Genres, delete from the album art dictionary\n",
      "Could not find associated value for Stationmaster_Experimental, delete from the album art dictionary\n",
      "Could not find associated value for Derby Glen Ln_Country, delete from the album art dictionary\n",
      "Could not find associated value for Petroleum_Dance, delete from the album art dictionary\n",
      "Could not find associated value for Closer_Dance, delete from the album art dictionary\n",
      "Could not find associated value for Sandcastle_All Genres, delete from the album art dictionary\n",
      "Could not find associated value for 30 Thousand Feet I Ain't_Country, delete from the album art dictionary\n",
      "Could not find associated value for Yiyo_All Genres, delete from the album art dictionary\n",
      "Could not find associated value for Chevrolaid Back_Country, delete from the album art dictionary\n",
      "Could not find associated value for Ink_All Genres, delete from the album art dictionary\n",
      "Could not find associated value for Ghostbuster_Indie, delete from the album art dictionary\n",
      "Could not find associated value for Statistics_All Genres, delete from the album art dictionary\n",
      "Could not find associated value for The One_Country, delete from the album art dictionary\n",
      "Could not find associated value for she's in a cage_Indie, delete from the album art dictionary\n",
      "Could not find associated value for Tap_Experimental, delete from the album art dictionary\n",
      "Could not find associated value for Fireball_Country, delete from the album art dictionary\n",
      "Could not find associated value for MUTUAL - ACOUSTIC LIVE_All Genres, delete from the album art dictionary\n",
      "Could not find associated value for Tequila Money_Country, delete from the album art dictionary\n",
      "Could not find associated value for 5 MO' MINUTES_All Genres, delete from the album art dictionary\n",
      "Could not find associated value for That's Deep_Dance, delete from the album art dictionary\n",
      "Could not find associated value for Mac and Steeze_Rock, delete from the album art dictionary\n",
      "Could not find associated value for Say Datt_All Genres, delete from the album art dictionary\n",
      "Could not find associated value for i stayed awake_All Genres, delete from the album art dictionary\n",
      "Could not find associated value for Timbuktu_Country, delete from the album art dictionary\n",
      "Could not find associated value for Supernova_Dance, delete from the album art dictionary\n",
      "Could not find associated value for The Hopeful Kind_Indie, delete from the album art dictionary\n",
      "Could not find associated value for Starting Over_Rock, delete from the album art dictionary\n",
      "Could not find associated value for Sunday Groove_Jazz, delete from the album art dictionary\n",
      "Could not find associated value for Memory Man_Jazz, delete from the album art dictionary\n",
      "Could not find associated value for A Month Ago_All Genres, delete from the album art dictionary\n",
      "Could not find associated value for Back to you_All Genres, delete from the album art dictionary\n",
      "Could not find associated value for Thank God for Good Friends_Country, delete from the album art dictionary\n",
      "Could not find associated value for For the Weekend_Country, delete from the album art dictionary\n",
      "Could not find associated value for Wrong Side of Town_Rock, delete from the album art dictionary\n",
      "Could not find associated value for Drink to That_Country, delete from the album art dictionary\n",
      "Could not find associated value for TONGUE TIED_R&B, delete from the album art dictionary\n",
      "Could not find associated value for i got what i asked for_All Genres, delete from the album art dictionary\n",
      "Could not find associated value for Black Gold - Radio Edit_Rock, delete from the album art dictionary\n",
      "Could not find associated value for int4rmission!_Indie, delete from the album art dictionary\n",
      "Could not find associated value for Fast Car_Rock, delete from the album art dictionary\n",
      "Could not find associated value for Girlfriend with Magical Ears_Jazz, delete from the album art dictionary\n",
      "Could not find associated value for Letting Go_Indie, delete from the album art dictionary\n",
      "Could not find associated value for A Lot to Drink About_Country, delete from the album art dictionary\n",
      "Could not find associated value for Breathe_R&B, delete from the album art dictionary\n",
      "Could not find associated value for Queen St_R&B, delete from the album art dictionary\n",
      "Could not find associated value for Like Bill_Hip-Hop, delete from the album art dictionary\n",
      "Could not find associated value for Jesper_All Genres, delete from the album art dictionary\n",
      "Could not find associated value for Garden_All Genres, delete from the album art dictionary\n",
      "Could not find associated value for Anime Flashbacks_Rock, delete from the album art dictionary\n",
      "Could not find associated value for Persuaded_Country, delete from the album art dictionary\n",
      "Could not find associated value for H2O interlude_All Genres, delete from the album art dictionary\n",
      "Could not find associated value for heaven_Indie, delete from the album art dictionary\n",
      "Could not find associated value for YOU_All Genres, delete from the album art dictionary\n",
      "Could not find associated value for Drumatix_Jazz, delete from the album art dictionary\n",
      "Could not find associated value for Play_All Genres, delete from the album art dictionary\n",
      "Could not find associated value for THE 55_Indie, delete from the album art dictionary\n",
      "Could not find associated value for Ain't Nothin' New_Country, delete from the album art dictionary\n",
      "Could not find associated value for Bloom_Dance, delete from the album art dictionary\n",
      "Could not find associated value for Playboy_All Genres, delete from the album art dictionary\n",
      "Could not find associated value for Get Even_Country, delete from the album art dictionary\n",
      "Could not find associated value for Who Would've Known_Country, delete from the album art dictionary\n",
      "Could not find associated value for Kommissar Brenkstrupp Main Titles_All Genres, delete from the album art dictionary\n",
      "Could not find associated value for Made 4_Country, delete from the album art dictionary\n",
      "Could not find associated value for to all the plants i loved_All Genres, delete from the album art dictionary\n",
      "Could not find associated value for Trenches_Country, delete from the album art dictionary\n",
      "Could not find associated value for Make It Last Forever_All Genres, delete from the album art dictionary\n",
      "Could not find associated value for Something New_Rock, delete from the album art dictionary\n",
      "Could not find associated value for Lemonade_All Genres, delete from the album art dictionary\n",
      "Could not find associated value for Stereo_Dance, delete from the album art dictionary\n",
      "Could not find associated value for Keepsakes_Jazz, delete from the album art dictionary\n",
      "Could not find associated value for Somebody's Hometown_Country, delete from the album art dictionary\n",
      "Could not find associated value for untitled_Folk, delete from the album art dictionary\n",
      "Could not find associated value for Never Been so Fine_Indie, delete from the album art dictionary\n",
      "Could not find associated value for YA YA YA_All Genres, delete from the album art dictionary\n",
      "Could not find associated value for RAGGA_R&B, delete from the album art dictionary\n",
      "Could not find associated value for Stay_Dance, delete from the album art dictionary\n",
      "Could not find associated value for I Hate Cardio_All Genres, delete from the album art dictionary\n",
      "Could not find associated value for Lost Track of Summer_Country, delete from the album art dictionary\n",
      "Could not find associated value for Weightless_All Genres, delete from the album art dictionary\n",
      "Could not find associated value for Complicated_All Genres, delete from the album art dictionary\n",
      "Could not find associated value for 30_Experimental, delete from the album art dictionary\n",
      "Could not find associated value for .SYSTVMRVSTVRT, delete from the album art dictionary\n",
      "Could not find associated value for Didn't Have to Drink_Country, delete from the album art dictionary\n",
      "Could not find associated value for Every Girl is You_Country, delete from the album art dictionary\n",
      "Could not find associated value for Billboard_Country, delete from the album art dictionary\n",
      "Could not find associated value for Off The Edge_All Genres, delete from the album art dictionary\n",
      "Could not find associated value for Up for Anything_Country, delete from the album art dictionary\n",
      "Could not find associated value for Remember_Dance, delete from the album art dictionary\n",
      "Could not find associated value for December_Folk, delete from the album art dictionary\n",
      "Could not find associated value for One And Only_Country, delete from the album art dictionary\n",
      "Could not find associated value for Y So Angry_Jazz, delete from the album art dictionary\n",
      "Could not find associated value for Hours_All Genres, delete from the album art dictionary\n",
      "Could not find associated value for Her song_Folk, delete from the album art dictionary\n",
      "Could not find associated value for Face the Music_Experimental, delete from the album art dictionary\n",
      "Could not find associated value for Much More_R&B, delete from the album art dictionary\n",
      "Could not find associated value for .SYSTVMRVSTVRT*, delete from the album art dictionary\n",
      "Could not find associated value for Planta Dance_Experimental, delete from the album art dictionary\n",
      "Could not find associated value for Viral_Dance, delete from the album art dictionary\n",
      "Could not find associated value for Feels Like_Dance, delete from the album art dictionary\n",
      "Could not find associated value for Whiskey In Me_Country, delete from the album art dictionary\n",
      "Could not find associated value for Free Yola_All Genres, delete from the album art dictionary\n",
      "Could not find associated value for Burn Me Out_Country, delete from the album art dictionary\n",
      "Could not find associated value for Bald_All Genres, delete from the album art dictionary\n",
      "Could not find associated value for pbr_Indie, delete from the album art dictionary\n",
      "Could not find associated value for Jam It Up_Dance, delete from the album art dictionary\n",
      "Could not find associated value for The Way You Dance_Country, delete from the album art dictionary\n",
      "Could not find associated value for Warp Speed_Jazz, delete from the album art dictionary\n",
      "Could not find associated value for Station 5_Dance, delete from the album art dictionary\n",
      "Could not find associated value for Soar_Experimental, delete from the album art dictionary\n",
      "Could not find associated value for The Florist_Indie, delete from the album art dictionary\n",
      "Could not find associated value for Married to the Ground_Folk, delete from the album art dictionary\n",
      "Could not find associated value for Just Wanna Love You_All Genres, delete from the album art dictionary\n",
      "Could not find associated value for 7 Seconds_All Genres, delete from the album art dictionary\n",
      "Could not find associated value for Remorse_All Genres, delete from the album art dictionary\n",
      "Could not find associated value for Flower Power_Jazz, delete from the album art dictionary\n",
      "Could not find associated value for Well Enough Alone_Country, delete from the album art dictionary\n",
      "Could not find associated value for Can't Swim_R&B, delete from the album art dictionary\n",
      "Could not find associated value for Somebody New_Indie, delete from the album art dictionary\n",
      "Could not find associated value for I Can_Rock, delete from the album art dictionary\n",
      "Could not find associated value for Ef_All Genres, delete from the album art dictionary\n",
      "Could not find associated value for Only One_Dance, delete from the album art dictionary\n",
      "Could not find associated value for Im Here With You_R&B, delete from the album art dictionary\n",
      "Could not find associated value for Kristine - Edit_Experimental, delete from the album art dictionary\n",
      "Could not find associated value for Feelings_Hip-Hop, delete from the album art dictionary\n"
     ]
    }
   ],
   "source": [
    "del_list = []\n",
    "\n",
    "for key in image_dict.keys():\n",
    "    if key in df.key.to_list():\n",
    "        pass\n",
    "    else:\n",
    "        print(\"Could not find associated value for \"+key+\", delete from the album art dictionary\")\n",
    "        del_list.append(key)\n",
    "        \n",
    "for key in del_list:\n",
    "    del image_dict[key]"
   ]
  },
  {
   "cell_type": "code",
   "execution_count": 22,
   "metadata": {},
   "outputs": [],
   "source": [
    "# Sorting Dictionary to match DataFrame order\n",
    "image_dict = collections.OrderedDict(sorted(image_dict.items()))"
   ]
  },
  {
   "cell_type": "code",
   "execution_count": 23,
   "metadata": {},
   "outputs": [
    {
     "data": {
      "text/plain": [
       "True"
      ]
     },
     "execution_count": 23,
     "metadata": {},
     "output_type": "execute_result"
    }
   ],
   "source": [
    "# Checking if order of names matches, so we can accuractly match features with target data. \n",
    "filtered_df.key.to_list() == list(image_dict.keys())"
   ]
  },
  {
   "cell_type": "markdown",
   "metadata": {},
   "source": [
    "# -------------------------------------------- DATA PREPARATION --------------------------------------------------------"
   ]
  },
  {
   "cell_type": "code",
   "execution_count": 24,
   "metadata": {},
   "outputs": [],
   "source": [
    "X = np.array(list(image_dict.values()))"
   ]
  },
  {
   "cell_type": "code",
   "execution_count": 25,
   "metadata": {},
   "outputs": [
    {
     "data": {
      "text/plain": [
       "(655, 640, 640, 3)"
      ]
     },
     "execution_count": 25,
     "metadata": {},
     "output_type": "execute_result"
    }
   ],
   "source": [
    "X.shape"
   ]
  },
  {
   "cell_type": "code",
   "execution_count": 26,
   "metadata": {},
   "outputs": [],
   "source": [
    "y = np.array(filtered_df.popularity).reshape(len(filtered_df.popularity), 1)"
   ]
  },
  {
   "cell_type": "code",
   "execution_count": 27,
   "metadata": {},
   "outputs": [
    {
     "data": {
      "text/plain": [
       "(655, 1)"
      ]
     },
     "execution_count": 27,
     "metadata": {},
     "output_type": "execute_result"
    }
   ],
   "source": [
    "y.shape"
   ]
  },
  {
   "cell_type": "code",
   "execution_count": 28,
   "metadata": {},
   "outputs": [],
   "source": [
    "# Split the data into Train and Test, so we can later validate our model on \"unseen\" data.\n",
    "X_train, X_test, y_train, y_test = train_test_split(X, y, test_size=0.25)"
   ]
  },
  {
   "cell_type": "code",
   "execution_count": 29,
   "metadata": {},
   "outputs": [],
   "source": [
    "X_train = X_train / 255\n",
    "X_test  = X_test  / 255"
   ]
  },
  {
   "cell_type": "markdown",
   "metadata": {},
   "source": [
    "# ----------------------------------------------------- MODELING ---------------------------------------------------------"
   ]
  },
  {
   "cell_type": "markdown",
   "metadata": {},
   "source": [
    "#### Baseline Model: Convolutional Neural Network with a flattening layer. "
   ]
  },
  {
   "cell_type": "code",
   "execution_count": null,
   "metadata": {},
   "outputs": [],
   "source": [
    "baseline_model = Sequential()\n",
    "baseline_model.add(layers.Conv2D(64, kernel_size=1, input_shape = X_train[0].shape))\n",
    "baseline_model.add(layers.MaxPooling2D((2, 2)))\n",
    "baseline_model.add(Flatten())\n",
    "baseline_model.add(layers.Dense(1, activation='linear'))"
   ]
  },
  {
   "cell_type": "code",
   "execution_count": 32,
   "metadata": {},
   "outputs": [],
   "source": [
    "model_1.compile(optimizer='adam',\n",
    "              loss='mse',\n",
    "              metrics=['mse'])"
   ]
  },
  {
   "cell_type": "code",
   "execution_count": 33,
   "metadata": {},
   "outputs": [],
   "source": [
    "# history = model.fit(X_train, y_train, epochs=5, \n",
    "#                     validation_data=(X_test, y_test))"
   ]
  },
  {
   "cell_type": "code",
   "execution_count": 34,
   "metadata": {},
   "outputs": [
    {
     "ename": "NameError",
     "evalue": "name 'history' is not defined",
     "output_type": "error",
     "traceback": [
      "\u001b[0;31m---------------------------------------------------------------------------\u001b[0m",
      "\u001b[0;31mNameError\u001b[0m                                 Traceback (most recent call last)",
      "\u001b[0;32m<ipython-input-34-1cbd6365fd40>\u001b[0m in \u001b[0;36m<module>\u001b[0;34m\u001b[0m\n\u001b[0;32m----> 1\u001b[0;31m \u001b[0mplt\u001b[0m\u001b[0;34m.\u001b[0m\u001b[0mplot\u001b[0m\u001b[0;34m(\u001b[0m\u001b[0mhistory\u001b[0m\u001b[0;34m.\u001b[0m\u001b[0mhistory\u001b[0m\u001b[0;34m[\u001b[0m\u001b[0;34m'mse'\u001b[0m\u001b[0;34m]\u001b[0m\u001b[0;34m,\u001b[0m \u001b[0mlabel\u001b[0m\u001b[0;34m=\u001b[0m\u001b[0;34m'mse'\u001b[0m\u001b[0;34m)\u001b[0m\u001b[0;34m\u001b[0m\u001b[0;34m\u001b[0m\u001b[0m\n\u001b[0m\u001b[1;32m      2\u001b[0m \u001b[0mplt\u001b[0m\u001b[0;34m.\u001b[0m\u001b[0mplot\u001b[0m\u001b[0;34m(\u001b[0m\u001b[0mhistory\u001b[0m\u001b[0;34m.\u001b[0m\u001b[0mhistory\u001b[0m\u001b[0;34m[\u001b[0m\u001b[0;34m'val_mse'\u001b[0m\u001b[0;34m]\u001b[0m\u001b[0;34m,\u001b[0m \u001b[0mlabel\u001b[0m \u001b[0;34m=\u001b[0m \u001b[0;34m'val_mse'\u001b[0m\u001b[0;34m)\u001b[0m\u001b[0;34m\u001b[0m\u001b[0;34m\u001b[0m\u001b[0m\n\u001b[1;32m      3\u001b[0m \u001b[0mplt\u001b[0m\u001b[0;34m.\u001b[0m\u001b[0mxlabel\u001b[0m\u001b[0;34m(\u001b[0m\u001b[0;34m'Epoch'\u001b[0m\u001b[0;34m)\u001b[0m\u001b[0;34m\u001b[0m\u001b[0;34m\u001b[0m\u001b[0m\n\u001b[1;32m      4\u001b[0m \u001b[0mplt\u001b[0m\u001b[0;34m.\u001b[0m\u001b[0mylabel\u001b[0m\u001b[0;34m(\u001b[0m\u001b[0;34m'mse'\u001b[0m\u001b[0;34m)\u001b[0m\u001b[0;34m\u001b[0m\u001b[0;34m\u001b[0m\u001b[0m\n\u001b[1;32m      5\u001b[0m \u001b[0mplt\u001b[0m\u001b[0;34m.\u001b[0m\u001b[0mlegend\u001b[0m\u001b[0;34m(\u001b[0m\u001b[0mloc\u001b[0m\u001b[0;34m=\u001b[0m\u001b[0;34m'lower right'\u001b[0m\u001b[0;34m)\u001b[0m\u001b[0;34m\u001b[0m\u001b[0;34m\u001b[0m\u001b[0m\n",
      "\u001b[0;31mNameError\u001b[0m: name 'history' is not defined"
     ]
    }
   ],
   "source": [
    "plt.plot(history.history['mse'], label='mse')\n",
    "plt.plot(history.history['val_mse'], label = 'val_mse')\n",
    "plt.xlabel('Epoch')\n",
    "plt.ylabel('mse')\n",
    "plt.legend(loc='lower right')\n",
    "\n",
    "test_loss, test_acc = model.evaluate(X_test,  y_test, verbose=2)"
   ]
  },
  {
   "cell_type": "code",
   "execution_count": null,
   "metadata": {},
   "outputs": [],
   "source": [
    "y_hat = model.predict(X_test);"
   ]
  },
  {
   "cell_type": "code",
   "execution_count": null,
   "metadata": {},
   "outputs": [],
   "source": [
    "error = y_test - y_hat;"
   ]
  },
  {
   "cell_type": "code",
   "execution_count": null,
   "metadata": {},
   "outputs": [],
   "source": [
    "thr = 10;\n",
    "numCorrect = sum(abs(error) < thr);\n",
    "numValidationImages = len(y_test);\n",
    "\n",
    "accuracy = numCorrect/numValidationImages"
   ]
  },
  {
   "cell_type": "code",
   "execution_count": null,
   "metadata": {},
   "outputs": [],
   "source": [
    "accuracy"
   ]
  },
  {
   "cell_type": "code",
   "execution_count": null,
   "metadata": {},
   "outputs": [],
   "source": [
    "squares = error**2;\n",
    "rmse = np.sqrt(np.mean(squares))"
   ]
  },
  {
   "cell_type": "code",
   "execution_count": null,
   "metadata": {
    "scrolled": true
   },
   "outputs": [],
   "source": [
    "plt.scatter(y_hat,y_test)\n",
    "plt.xlabel(\"Predicted Value\")\n",
    "plt.ylabel(\"True Value\")\n",
    "\n",
    "# plt.plot(np.linspace(10,55,10))\n",
    "\n",
    "plt.xlim([10, 55])\n",
    "plt.ylim([10, 55])"
   ]
  },
  {
   "cell_type": "markdown",
   "metadata": {},
   "source": [
    "### DATA PROCESSING PT. 2 - CHANGING PIXEL SIZE"
   ]
  },
  {
   "cell_type": "code",
   "execution_count": null,
   "metadata": {},
   "outputs": [],
   "source": [
    "# for name in os.listdir('data/album_art'):\n",
    "#     try:\n",
    "#         img = Image.open('data/album_art/'+name)\n",
    "#         img = img.resize((60,60))\n",
    "#         img.save('data/album_art_resized/'+name)\n",
    "#     except:\n",
    "#         print(name+' did not import')"
   ]
  },
  {
   "cell_type": "code",
   "execution_count": 35,
   "metadata": {},
   "outputs": [
    {
     "name": "stdout",
     "output_type": "stream",
     "text": [
      "Say Datt_Hip-Hop.jpg was resized to (60, 60, 3)\n",
      ".DS_Store did not import\n",
      "Consolation Prize_Rock.jpg was resized to (60, 60, 3)\n",
      "Family Man_Rock.jpg was resized to (60, 60, 3)\n",
      "Say Datt_All Genres.jpg was resized to (60, 60, 3)\n",
      "Goner feat Kellin Quinn_Rock.jpg was resized to (60, 60, 3)\n",
      "At Least_Folk.jpg was resized to (60, 60, 3)\n",
      "Portals_R&B.jpg was resized to (60, 60, 3)\n",
      "Face the Music_Experimental.jpg was resized to (60, 60, 3)\n",
      "Grimiest Ever_Dance.jpg was resized to (60, 60, 3)\n",
      "WORK 4 A SMILE DEMO_R&B.jpg was resized to (60, 60, 3)\n",
      "The Wolves_Country.jpg was resized to (60, 60, 3)\n",
      "Black Visa_Hip-Hop.jpg was resized to (60, 60, 3)\n"
     ]
    }
   ],
   "source": [
    "# importing saved album art files as values in dictionary, with key being the track name. This is so we can later tie the target variable to the features (album art)\n",
    "\n",
    "# initializing dict\n",
    "resized_image_dict = {}\n",
    "\n",
    "# looping through each album art saved\n",
    "for file in os.listdir(\"data/album_art_resized/\"):\n",
    "    \n",
    "    filename = file.split('.jpg')[0]\n",
    "    \n",
    "    # assigning track name as key, and value as matrix form of album art (Height, Width, Depth)\n",
    "    try:\n",
    "        resized_image_dict[filename] = (mpimg.imread('data/album_art_resized/'+file))\n",
    "        \n",
    "        # Not including image if it is not in uniform shape\n",
    "        if resized_image_dict[filename].shape == (60,60):\n",
    "                resized_image_dict[filename] = np.stack((resized_image_dict[filename],)*3, axis=-1)\n",
    "                \n",
    "                newshape = resized_image_dict[filename].shape\n",
    "                print(file+' was resized to '+str(newshape)) \n",
    "            \n",
    "        if resized_image_dict[filename].shape != (60,60,3):\n",
    "            del resized_image_dict[filename]\n",
    "            \n",
    "    # created error list to observe files that were not read in properly        \n",
    "    except:\n",
    "        print(file+' did not import')"
   ]
  },
  {
   "cell_type": "code",
   "execution_count": 36,
   "metadata": {},
   "outputs": [],
   "source": [
    "# filtering down dataframe so that only the files that were read in properly are included. \n",
    "resized_filtered_df = df.loc[df.key.isin(resized_image_dict.keys())]"
   ]
  },
  {
   "cell_type": "code",
   "execution_count": 37,
   "metadata": {},
   "outputs": [
    {
     "data": {
      "text/plain": [
       "665"
      ]
     },
     "execution_count": 37,
     "metadata": {},
     "output_type": "execute_result"
    }
   ],
   "source": [
    "len(resized_filtered_df)"
   ]
  },
  {
   "cell_type": "code",
   "execution_count": 38,
   "metadata": {},
   "outputs": [
    {
     "data": {
      "text/plain": [
       "0"
      ]
     },
     "execution_count": 38,
     "metadata": {},
     "output_type": "execute_result"
    }
   ],
   "source": [
    "resized_filtered_df.duplicated().sum()"
   ]
  },
  {
   "cell_type": "code",
   "execution_count": 39,
   "metadata": {},
   "outputs": [
    {
     "name": "stdout",
     "output_type": "stream",
     "text": [
      "Could not find associated value for Feels Like_Country, delete from the album art dictionary\n",
      "Could not find associated value for Kinda Don't Ever_Country, delete from the album art dictionary\n",
      "Could not find associated value for Never Buy My Love_All Genres, delete from the album art dictionary\n",
      "Could not find associated value for Sky View_Jazz, delete from the album art dictionary\n",
      "Could not find associated value for Dead Friends_Folk, delete from the album art dictionary\n",
      "Could not find associated value for Megachurch_Folk, delete from the album art dictionary\n",
      "Could not find associated value for Time Traveller_Experimental, delete from the album art dictionary\n",
      "Could not find associated value for Museum_All Genres, delete from the album art dictionary\n",
      "Could not find associated value for Threads_All Genres, delete from the album art dictionary\n",
      "Could not find associated value for The Reproach_R&B, delete from the album art dictionary\n",
      "Could not find associated value for Breakthrough_Jazz, delete from the album art dictionary\n",
      "Could not find associated value for Spit Me Out_Rock, delete from the album art dictionary\n",
      "Could not find associated value for Tequila Money_All Genres, delete from the album art dictionary\n",
      "Could not find associated value for Sleeping Tiger on the Bund  - Flora Wong Remix_Experimental, delete from the album art dictionary\n",
      "Could not find associated value for Be-Leavin_Country, delete from the album art dictionary\n",
      "Could not find associated value for SICK!_Dance, delete from the album art dictionary\n",
      "Could not find associated value for It's All Good_Country, delete from the album art dictionary\n",
      "Could not find associated value for Trail_Experimental, delete from the album art dictionary\n",
      "Could not find associated value for Was it obvious?_Indie, delete from the album art dictionary\n",
      "Could not find associated value for Lesson I Ain't Learned_All Genres, delete from the album art dictionary\n",
      "Could not find associated value for Judas_All Genres, delete from the album art dictionary\n",
      "Could not find associated value for 19_All Genres, delete from the album art dictionary\n",
      "Could not find associated value for Yaksha_Dance, delete from the album art dictionary\n",
      "Could not find associated value for Something To Give_Dance, delete from the album art dictionary\n",
      "Could not find associated value for New Dreams_Jazz, delete from the album art dictionary\n",
      "Could not find associated value for rationality  faith - Pala Chrome Remix_Dance, delete from the album art dictionary\n",
      "Could not find associated value for Who_All Genres, delete from the album art dictionary\n",
      "Could not find associated value for life you lead_All Genres, delete from the album art dictionary\n",
      "Could not find associated value for Flowers From Japan_Indie, delete from the album art dictionary\n",
      "Could not find associated value for Control Dem_All Genres, delete from the album art dictionary\n",
      "Could not find associated value for Persuaded_All Genres, delete from the album art dictionary\n",
      "Could not find associated value for Listen Up!_Rock, delete from the album art dictionary\n",
      "Could not find associated value for Love Feels_Dance, delete from the album art dictionary\n",
      "Could not find associated value for Casanova_Indie, delete from the album art dictionary\n",
      "Could not find associated value for Pinocchio Drift_Jazz, delete from the album art dictionary\n",
      "Could not find associated value for TBH - C Wills Remix_Hip-Hop, delete from the album art dictionary\n",
      "Could not find associated value for Honey Yes_Country, delete from the album art dictionary\n",
      "Could not find associated value for Why I Called_Country, delete from the album art dictionary\n",
      "Could not find associated value for Placeholder_Country, delete from the album art dictionary\n",
      "Could not find associated value for TOP DOWN_Hip-Hop, delete from the album art dictionary\n",
      "Could not find associated value for Close_R&B, delete from the album art dictionary\n",
      "Could not find associated value for seeker missile_Indie, delete from the album art dictionary\n",
      "Could not find associated value for vancouver_All Genres, delete from the album art dictionary\n",
      "Could not find associated value for Why Do I_Country, delete from the album art dictionary\n",
      "Could not find associated value for Sirens Riddim_All Genres, delete from the album art dictionary\n",
      "Could not find associated value for Sober_Pop, delete from the album art dictionary\n",
      "Could not find associated value for Dolmus Havasi_Jazz, delete from the album art dictionary\n",
      "Could not find associated value for Romeo_Country, delete from the album art dictionary\n",
      "Could not find associated value for Take Your Time_R&B, delete from the album art dictionary\n",
      "Could not find associated value for Baggage_R&B, delete from the album art dictionary\n",
      "Could not find associated value for Will_Indie, delete from the album art dictionary\n",
      "Could not find associated value for Alone Girl_Dance, delete from the album art dictionary\n",
      "Could not find associated value for Lost in a Country Song_Country, delete from the album art dictionary\n",
      "Could not find associated value for Dragonfly Meditation_Jazz, delete from the album art dictionary\n",
      "Could not find associated value for Spice Talk_All Genres, delete from the album art dictionary\n",
      "Could not find associated value for Sweat_All Genres, delete from the album art dictionary\n",
      "Could not find associated value for Bonfire_Indie, delete from the album art dictionary\n",
      "Could not find associated value for Remorse_Experimental, delete from the album art dictionary\n",
      "Could not find associated value for Cycles feat Isaiah_All Genres, delete from the album art dictionary\n",
      "Could not find associated value for Pinto_Country, delete from the album art dictionary\n",
      "Could not find associated value for Boa_Indie, delete from the album art dictionary\n",
      "Could not find associated value for Xid_Experimental, delete from the album art dictionary\n",
      "Could not find associated value for Whiskey Lies_Country, delete from the album art dictionary\n",
      "Could not find associated value for Here_R&B, delete from the album art dictionary\n",
      "Could not find associated value for Worlds Within Worlds_Jazz, delete from the album art dictionary\n",
      "Could not find associated value for Incognito_R&B, delete from the album art dictionary\n",
      "Could not find associated value for Sunday Toasted_Country, delete from the album art dictionary\n",
      "Could not find associated value for Myth Machine_Experimental, delete from the album art dictionary\n",
      "Could not find associated value for Never Have I Ever_Country, delete from the album art dictionary\n",
      "Could not find associated value for In the Pitt_Jazz, delete from the album art dictionary\n",
      "Could not find associated value for Monterosso_Dance, delete from the album art dictionary\n",
      "Could not find associated value for Heartbreak_Country, delete from the album art dictionary\n",
      "Could not find associated value for Sleep In_Rock, delete from the album art dictionary\n",
      "Could not find associated value for Over You_Country, delete from the album art dictionary\n",
      "Could not find associated value for Best Part of You_R&B, delete from the album art dictionary\n",
      "Could not find associated value for Get Paid_R&B, delete from the album art dictionary\n",
      "Could not find associated value for Between All Things_All Genres, delete from the album art dictionary\n",
      "Could not find associated value for Dust_Country, delete from the album art dictionary\n",
      "Could not find associated value for Break These Chains_Country, delete from the album art dictionary\n",
      "Could not find associated value for FIST_All Genres, delete from the album art dictionary\n",
      "Could not find associated value for still into u_Dance, delete from the album art dictionary\n",
      "Could not find associated value for Jolly Good Fela_Jazz, delete from the album art dictionary\n",
      "Could not find associated value for You Follow Me Around_Rock, delete from the album art dictionary\n",
      "Could not find associated value for Hop Out 2_All Genres, delete from the album art dictionary\n",
      "Could not find associated value for Heart Exam_Jazz, delete from the album art dictionary\n",
      "Could not find associated value for Muzik_All Genres, delete from the album art dictionary\n",
      "Could not find associated value for Second Love_Experimental, delete from the album art dictionary\n",
      "Could not find associated value for Luv Interlude_R&B, delete from the album art dictionary\n",
      "Could not find associated value for Crush_Country, delete from the album art dictionary\n",
      "Could not find associated value for New Year's Resolution_Indie, delete from the album art dictionary\n",
      "Could not find associated value for Fall In_R&B, delete from the album art dictionary\n",
      "Could not find associated value for Myth Machine_All Genres, delete from the album art dictionary\n",
      "Could not find associated value for Life  Living_Country, delete from the album art dictionary\n",
      "Could not find associated value for Be Mine_Indie, delete from the album art dictionary\n",
      "Could not find associated value for Worse Than Me_Country, delete from the album art dictionary\n",
      "Could not find associated value for The Assistant Marten_Experimental, delete from the album art dictionary\n",
      "Could not find associated value for Rich People Problems_Country, delete from the album art dictionary\n",
      "Could not find associated value for Tears Into Diamonds_Country, delete from the album art dictionary\n",
      "Could not find associated value for I've Been Down_Indie, delete from the album art dictionary\n",
      "Could not find associated value for Agenda_Hip-Hop, delete from the album art dictionary\n",
      "Could not find associated value for lily of the valley_Folk, delete from the album art dictionary\n",
      "Could not find associated value for AHBC_Experimental, delete from the album art dictionary\n",
      "Could not find associated value for The Metallic Index_All Genres, delete from the album art dictionary\n",
      "Could not find associated value for Stationmaster_Experimental, delete from the album art dictionary\n",
      "Could not find associated value for Not Every Lake Dreams Of Being A Magic Swamp_Experimental, delete from the album art dictionary\n",
      "Could not find associated value for Derby Glen Ln_Country, delete from the album art dictionary\n",
      "Could not find associated value for Petroleum_Dance, delete from the album art dictionary\n",
      "Could not find associated value for Closer_Dance, delete from the album art dictionary\n",
      "Could not find associated value for Sandcastle_All Genres, delete from the album art dictionary\n",
      "Could not find associated value for 30 Thousand Feet I Ain't_Country, delete from the album art dictionary\n",
      "Could not find associated value for Yiyo_All Genres, delete from the album art dictionary\n",
      "Could not find associated value for Chevrolaid Back_Country, delete from the album art dictionary\n",
      "Could not find associated value for Ink_All Genres, delete from the album art dictionary\n",
      "Could not find associated value for Ghostbuster_Indie, delete from the album art dictionary\n",
      "Could not find associated value for Statistics_All Genres, delete from the album art dictionary\n",
      "Could not find associated value for The One_Country, delete from the album art dictionary\n",
      "Could not find associated value for she's in a cage_Indie, delete from the album art dictionary\n",
      "Could not find associated value for Tap_Experimental, delete from the album art dictionary\n",
      "Could not find associated value for Fireball_Country, delete from the album art dictionary\n",
      "Could not find associated value for MUTUAL - ACOUSTIC LIVE_All Genres, delete from the album art dictionary\n",
      "Could not find associated value for Tequila Money_Country, delete from the album art dictionary\n",
      "Could not find associated value for 5 MO' MINUTES_All Genres, delete from the album art dictionary\n",
      "Could not find associated value for That's Deep_Dance, delete from the album art dictionary\n",
      "Could not find associated value for Mac and Steeze_Rock, delete from the album art dictionary\n",
      "Could not find associated value for Say Datt_All Genres, delete from the album art dictionary\n",
      "Could not find associated value for i stayed awake_All Genres, delete from the album art dictionary\n",
      "Could not find associated value for Timbuktu_Country, delete from the album art dictionary\n",
      "Could not find associated value for Supernova_Dance, delete from the album art dictionary\n",
      "Could not find associated value for The Hopeful Kind_Indie, delete from the album art dictionary\n",
      "Could not find associated value for Starting Over_Rock, delete from the album art dictionary\n",
      "Could not find associated value for Sunday Groove_Jazz, delete from the album art dictionary\n",
      "Could not find associated value for Memory Man_Jazz, delete from the album art dictionary\n",
      "Could not find associated value for A Month Ago_All Genres, delete from the album art dictionary\n",
      "Could not find associated value for Back to you_All Genres, delete from the album art dictionary\n",
      "Could not find associated value for Thank God for Good Friends_Country, delete from the album art dictionary\n",
      "Could not find associated value for For the Weekend_Country, delete from the album art dictionary\n",
      "Could not find associated value for Wrong Side of Town_Rock, delete from the album art dictionary\n",
      "Could not find associated value for Drink to That_Country, delete from the album art dictionary\n",
      "Could not find associated value for TONGUE TIED_R&B, delete from the album art dictionary\n",
      "Could not find associated value for i got what i asked for_All Genres, delete from the album art dictionary\n",
      "Could not find associated value for Black Gold - Radio Edit_Rock, delete from the album art dictionary\n",
      "Could not find associated value for int4rmission!_Indie, delete from the album art dictionary\n",
      "Could not find associated value for Fast Car_Rock, delete from the album art dictionary\n",
      "Could not find associated value for Girlfriend with Magical Ears_Jazz, delete from the album art dictionary\n",
      "Could not find associated value for Letting Go_Indie, delete from the album art dictionary\n",
      "Could not find associated value for A Lot to Drink About_Country, delete from the album art dictionary\n",
      "Could not find associated value for Breathe_R&B, delete from the album art dictionary\n",
      "Could not find associated value for Queen St_R&B, delete from the album art dictionary\n",
      "Could not find associated value for Like Bill_Hip-Hop, delete from the album art dictionary\n",
      "Could not find associated value for Jesper_All Genres, delete from the album art dictionary\n",
      "Could not find associated value for Garden_All Genres, delete from the album art dictionary\n",
      "Could not find associated value for Anime Flashbacks_Rock, delete from the album art dictionary\n",
      "Could not find associated value for Persuaded_Country, delete from the album art dictionary\n",
      "Could not find associated value for H2O interlude_All Genres, delete from the album art dictionary\n",
      "Could not find associated value for heaven_Indie, delete from the album art dictionary\n",
      "Could not find associated value for YOU_All Genres, delete from the album art dictionary\n",
      "Could not find associated value for Drumatix_Jazz, delete from the album art dictionary\n",
      "Could not find associated value for Play_All Genres, delete from the album art dictionary\n",
      "Could not find associated value for THE 55_Indie, delete from the album art dictionary\n",
      "Could not find associated value for Ain't Nothin' New_Country, delete from the album art dictionary\n",
      "Could not find associated value for Bloom_Dance, delete from the album art dictionary\n",
      "Could not find associated value for Bonsai Jungle_Jazz, delete from the album art dictionary\n",
      "Could not find associated value for Playboy_All Genres, delete from the album art dictionary\n",
      "Could not find associated value for Get Even_Country, delete from the album art dictionary\n",
      "Could not find associated value for Who Would've Known_Country, delete from the album art dictionary\n",
      "Could not find associated value for Kommissar Brenkstrupp Main Titles_All Genres, delete from the album art dictionary\n",
      "Could not find associated value for Made 4_Country, delete from the album art dictionary\n",
      "Could not find associated value for to all the plants i loved_All Genres, delete from the album art dictionary\n",
      "Could not find associated value for Trenches_Country, delete from the album art dictionary\n",
      "Could not find associated value for Make It Last Forever_All Genres, delete from the album art dictionary\n",
      "Could not find associated value for Something New_Rock, delete from the album art dictionary\n",
      "Could not find associated value for Lemonade_All Genres, delete from the album art dictionary\n",
      "Could not find associated value for Stereo_Dance, delete from the album art dictionary\n",
      "Could not find associated value for Keepsakes_Jazz, delete from the album art dictionary\n",
      "Could not find associated value for Somebody's Hometown_Country, delete from the album art dictionary\n",
      "Could not find associated value for untitled_Folk, delete from the album art dictionary\n",
      "Could not find associated value for Never Been so Fine_Indie, delete from the album art dictionary\n",
      "Could not find associated value for YA YA YA_All Genres, delete from the album art dictionary\n",
      "Could not find associated value for RAGGA_R&B, delete from the album art dictionary\n",
      "Could not find associated value for Stay_Dance, delete from the album art dictionary\n",
      "Could not find associated value for I Hate Cardio_All Genres, delete from the album art dictionary\n",
      "Could not find associated value for Lost Track of Summer_Country, delete from the album art dictionary\n",
      "Could not find associated value for Weightless_All Genres, delete from the album art dictionary\n",
      "Could not find associated value for Complicated_All Genres, delete from the album art dictionary\n",
      "Could not find associated value for 30_Experimental, delete from the album art dictionary\n",
      "Could not find associated value for .SYSTVMRVSTVRT, delete from the album art dictionary\n",
      "Could not find associated value for Didn't Have to Drink_Country, delete from the album art dictionary\n",
      "Could not find associated value for Every Girl is You_Country, delete from the album art dictionary\n",
      "Could not find associated value for Billboard_Country, delete from the album art dictionary\n",
      "Could not find associated value for Off The Edge_All Genres, delete from the album art dictionary\n",
      "Could not find associated value for Up for Anything_Country, delete from the album art dictionary\n",
      "Could not find associated value for Remember_Dance, delete from the album art dictionary\n",
      "Could not find associated value for December_Folk, delete from the album art dictionary\n",
      "Could not find associated value for One And Only_Country, delete from the album art dictionary\n",
      "Could not find associated value for Y So Angry_Jazz, delete from the album art dictionary\n",
      "Could not find associated value for Hours_All Genres, delete from the album art dictionary\n",
      "Could not find associated value for Her song_Folk, delete from the album art dictionary\n",
      "Could not find associated value for Face the Music_Experimental, delete from the album art dictionary\n",
      "Could not find associated value for Much More_R&B, delete from the album art dictionary\n",
      "Could not find associated value for .SYSTVMRVSTVRT*, delete from the album art dictionary\n",
      "Could not find associated value for Planta Dance_Experimental, delete from the album art dictionary\n",
      "Could not find associated value for Viral_Dance, delete from the album art dictionary\n",
      "Could not find associated value for Feels Like_Dance, delete from the album art dictionary\n",
      "Could not find associated value for Whiskey In Me_Country, delete from the album art dictionary\n",
      "Could not find associated value for Free Yola_All Genres, delete from the album art dictionary\n",
      "Could not find associated value for Burn Me Out_Country, delete from the album art dictionary\n",
      "Could not find associated value for Shallots_Experimental, delete from the album art dictionary\n",
      "Could not find associated value for Bald_All Genres, delete from the album art dictionary\n",
      "Could not find associated value for pbr_Indie, delete from the album art dictionary\n",
      "Could not find associated value for Jam It Up_Dance, delete from the album art dictionary\n",
      "Could not find associated value for The Way You Dance_Country, delete from the album art dictionary\n",
      "Could not find associated value for Warp Speed_Jazz, delete from the album art dictionary\n",
      "Could not find associated value for Station 5_Dance, delete from the album art dictionary\n",
      "Could not find associated value for Soar_Experimental, delete from the album art dictionary\n",
      "Could not find associated value for The Florist_Indie, delete from the album art dictionary\n",
      "Could not find associated value for Married to the Ground_Folk, delete from the album art dictionary\n",
      "Could not find associated value for Just Wanna Love You_All Genres, delete from the album art dictionary\n",
      "Could not find associated value for 7 Seconds_All Genres, delete from the album art dictionary\n",
      "Could not find associated value for EASIER TO BE ANGRY_R&B, delete from the album art dictionary\n",
      "Could not find associated value for Remorse_All Genres, delete from the album art dictionary\n",
      "Could not find associated value for Flower Power_Jazz, delete from the album art dictionary\n",
      "Could not find associated value for Well Enough Alone_Country, delete from the album art dictionary\n",
      "Could not find associated value for Can't Swim_R&B, delete from the album art dictionary\n",
      "Could not find associated value for Somebody New_Indie, delete from the album art dictionary\n",
      "Could not find associated value for 3AM_Pop, delete from the album art dictionary\n",
      "Could not find associated value for I Can_Rock, delete from the album art dictionary\n",
      "Could not find associated value for Ef_All Genres, delete from the album art dictionary\n",
      "Could not find associated value for Bakehouse 306_Experimental, delete from the album art dictionary\n",
      "Could not find associated value for Only One_Dance, delete from the album art dictionary\n",
      "Could not find associated value for Im Here With You_R&B, delete from the album art dictionary\n",
      "Could not find associated value for Kristine - Edit_Experimental, delete from the album art dictionary\n",
      "Could not find associated value for Feelings_Hip-Hop, delete from the album art dictionary\n"
     ]
    }
   ],
   "source": [
    "del_list = []\n",
    "\n",
    "for key in resized_image_dict.keys():\n",
    "    if key in df.key.to_list():\n",
    "        pass\n",
    "    else:\n",
    "        print(\"Could not find associated value for \"+key+\", delete from the album art dictionary\")\n",
    "        del_list.append(key)\n",
    "        \n",
    "for key in del_list:\n",
    "    del resized_image_dict[key]"
   ]
  },
  {
   "cell_type": "code",
   "execution_count": 40,
   "metadata": {},
   "outputs": [],
   "source": [
    "# Sorting Dictionary to match DataFrame order\n",
    "resized_image_dict = collections.OrderedDict(sorted(resized_image_dict.items()))"
   ]
  },
  {
   "cell_type": "code",
   "execution_count": 41,
   "metadata": {},
   "outputs": [
    {
     "data": {
      "text/plain": [
       "True"
      ]
     },
     "execution_count": 41,
     "metadata": {},
     "output_type": "execute_result"
    }
   ],
   "source": [
    "# Checking if order of names matches, so we can accuractly match features with target data. \n",
    "resized_filtered_df.key.to_list() == list(resized_image_dict.keys())"
   ]
  },
  {
   "cell_type": "markdown",
   "metadata": {},
   "source": [
    "### DATA PREP PART 2 - REDUCED PIXEL SIZE"
   ]
  },
  {
   "cell_type": "code",
   "execution_count": 42,
   "metadata": {},
   "outputs": [
    {
     "data": {
      "text/plain": [
       "(665, 60, 60, 3)"
      ]
     },
     "execution_count": 42,
     "metadata": {},
     "output_type": "execute_result"
    }
   ],
   "source": [
    "X = np.array(list(resized_image_dict.values()))\n",
    "X.shape"
   ]
  },
  {
   "cell_type": "code",
   "execution_count": 43,
   "metadata": {},
   "outputs": [
    {
     "data": {
      "text/plain": [
       "(665, 1)"
      ]
     },
     "execution_count": 43,
     "metadata": {},
     "output_type": "execute_result"
    }
   ],
   "source": [
    "y = np.array(resized_filtered_df.popularity).reshape(len(resized_filtered_df.popularity), 1)\n",
    "y.shape"
   ]
  },
  {
   "cell_type": "code",
   "execution_count": 44,
   "metadata": {},
   "outputs": [],
   "source": [
    "# Split the data into Train and Test, so we can later validate our model on \"unseen\" data.\n",
    "X_train, X_test, y_train, y_test = train_test_split(X, y, test_size=0.25)"
   ]
  },
  {
   "cell_type": "code",
   "execution_count": 45,
   "metadata": {},
   "outputs": [],
   "source": [
    "X_train = X_train / 255\n",
    "X_test  = X_test  / 255"
   ]
  },
  {
   "cell_type": "markdown",
   "metadata": {},
   "source": [
    "## MODEL #2: REDUCED PIXELS"
   ]
  },
  {
   "cell_type": "code",
   "execution_count": 112,
   "metadata": {},
   "outputs": [],
   "source": [
    "model = Sequential()\n",
    "model.add(layers.Conv2D(64, kernel_size=1, input_shape = X_train[0].shape))\n",
    "model.add(layers.MaxPooling2D((2, 2)))\n",
    "model.add(Flatten())\n",
    "model.add(layers.Dense(1, activation='linear'))"
   ]
  },
  {
   "cell_type": "code",
   "execution_count": 67,
   "metadata": {},
   "outputs": [],
   "source": [
    "model.compile(optimizer='adam',\n",
    "              loss='mse',\n",
    "              metrics=['mse'])"
   ]
  },
  {
   "cell_type": "code",
   "execution_count": 68,
   "metadata": {},
   "outputs": [
    {
     "name": "stdout",
     "output_type": "stream",
     "text": [
      "Epoch 1/5\n",
      "16/16 [==============================] - 1s 40ms/step - loss: 453.8011 - mse: 453.8011 - val_loss: 295.0034 - val_mse: 295.0034\n",
      "Epoch 2/5\n",
      "16/16 [==============================] - 1s 32ms/step - loss: 262.1863 - mse: 262.1863 - val_loss: 273.2537 - val_mse: 273.2537\n",
      "Epoch 3/5\n",
      "16/16 [==============================] - 1s 31ms/step - loss: 219.1346 - mse: 219.1346 - val_loss: 223.9107 - val_mse: 223.9107\n",
      "Epoch 4/5\n",
      "16/16 [==============================] - 1s 34ms/step - loss: 181.2820 - mse: 181.2820 - val_loss: 185.6718 - val_mse: 185.6718\n",
      "Epoch 5/5\n",
      "16/16 [==============================] - 1s 34ms/step - loss: 141.7044 - mse: 141.7044 - val_loss: 169.4515 - val_mse: 169.4515\n"
     ]
    }
   ],
   "source": [
    "history = model.fit(X_train, y_train, epochs=5, \n",
    "                    validation_data=(X_test, y_test))"
   ]
  },
  {
   "cell_type": "code",
   "execution_count": 69,
   "metadata": {},
   "outputs": [
    {
     "name": "stdout",
     "output_type": "stream",
     "text": [
      "6/6 - 0s - loss: 169.4515 - mse: 169.4515\n"
     ]
    },
    {
     "data": {
      "image/png": "[encoded data removed]",
      "text/plain": [
       "<Figure size 432x288 with 1 Axes>"
      ]
     },
     "metadata": {
      "needs_background": "dark"
     },
     "output_type": "display_data"
    }
   ],
   "source": [
    "plt.plot(history.history['mse'], label='mse')\n",
    "plt.plot(history.history['val_mse'], label = 'val_mse')\n",
    "plt.xlabel('Epoch')\n",
    "plt.ylabel('mse')\n",
    "plt.legend(loc='lower right')\n",
    "\n",
    "test_loss, test_acc = model.evaluate(X_test,  y_test, verbose=2)"
   ]
  },
  {
   "cell_type": "code",
   "execution_count": 70,
   "metadata": {},
   "outputs": [],
   "source": [
    "y_hat = model.predict(X_test);\n",
    "error = y_test - y_hat;"
   ]
  },
  {
   "cell_type": "code",
   "execution_count": 71,
   "metadata": {},
   "outputs": [],
   "source": [
    "thr = 5;\n",
    "numCorrect = sum(abs(error) < thr);\n",
    "numValidationImages = len(y_test);\n",
    "\n",
    "accuracy = numCorrect/numValidationImages"
   ]
  },
  {
   "cell_type": "code",
   "execution_count": 72,
   "metadata": {},
   "outputs": [
    {
     "data": {
      "text/plain": [
       "array([0.2754491])"
      ]
     },
     "execution_count": 72,
     "metadata": {},
     "output_type": "execute_result"
    }
   ],
   "source": [
    "accuracy"
   ]
  },
  {
   "cell_type": "code",
   "execution_count": 73,
   "metadata": {},
   "outputs": [],
   "source": [
    "squares = error**2;\n",
    "rmse = np.sqrt(np.mean(squares))"
   ]
  },
  {
   "cell_type": "code",
   "execution_count": 74,
   "metadata": {},
   "outputs": [
    {
     "data": {
      "text/plain": [
       "(10.0, 55.0)"
      ]
     },
     "execution_count": 74,
     "metadata": {},
     "output_type": "execute_result"
    },
    {
     "data": {
      "image/png": "[encoded data removed]",
      "text/plain": [
       "<Figure size 432x288 with 1 Axes>"
      ]
     },
     "metadata": {
      "needs_background": "dark"
     },
     "output_type": "display_data"
    }
   ],
   "source": [
    "plt.scatter(y_hat,y_test)\n",
    "plt.xlabel(\"Predicted Value\")\n",
    "plt.ylabel(\"True Value\")\n",
    "\n",
    "# plt.plot(np.linspace(10,55,10))\n",
    "\n",
    "plt.xlim([10, 55])\n",
    "plt.ylim([10, 55])"
   ]
  },
  {
   "cell_type": "markdown",
   "metadata": {},
   "source": [
    "### Model #3: added Conv2d layers and increase in epochs"
   ]
  },
  {
   "cell_type": "code",
   "execution_count": 75,
   "metadata": {},
   "outputs": [],
   "source": [
    "# good to use a repeating structure for cnns"
   ]
  },
  {
   "cell_type": "code",
   "execution_count": 115,
   "metadata": {},
   "outputs": [],
   "source": [
    "model = Sequential()\n",
    "model.add(layers.Conv2D(64, kernel_size=1, input_shape = X_train[0].shape, activation='relu'))\n",
    "model.add(layers.MaxPooling2D((2, 2)))\n",
    "model.add(layers.Conv2D(64, (3, 3), activation='relu'))\n",
    "model.add(layers.MaxPooling2D((2, 2)))\n",
    "model.add(layers.Conv2D(64, (3, 3), activation='relu'))\n",
    "model.add(layers.MaxPooling2D((2, 2)))\n",
    "model.add(Flatten())\n",
    "model.add(layers.Dense(1, activation='linear'))\n",
    "\n",
    "model.compile(optimizer='adam',\n",
    "              loss='mse',\n",
    "              metrics=['mse'])"
   ]
  },
  {
   "cell_type": "code",
   "execution_count": 116,
   "metadata": {},
   "outputs": [
    {
     "name": "stdout",
     "output_type": "stream",
     "text": [
      "Epoch 1/15\n",
      "16/16 [==============================] - 2s 116ms/step - loss: 678.5422 - mse: 678.5422 - val_loss: 272.2836 - val_mse: 272.2836\n",
      "Epoch 2/15\n",
      "16/16 [==============================] - 2s 106ms/step - loss: 226.4465 - mse: 226.4465 - val_loss: 203.7253 - val_mse: 203.7253\n",
      "Epoch 3/15\n",
      "16/16 [==============================] - 2s 105ms/step - loss: 170.3075 - mse: 170.3075 - val_loss: 157.9781 - val_mse: 157.9781\n",
      "Epoch 4/15\n",
      "16/16 [==============================] - 2s 106ms/step - loss: 138.5027 - mse: 138.5027 - val_loss: 135.5329 - val_mse: 135.5329\n",
      "Epoch 5/15\n",
      "16/16 [==============================] - 2s 103ms/step - loss: 111.8417 - mse: 111.8417 - val_loss: 116.9135 - val_mse: 116.9135\n",
      "Epoch 6/15\n",
      "16/16 [==============================] - 2s 101ms/step - loss: 96.5187 - mse: 96.5187 - val_loss: 124.1319 - val_mse: 124.1319\n",
      "Epoch 7/15\n",
      "16/16 [==============================] - 2s 102ms/step - loss: 93.1303 - mse: 93.1303 - val_loss: 98.0391 - val_mse: 98.0391\n",
      "Epoch 8/15\n",
      "16/16 [==============================] - 2s 103ms/step - loss: 89.6241 - mse: 89.6241 - val_loss: 103.3498 - val_mse: 103.3498\n",
      "Epoch 9/15\n",
      "16/16 [==============================] - 2s 104ms/step - loss: 90.4743 - mse: 90.4743 - val_loss: 103.2046 - val_mse: 103.2046\n",
      "Epoch 10/15\n",
      "16/16 [==============================] - 2s 106ms/step - loss: 85.3873 - mse: 85.3873 - val_loss: 93.6536 - val_mse: 93.6536\n",
      "Epoch 11/15\n",
      "16/16 [==============================] - 2s 111ms/step - loss: 84.0364 - mse: 84.0364 - val_loss: 91.5947 - val_mse: 91.5947\n",
      "Epoch 12/15\n",
      "16/16 [==============================] - 2s 106ms/step - loss: 83.2205 - mse: 83.2205 - val_loss: 93.2057 - val_mse: 93.2057\n",
      "Epoch 13/15\n",
      "16/16 [==============================] - 2s 115ms/step - loss: 84.2594 - mse: 84.2594 - val_loss: 90.6812 - val_mse: 90.6812\n",
      "Epoch 14/15\n",
      "16/16 [==============================] - 2s 115ms/step - loss: 83.1605 - mse: 83.1605 - val_loss: 90.2738 - val_mse: 90.2738\n",
      "Epoch 15/15\n",
      "16/16 [==============================] - 2s 117ms/step - loss: 83.6998 - mse: 83.6998 - val_loss: 94.7869 - val_mse: 94.7869\n"
     ]
    }
   ],
   "source": [
    "history = model.fit(X_train, y_train, epochs=15, \n",
    "                    validation_data=(X_test, y_test))"
   ]
  },
  {
   "cell_type": "code",
   "execution_count": 117,
   "metadata": {},
   "outputs": [
    {
     "name": "stdout",
     "output_type": "stream",
     "text": [
      "6/6 - 0s - loss: 94.7869 - mse: 94.7869\n"
     ]
    },
    {
     "data": {
      "image/png": "[encoded data removed]",
      "text/plain": [
       "<Figure size 432x288 with 1 Axes>"
      ]
     },
     "metadata": {
      "needs_background": "dark"
     },
     "output_type": "display_data"
    }
   ],
   "source": [
    "plt.plot(history.history['mse'], label='mse')\n",
    "plt.plot(history.history['val_mse'], label = 'val_mse')\n",
    "plt.xlabel('Epoch')\n",
    "plt.ylabel('mse')\n",
    "plt.legend(loc='upper right')\n",
    "\n",
    "test_loss, test_acc = model.evaluate(X_test,  y_test, verbose=2)"
   ]
  },
  {
   "cell_type": "code",
   "execution_count": 118,
   "metadata": {},
   "outputs": [
    {
     "name": "stdout",
     "output_type": "stream",
     "text": [
      "ROOT MEAN SQUARED ERROR: 9.73585776577339\n"
     ]
    },
    {
     "data": {
      "image/png": "[encoded data removed]",
      "text/plain": [
       "<Figure size 360x360 with 1 Axes>"
      ]
     },
     "metadata": {
      "needs_background": "dark"
     },
     "output_type": "display_data"
    }
   ],
   "source": [
    "y_hat = model.predict(X_test);\n",
    "error = y_test - y_hat\n",
    "\n",
    "rmse = np.sqrt(np.mean(error**2))\n",
    "\n",
    "plt.figure(figsize=(5, 5))\n",
    "plt.scatter(y_hat,y_test)\n",
    "plt.xlabel(\"Predicted Value\")\n",
    "plt.ylabel(\"True Value\")\n",
    "yvy = np.linspace(10,55,2)\n",
    "plt.plot(yvy, yvy, color='red', linestyle='dashed')\n",
    "plt.xlim([10, 55])\n",
    "plt.ylim([10, 55])\n",
    "\n",
    "print('ROOT MEAN SQUARED ERROR: '+str(rmse))"
   ]
  },
  {
   "cell_type": "markdown",
   "metadata": {},
   "source": [
    "## Model 3. tuning parameters"
   ]
  },
  {
   "cell_type": "code",
   "execution_count": 185,
   "metadata": {},
   "outputs": [
    {
     "name": "stdout",
     "output_type": "stream",
     "text": [
      "Epoch 1/40\n",
      "16/16 [==============================] - 4s 266ms/step - loss: 369.7610 - mse: 369.7610 - val_loss: 201.4929 - val_mse: 201.4929\n",
      "Epoch 2/40\n",
      "16/16 [==============================] - 4s 255ms/step - loss: 182.0892 - mse: 182.0892 - val_loss: 157.6918 - val_mse: 157.6918\n",
      "Epoch 3/40\n",
      "16/16 [==============================] - 4s 253ms/step - loss: 138.7163 - mse: 138.7163 - val_loss: 161.6470 - val_mse: 161.6470\n",
      "Epoch 4/40\n",
      "16/16 [==============================] - 6s 378ms/step - loss: 125.6274 - mse: 125.6274 - val_loss: 120.3077 - val_mse: 120.3077\n",
      "Epoch 5/40\n",
      "16/16 [==============================] - 5s 282ms/step - loss: 101.4829 - mse: 101.4829 - val_loss: 154.1721 - val_mse: 154.1721\n",
      "Epoch 6/40\n",
      "16/16 [==============================] - 4s 277ms/step - loss: 89.5343 - mse: 89.5343 - val_loss: 139.0606 - val_mse: 139.0606\n",
      "Epoch 7/40\n",
      "16/16 [==============================] - 5s 326ms/step - loss: 97.8811 - mse: 97.8811 - val_loss: 112.3460 - val_mse: 112.3460\n",
      "Epoch 8/40\n",
      "16/16 [==============================] - 4s 276ms/step - loss: 84.6424 - mse: 84.6424 - val_loss: 106.9942 - val_mse: 106.9942\n",
      "Epoch 9/40\n",
      "16/16 [==============================] - 5s 307ms/step - loss: 67.9047 - mse: 67.9047 - val_loss: 120.1583 - val_mse: 120.1583\n",
      "Epoch 10/40\n",
      "16/16 [==============================] - 6s 367ms/step - loss: 66.6857 - mse: 66.6857 - val_loss: 105.7514 - val_mse: 105.7514\n",
      "Epoch 11/40\n",
      "16/16 [==============================] - 5s 341ms/step - loss: 58.9582 - mse: 58.9582 - val_loss: 99.7052 - val_mse: 99.7052\n",
      "Epoch 12/40\n",
      "16/16 [==============================] - 5s 322ms/step - loss: 51.4243 - mse: 51.4243 - val_loss: 119.8826 - val_mse: 119.8826\n",
      "Epoch 13/40\n",
      "16/16 [==============================] - 4s 267ms/step - loss: 55.7223 - mse: 55.7223 - val_loss: 105.5171 - val_mse: 105.5171\n",
      "Epoch 14/40\n",
      "16/16 [==============================] - 5s 294ms/step - loss: 47.5498 - mse: 47.5498 - val_loss: 127.3123 - val_mse: 127.3123\n",
      "Epoch 15/40\n",
      "16/16 [==============================] - 5s 297ms/step - loss: 39.6648 - mse: 39.6648 - val_loss: 110.0273 - val_mse: 110.0273\n",
      "Epoch 16/40\n",
      "16/16 [==============================] - 4s 275ms/step - loss: 35.8864 - mse: 35.8864 - val_loss: 124.6184 - val_mse: 124.6184\n",
      "Epoch 17/40\n",
      "16/16 [==============================] - 4s 265ms/step - loss: 30.3516 - mse: 30.3516 - val_loss: 120.4349 - val_mse: 120.4349\n",
      "Epoch 18/40\n",
      "16/16 [==============================] - 5s 294ms/step - loss: 24.3999 - mse: 24.3999 - val_loss: 125.7721 - val_mse: 125.7721\n",
      "Epoch 19/40\n",
      "16/16 [==============================] - 5s 288ms/step - loss: 20.8063 - mse: 20.8063 - val_loss: 134.9888 - val_mse: 134.9888\n",
      "Epoch 20/40\n",
      "16/16 [==============================] - 5s 336ms/step - loss: 19.7658 - mse: 19.7658 - val_loss: 133.0066 - val_mse: 133.0066\n",
      "Epoch 21/40\n",
      "16/16 [==============================] - 5s 327ms/step - loss: 21.5969 - mse: 21.5969 - val_loss: 120.6145 - val_mse: 120.6145\n",
      "Epoch 22/40\n",
      "16/16 [==============================] - 5s 341ms/step - loss: 20.6549 - mse: 20.6549 - val_loss: 128.5994 - val_mse: 128.5994\n",
      "Epoch 23/40\n",
      "16/16 [==============================] - 5s 282ms/step - loss: 27.5216 - mse: 27.5216 - val_loss: 129.5282 - val_mse: 129.5282\n",
      "Epoch 24/40\n",
      "16/16 [==============================] - 4s 264ms/step - loss: 18.0325 - mse: 18.0325 - val_loss: 131.6236 - val_mse: 131.6236\n",
      "Epoch 25/40\n",
      "16/16 [==============================] - 4s 264ms/step - loss: 17.8025 - mse: 17.8025 - val_loss: 121.7326 - val_mse: 121.7326\n",
      "Epoch 26/40\n",
      "16/16 [==============================] - 5s 293ms/step - loss: 12.1938 - mse: 12.1938 - val_loss: 127.7669 - val_mse: 127.7669\n",
      "Epoch 27/40\n",
      "16/16 [==============================] - 5s 289ms/step - loss: 10.7959 - mse: 10.7959 - val_loss: 125.6123 - val_mse: 125.6123\n",
      "Epoch 28/40\n",
      "16/16 [==============================] - 5s 293ms/step - loss: 9.5051 - mse: 9.5051 - val_loss: 125.9117 - val_mse: 125.9117\n",
      "Epoch 29/40\n",
      "16/16 [==============================] - 4s 279ms/step - loss: 9.7205 - mse: 9.7205 - val_loss: 125.6371 - val_mse: 125.6371\n",
      "Epoch 30/40\n",
      "16/16 [==============================] - 6s 356ms/step - loss: 7.4510 - mse: 7.4510 - val_loss: 129.9774 - val_mse: 129.9774\n",
      "Epoch 31/40\n",
      "16/16 [==============================] - 5s 288ms/step - loss: 5.9650 - mse: 5.9650 - val_loss: 132.5040 - val_mse: 132.5040\n",
      "Epoch 32/40\n",
      "16/16 [==============================] - 4s 248ms/step - loss: 5.5635 - mse: 5.5635 - val_loss: 128.3103 - val_mse: 128.3103\n",
      "Epoch 33/40\n",
      "16/16 [==============================] - 4s 245ms/step - loss: 5.0463 - mse: 5.0463 - val_loss: 128.2165 - val_mse: 128.2165\n",
      "Epoch 34/40\n",
      "16/16 [==============================] - 4s 262ms/step - loss: 4.6551 - mse: 4.6551 - val_loss: 128.6163 - val_mse: 128.6163\n",
      "Epoch 35/40\n",
      "16/16 [==============================] - 4s 246ms/step - loss: 4.3053 - mse: 4.3053 - val_loss: 129.5849 - val_mse: 129.5849\n",
      "Epoch 36/40\n",
      "16/16 [==============================] - 4s 251ms/step - loss: 5.4076 - mse: 5.4076 - val_loss: 130.5162 - val_mse: 130.5162\n",
      "Epoch 37/40\n",
      "16/16 [==============================] - 4s 247ms/step - loss: 4.5398 - mse: 4.5398 - val_loss: 125.4806 - val_mse: 125.4806\n",
      "Epoch 38/40\n",
      "16/16 [==============================] - 4s 244ms/step - loss: 5.3366 - mse: 5.3366 - val_loss: 125.5886 - val_mse: 125.5886\n",
      "Epoch 39/40\n",
      "16/16 [==============================] - 4s 249ms/step - loss: 3.6725 - mse: 3.6725 - val_loss: 124.2979 - val_mse: 124.2979\n",
      "Epoch 40/40\n",
      "16/16 [==============================] - 4s 248ms/step - loss: 2.8350 - mse: 2.8350 - val_loss: 132.6003 - val_mse: 132.6003\n",
      "Test loss: 132.60028076171875\n",
      "Test accuracy: 132.60028076171875\n"
     ]
    }
   ],
   "source": [
    "# build the model\n",
    "model = Sequential()\n",
    "model.add(layers.Conv2D(32, kernel_size =(5, 5), strides =(1, 1), activation ='relu'))\n",
    "# model.add(layers.MaxPooling2D(pool_size =(2, 2), strides =(2, 2)))\n",
    "model.add(layers.Conv2D(64, (5, 5), activation ='relu'))\n",
    "# model.add(layers.MaxPooling2D(pool_size =(2, 2)))\n",
    "model.add(Flatten())\n",
    "model.add(layers.Dense(1, activation='relu'))\n",
    "  \n",
    "# training the model\n",
    "model.compile(optimizer='adam',\n",
    "              loss='mse',\n",
    "              metrics=['mse'])\n",
    "  \n",
    "# fitting the model\n",
    "history = model.fit(X_train, y_train, epochs=40, \n",
    "                    validation_data=(X_test, y_test))\n",
    "  \n",
    "# evaluating and printing results\n",
    "score = model.evaluate(X_test, y_test, verbose = 0)\n",
    "print('Test loss:', score[0])\n",
    "print('Test accuracy:', score[1])"
   ]
  },
  {
   "cell_type": "code",
   "execution_count": 186,
   "metadata": {},
   "outputs": [
    {
     "name": "stdout",
     "output_type": "stream",
     "text": [
      "6/6 - 0s - loss: 132.6003 - mse: 132.6003\n"
     ]
    },
    {
     "data": {
      "image/png": "[encoded data removed]",
      "text/plain": [
       "<Figure size 432x288 with 1 Axes>"
      ]
     },
     "metadata": {
      "needs_background": "dark"
     },
     "output_type": "display_data"
    }
   ],
   "source": [
    "plt.plot(history.history['mse'], label='mse')\n",
    "plt.plot(history.history['val_mse'], label = 'val_mse')\n",
    "plt.xlabel('Epoch')\n",
    "plt.ylabel('mse')\n",
    "plt.legend(loc='upper right')\n",
    "\n",
    "test_loss, test_acc = model.evaluate(X_test,  y_test, verbose=2)"
   ]
  },
  {
   "cell_type": "code",
   "execution_count": 187,
   "metadata": {},
   "outputs": [
    {
     "name": "stdout",
     "output_type": "stream",
     "text": [
      "WARNING:tensorflow:5 out of the last 11 calls to <function Model.make_predict_function.<locals>.predict_function at 0x15a03f0d0> triggered tf.function retracing. Tracing is expensive and the excessive number of tracings could be due to (1) creating @tf.function repeatedly in a loop, (2) passing tensors with different shapes, (3) passing Python objects instead of tensors. For (1), please define your @tf.function outside of the loop. For (2), @tf.function has experimental_relax_shapes=True option that relaxes argument shapes that can avoid unnecessary retracing. For (3), please refer to https://www.tensorflow.org/tutorials/customization/performance#python_or_tensor_args and https://www.tensorflow.org/api_docs/python/tf/function for  more details.\n",
      "ROOT MEAN SQUARED ERROR: 11.515219412675965\n"
     ]
    },
    {
     "data": {
      "image/png": "[encoded data removed]",
      "text/plain": [
       "<Figure size 360x360 with 1 Axes>"
      ]
     },
     "metadata": {
      "needs_background": "dark"
     },
     "output_type": "display_data"
    }
   ],
   "source": [
    "y_hat = model.predict(X_test);\n",
    "error = y_test - y_hat\n",
    "\n",
    "rmse = np.sqrt(np.mean(error**2))\n",
    "\n",
    "plt.figure(figsize=(5, 5))\n",
    "plt.scatter(y_hat,y_test)\n",
    "plt.xlabel(\"Predicted Value\")\n",
    "plt.ylabel(\"True Value\")\n",
    "yvy = np.linspace(10,55,2)\n",
    "plt.plot(yvy, yvy, color='red', linestyle='dashed')\n",
    "plt.xlim([10, 55])\n",
    "plt.ylim([10, 55])\n",
    "\n",
    "print('ROOT MEAN SQUARED ERROR: '+str(rmse))"
   ]
  },
  {
   "cell_type": "markdown",
   "metadata": {},
   "source": [
    "Model 4 - tuning filters"
   ]
  },
  {
   "cell_type": "code",
   "execution_count": null,
   "metadata": {},
   "outputs": [],
   "source": []
  },
  {
   "cell_type": "markdown",
   "metadata": {},
   "source": [
    "#  -------------------------------------- FINAL MODEL EVALUATION ----------------------------------------------------"
   ]
  },
  {
   "cell_type": "markdown",
   "metadata": {},
   "source": [
    "# -------------------------------------- CONCLUSION AND NEXT STEPS ----------------------------------------------"
   ]
  },
  {
   "cell_type": "markdown",
   "metadata": {},
   "source": [
    "- with more time, I would look into creating my own architecture to mix categorical variables with image classification. this would help me take genre of a playlist into account, as my hypothesis is that album art could affect success of a track depending on the genre it's in. \n",
    "\n",
    "- I would also look into finding a different target variable to measure \"success\". "
   ]
  },
  {
   "cell_type": "code",
   "execution_count": null,
   "metadata": {},
   "outputs": [],
   "source": []
  }
 ],
 "metadata": {
  "kernelspec": {
   "display_name": "Python (learn-env)",
   "language": "python",
   "name": "learn-env"
  },
  "language_info": {
   "codemirror_mode": {
    "name": "ipython",
    "version": 3
   },
   "file_extension": ".py",
   "mimetype": "text/x-python",
   "name": "python",
   "nbconvert_exporter": "python",
   "pygments_lexer": "ipython3",
   "version": "3.8.5"
  }
 },
 "nbformat": 4,
 "nbformat_minor": 4
}
