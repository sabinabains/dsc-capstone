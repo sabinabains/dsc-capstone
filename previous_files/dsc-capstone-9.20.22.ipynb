{
 "cells": [
  {
   "cell_type": "markdown",
   "metadata": {},
   "source": [
    "# CAPSTONE PROJECT \n",
    " - Student- Sabina Bains\n",
    " - Presentation Date- 10/01/2022\n",
    " - Instructor- Abhineet Kulkarni"
   ]
  },
  {
   "cell_type": "markdown",
   "metadata": {},
   "source": [
    "# BUSINESS UNDERSTANDING ------------------------------------------------------------------------------------------"
   ]
  },
  {
   "cell_type": "markdown",
   "metadata": {},
   "source": [
    "A picture is said to be worth a thousand words, but does that saying apply to album art? Before streaming services such as Spotify became the preferred format for music consumption,\n",
    "listeners would peruse the aisles of music stores, scanning the album artwork of CD's and Vinyl Records. During this time, album art likely affected what users chose to purchase. Our goal is to predict whether album art still plays a role in the success of the album's music, and if so, which album covers are predicted to be most sucessful?\n",
    "\n",
    "\n",
    "active vs passive listening. \n",
    "album art tells a story and gives context"
   ]
  },
  {
   "cell_type": "markdown",
   "metadata": {},
   "source": [
    "To do this we will experiment with Convolutional Neural Networks, a class of Neural Networks that deals with handling Image data.\n",
    "\n"
   ]
  },
  {
   "cell_type": "markdown",
   "metadata": {},
   "source": [
    "# DATA UNDERSTANDING ------------------------------------------------------------------------------------------------"
   ]
  },
  {
   "cell_type": "code",
   "execution_count": null,
   "metadata": {},
   "outputs": [],
   "source": [
    "!pip3 install spotipy --upgrade\n",
    "!pip3 install pillow"
   ]
  },
  {
   "cell_type": "markdown",
   "metadata": {},
   "source": [
    "#### Importing Packages"
   ]
  },
  {
   "cell_type": "code",
   "execution_count": 1,
   "metadata": {},
   "outputs": [],
   "source": [
    "import matplotlib as mpl\n",
    "import matplotlib.pyplot as plt\n",
    "\n",
    "from sklearn.model_selection import train_test_split\n",
    "from matplotlib import image as mpimg\n",
    " \n",
    "from keras.models import Sequential\n",
    "from tensorflow.keras import layers\n",
    "from keras.layers import Dense, Dropout, Conv2D, MaxPool2D, Flatten\n",
    "import re\n",
    "from keras.preprocessing.image import ImageDataGenerator, array_to_img, img_to_array, load_img\n",
    "import numpy as np\n",
    "import os\n",
    "\n",
    "# changing colors of output\n",
    "COLOR = 'white'\n",
    "mpl.rcParams['text.color'] = 'grey'\n",
    "mpl.rcParams['axes.labelcolor'] = COLOR\n",
    "mpl.rcParams['xtick.color'] = COLOR\n",
    "mpl.rcParams['ytick.color'] = COLOR\n",
    "\n",
    "import spotipy\n",
    "from spotipy.oauth2 import SpotifyClientCredentials\n",
    "import os\n",
    "import pandas as pd\n",
    "\n",
    "# load and show an image with Pillow\n",
    "from PIL import Image\n",
    "\n",
    "\n",
    "from matplotlib import pyplot\n",
    "\n",
    "import requests\n",
    "\n",
    "from IPython.display import Image as img_display\n",
    "\n",
    "import collections"
   ]
  },
  {
   "cell_type": "markdown",
   "metadata": {},
   "source": [
    "#### Using credentials to pull album art and popularity score (target variable) from Spotify's API (SpotiPy)"
   ]
  },
  {
   "cell_type": "code",
   "execution_count": 2,
   "metadata": {},
   "outputs": [],
   "source": [
    "# User will have to create their own spotipy account and put their own CID and SECRET keys into the following variables\n",
    "creds  = pd.read_csv('data/spotipy_credentials.csv', header = None)\n",
    "\n",
    "cid    = creds[1][0]\n",
    "secret = creds[1][1]"
   ]
  },
  {
   "cell_type": "code",
   "execution_count": 3,
   "metadata": {},
   "outputs": [],
   "source": [
    "# Accessing API\n",
    "client_credentials_manager = SpotifyClientCredentials(client_id=cid, client_secret=secret)\n",
    "sp = spotipy.Spotify(client_credentials_manager = client_credentials_manager)"
   ]
  },
  {
   "cell_type": "code",
   "execution_count": 4,
   "metadata": {},
   "outputs": [],
   "source": [
    "# Creating list of playlists with independent artists to pull album art data from\n",
    "fresh_finds_playlists = [\n",
    "'https://open.spotify.com/playlist/37i9dQZF1DWT0upuUFtT7o',\n",
    "'https://open.spotify.com/playlist/37i9dQZF1DWUFAJPVM3HTX',\n",
    "'https://open.spotify.com/playlist/37i9dQZF1DX3u9TSHqpdJC',\n",
    "'https://open.spotify.com/playlist/37i9dQZF1DWW4igXXl2Qkp',\n",
    "'https://open.spotify.com/playlist/37i9dQZF1DX78toxP7mOaJ',\n",
    "'https://open.spotify.com/playlist/37i9dQZF1DXdS3lvGe1GrT',\n",
    "'https://open.spotify.com/playlist/37i9dQZF1DWYUfsq4hxHWP',\n",
    "'https://open.spotify.com/playlist/37i9dQZF1DX6bBjHfdRnza',\n",
    "'https://open.spotify.com/playlist/37i9dQZF1DX8C585qnMYHP',\n",
    "'https://open.spotify.com/playlist/37i9dQZF1DXcWL5K0oNHcG',\n",
    "'https://open.spotify.com/playlist/37i9dQZF1DWWjGdmeTyeJ6'\n",
    "]"
   ]
  },
  {
   "cell_type": "code",
   "execution_count": 5,
   "metadata": {},
   "outputs": [],
   "source": [
    "# looping through playlist lists to pull all tracks from each list\n",
    "playlist_uris = []\n",
    "\n",
    "for playlist in fresh_finds_playlists:\n",
    "    playlist_uris.append(playlist.split(\"/\")[-1].split(\"?\")[0])"
   ]
  },
  {
   "cell_type": "code",
   "execution_count": 6,
   "metadata": {},
   "outputs": [],
   "source": [
    "playlist_uri_to_name_dict = {}\n",
    "\n",
    "for playlist_uri in playlist_uris:\n",
    "    playlist_name = sp.user_playlist(user=None, playlist_id=playlist_uri, fields=\"name\")['name']\n",
    "    \n",
    "    if playlist_name != \"Fresh Finds\":\n",
    "        playlist_name = playlist_name.split(' ')[-1]\n",
    "    else:\n",
    "        playlist_name = 'All Genres'\n",
    "        \n",
    "    playlist_uri_to_name_dict[playlist_uri] = playlist_name"
   ]
  },
  {
   "cell_type": "code",
   "execution_count": 7,
   "metadata": {},
   "outputs": [],
   "source": [
    "# Creating dict to append to\n",
    "data={}\n",
    "data['track_name'] = []\n",
    "data['popularity'] = []\n",
    "data['album_url'] = []\n",
    "data['playlist_uri'] = []\n",
    "\n",
    "\n",
    "# looping through each playlist\n",
    "for playlist in playlist_uris:\n",
    "    \n",
    "    # looping through each track in playlist to append name, popularity rating (our target variable), and album url to pull artwork.\n",
    "    for track in sp.playlist_tracks(playlist)[\"items\"]:\n",
    "        # track name\n",
    "        data['track_name'].append(track[\"track\"][\"name\"])\n",
    "        # popularity of the track\n",
    "        data['popularity'].append(track[\"track\"][\"popularity\"])\n",
    "        # Cover Art URL\n",
    "        data['album_url'].append(track[\"track\"]['album']['images'][0]['url'])\n",
    "        # playlist URI for matching later\n",
    "        data['playlist_uri'].append(playlist)"
   ]
  },
  {
   "cell_type": "code",
   "execution_count": 8,
   "metadata": {},
   "outputs": [],
   "source": [
    "# creating dataframe from above dictionary\n",
    "df = pd.DataFrame(data)"
   ]
  },
  {
   "cell_type": "code",
   "execution_count": 9,
   "metadata": {},
   "outputs": [],
   "source": [
    "# adding in playlist genre\n",
    "df['playlist_name'] = df.playlist_uri.replace(playlist_uri_to_name_dict)"
   ]
  },
  {
   "cell_type": "code",
   "execution_count": 10,
   "metadata": {},
   "outputs": [
    {
     "data": {
      "text/plain": [
       "895"
      ]
     },
     "execution_count": 10,
     "metadata": {},
     "output_type": "execute_result"
    }
   ],
   "source": [
    "len(df)"
   ]
  },
  {
   "cell_type": "code",
   "execution_count": 11,
   "metadata": {},
   "outputs": [],
   "source": [
    "# dropping any potential duplicates \n",
    "df = df.drop_duplicates().reset_index(drop = True)"
   ]
  },
  {
   "cell_type": "code",
   "execution_count": 12,
   "metadata": {},
   "outputs": [],
   "source": [
    "# cleaning track names of characters for cleaner import and export\n",
    "df['track_name_cleaned'] = df.track_name.str.replace(\"(?i)[^0-9a-z!?.;,@' -]\",'')\n",
    "df['track_name_cleaned'] = df.track_name_cleaned.str.replace('.','')\n",
    "df['track_name_cleaned'] = df.track_name_cleaned.str.replace('*','')\n",
    "df['track_name_cleaned'] = df.track_name_cleaned.str.strip()"
   ]
  },
  {
   "cell_type": "code",
   "execution_count": 13,
   "metadata": {},
   "outputs": [],
   "source": [
    "df['key'] = df['track_name_cleaned']+\"_\"+df['playlist_name']"
   ]
  },
  {
   "cell_type": "code",
   "execution_count": 14,
   "metadata": {},
   "outputs": [],
   "source": [
    "# sorting data by trackname to match album art with popularity score\n",
    "df = df.sort_values(by='key').reset_index(drop=True)"
   ]
  },
  {
   "cell_type": "code",
   "execution_count": 15,
   "metadata": {},
   "outputs": [],
   "source": [
    "# # Going through each URL, downloading the image, and saving it to album_art folder\n",
    "# error_list = []\n",
    "# for key, url in zip(df['key'], df['album_url']):\n",
    "    \n",
    "#     try:\n",
    "#         img_data = requests.get(url).content\n",
    "#         with open(f'data/album_art/{key}.jpg', 'wb') as handler:\n",
    "#             handler.write(img_data)\n",
    "#     except:\n",
    "#         error_list.append(key)"
   ]
  },
  {
   "cell_type": "code",
   "execution_count": 17,
   "metadata": {},
   "outputs": [
    {
     "data": {
      "image/png": "[encoded data removed]",
      "text/plain": [
       "<Figure size 432x288 with 1 Axes>"
      ]
     },
     "metadata": {
      "needs_background": "dark"
     },
     "output_type": "display_data"
    }
   ],
   "source": [
    "# Displaying example of photo\n",
    "album_art_example = mpimg.imread(\"data/album_art/\"+df.key[0]+\".jpg\")\n",
    "plt.imshow(album_art_example)\n",
    "\n",
    "\n",
    "plt.title(\"Album Artwork for\"+df.key[0])\n",
    "plt.xlabel(\"X pixel scaling\")\n",
    "plt.ylabel(\"Y pixels scaling\")\n",
    "\n",
    "\n",
    "plt.show()"
   ]
  },
  {
   "cell_type": "code",
   "execution_count": 19,
   "metadata": {},
   "outputs": [
    {
     "name": "stdout",
     "output_type": "stream",
     "text": [
      "Say Datt_Hip-Hop.jpg was resized to (640, 640, 3)\n",
      ".DS_Store did not import\n",
      "Consolation Prize_Rock.jpg was resized to (640, 640, 3)\n",
      "Family Man_Rock.jpg was resized to (640, 640, 3)\n",
      "Say Datt_All Genres.jpg was resized to (640, 640, 3)\n",
      "Goner feat Kellin Quinn_Rock.jpg was resized to (640, 640, 3)\n",
      "At Least_Folk.jpg was resized to (640, 640, 3)\n",
      "Portals_R&B.jpg was resized to (640, 640, 3)\n",
      "Face the Music_Experimental.jpg was resized to (640, 640, 3)\n",
      "Grimiest Ever_Dance.jpg was resized to (640, 640, 3)\n",
      "WORK 4 A SMILE DEMO_R&B.jpg was resized to (640, 640, 3)\n",
      "The Wolves_Country.jpg was resized to (640, 640, 3)\n",
      "Black Visa_Hip-Hop.jpg was resized to (640, 640, 3)\n"
     ]
    }
   ],
   "source": [
    "# importing saved album art files as values in dictionary, with key being the track name. This is so we can later tie the target variable to the features (album art)\n",
    "\n",
    "# initializing dict\n",
    "image_dict = {}\n",
    "\n",
    "# looping through each album art saved\n",
    "for file in os.listdir(\"data/album_art/\"):\n",
    "    \n",
    "    filename = file.split('.jpg')[0]\n",
    "    \n",
    "    # assigning track name as key, and value as matrix form of album art (Height, Width, Depth)\n",
    "    try:\n",
    "        image_dict[filename] = (mpimg.imread('data/album_art/'+file))\n",
    "        \n",
    "        # Not including image if it is not in uniform shape\n",
    "        if image_dict[filename].shape == (640,640):\n",
    "                image_dict[filename] = np.stack((image_dict[filename],)*3, axis=-1)\n",
    "                \n",
    "                newshape = image_dict[filename].shape\n",
    "                print(file+' was resized to '+str(newshape)) \n",
    "            \n",
    "        if image_dict[filename].shape != (640,640,3):\n",
    "            del image_dict[filename]\n",
    "            \n",
    "    # created error list to observe files that were not read in properly        \n",
    "    except:\n",
    "        print(file+' did not import')"
   ]
  },
  {
   "cell_type": "code",
   "execution_count": 20,
   "metadata": {},
   "outputs": [],
   "source": [
    "# filtering down dataframe so that only the files that were read in properly are included. \n",
    "filtered_df = df.loc[df.key.isin(image_dict.keys())]"
   ]
  },
  {
   "cell_type": "code",
   "execution_count": 21,
   "metadata": {},
   "outputs": [
    {
     "data": {
      "text/plain": [
       "0"
      ]
     },
     "execution_count": 21,
     "metadata": {},
     "output_type": "execute_result"
    }
   ],
   "source": [
    "filtered_df.duplicated().sum()"
   ]
  },
  {
   "cell_type": "code",
   "execution_count": 22,
   "metadata": {},
   "outputs": [
    {
     "name": "stdout",
     "output_type": "stream",
     "text": [
      "Could not find associated value for .SYSTVMRVSTVRT, delete from the album art dictionary\n",
      "Could not find associated value for .SYSTVMRVSTVRT*, delete from the album art dictionary\n"
     ]
    }
   ],
   "source": [
    "del_list = []\n",
    "\n",
    "for key in image_dict.keys():\n",
    "    if key in df.key.to_list():\n",
    "        pass\n",
    "    else:\n",
    "        print(\"Could not find associated value for \"+key+\", delete from the album art dictionary\")\n",
    "        del_list.append(key)\n",
    "        \n",
    "for key in del_list:\n",
    "    del image_dict[key]"
   ]
  },
  {
   "cell_type": "code",
   "execution_count": 23,
   "metadata": {},
   "outputs": [],
   "source": [
    "# Sorting Dictionary to match DataFrame order\n",
    "image_dict = collections.OrderedDict(sorted(image_dict.items()))"
   ]
  },
  {
   "cell_type": "code",
   "execution_count": 24,
   "metadata": {},
   "outputs": [
    {
     "data": {
      "text/plain": [
       "True"
      ]
     },
     "execution_count": 24,
     "metadata": {},
     "output_type": "execute_result"
    }
   ],
   "source": [
    "# Checking if order of names matches, so we can accuractly match features with target data. \n",
    "filtered_df.key.to_list() == list(image_dict.keys())"
   ]
  },
  {
   "cell_type": "markdown",
   "metadata": {},
   "source": [
    "# DATA PREPARATION -----------------------------------------------------------------------------------------------------"
   ]
  },
  {
   "cell_type": "code",
   "execution_count": 25,
   "metadata": {},
   "outputs": [],
   "source": [
    "X = np.array(list(image_dict.values()))"
   ]
  },
  {
   "cell_type": "code",
   "execution_count": 26,
   "metadata": {},
   "outputs": [
    {
     "data": {
      "text/plain": [
       "(875, 640, 640, 3)"
      ]
     },
     "execution_count": 26,
     "metadata": {},
     "output_type": "execute_result"
    }
   ],
   "source": [
    "X.shape"
   ]
  },
  {
   "cell_type": "code",
   "execution_count": 27,
   "metadata": {},
   "outputs": [],
   "source": [
    "y = np.array(filtered_df.popularity).reshape(len(filtered_df.popularity), 1)"
   ]
  },
  {
   "cell_type": "code",
   "execution_count": 28,
   "metadata": {},
   "outputs": [
    {
     "data": {
      "text/plain": [
       "(875, 1)"
      ]
     },
     "execution_count": 28,
     "metadata": {},
     "output_type": "execute_result"
    }
   ],
   "source": [
    "y.shape"
   ]
  },
  {
   "cell_type": "code",
   "execution_count": 29,
   "metadata": {},
   "outputs": [],
   "source": [
    "# Split the data into Train and Test, so we can later validate our model on \"unseen\" data.\n",
    "X_train, X_test, y_train, y_test = train_test_split(X, y, test_size=0.25)"
   ]
  },
  {
   "cell_type": "code",
   "execution_count": 30,
   "metadata": {},
   "outputs": [],
   "source": [
    "X_train = X_train / 255\n",
    "X_test  = X_test  / 255"
   ]
  },
  {
   "cell_type": "markdown",
   "metadata": {},
   "source": [
    "# ----------------------------------------------------- MODELING ---------------------------------------------------------"
   ]
  },
  {
   "cell_type": "code",
   "execution_count": null,
   "metadata": {},
   "outputs": [],
   "source": [
    "def evaluate_model(model, thr):\n",
    "    plt.plot(history.history['mse'], label='mse')\n",
    "    plt.plot(history.history['val_mse'], label = 'val_mse')\n",
    "    plt.xlabel('Epoch')\n",
    "    plt.ylabel('mse')\n",
    "    plt.legend(loc='lower right')\n",
    "\n",
    "    test_loss, test_acc = model.evaluate(X_test,  y_test, verbose=2)\n",
    "    \n",
    "    \n",
    "    y_hat = model.predict(X_test);\n",
    "    error = y_test - y_hat;\n",
    "    \n",
    "    numCorrect = sum(abs(error) < thr);\n",
    "    numValidationImages = len(y_test);\n",
    "\n",
    "    accuracy = numCorrect/numValidationImages\n",
    "    accuracy\n",
    "    \n",
    "    squares = error**2;\n",
    "    rmse = np.sqrt(np.mean(squares))\n",
    "    \n",
    "    plt.scatter(y_hat,y_test)\n",
    "    plt.xlabel(\"Predicted Value\")\n",
    "    plt.ylabel(\"True Value\")\n",
    "\n",
    "    # plt.plot(np.linspace(10,55,10))\n",
    "\n",
    "    plt.xlim([10, 55])\n",
    "    plt.ylim([10, 55])\n",
    "    "
   ]
  },
  {
   "cell_type": "markdown",
   "metadata": {},
   "source": [
    "The first model I will be running is a Convolutional Neural Network with one pooling layer and a flattening layer. "
   ]
  },
  {
   "cell_type": "code",
   "execution_count": 32,
   "metadata": {},
   "outputs": [],
   "source": [
    "model_1 = Sequential()\n",
    "model_1.add(layers.Conv2D(64, kernel_size=1, input_shape = X_train[0].shape))\n",
    "model_1.add(layers.MaxPooling2D((2, 2)))\n",
    "model_1.add(Flatten())\n",
    "model_1.add(layers.Dense(1, activation='linear'))"
   ]
  },
  {
   "cell_type": "code",
   "execution_count": 33,
   "metadata": {},
   "outputs": [],
   "source": [
    "model_1.compile(optimizer='adam',\n",
    "              loss='mse',\n",
    "              metrics=['mse'])"
   ]
  },
  {
   "cell_type": "code",
   "execution_count": 34,
   "metadata": {},
   "outputs": [
    {
     "name": "stdout",
     "output_type": "stream",
     "text": [
      "Epoch 1/5\n",
      "21/21 [==============================] - 335s 16s/step - loss: 76332.9219 - mse: 76332.9219 - val_loss: 26640.1445 - val_mse: 26640.1445\n",
      "Epoch 2/5\n",
      "21/21 [==============================] - 271s 13s/step - loss: 6020.3379 - mse: 6020.3379 - val_loss: 699.5198 - val_mse: 699.5198\n",
      "Epoch 3/5\n",
      "21/21 [==============================] - 263s 13s/step - loss: 1071.8613 - mse: 1071.8613 - val_loss: 281.8731 - val_mse: 281.8731\n",
      "Epoch 4/5\n",
      "21/21 [==============================] - 278s 13s/step - loss: 396.3245 - mse: 396.3245 - val_loss: 235.4261 - val_mse: 235.4261\n",
      "Epoch 5/5\n",
      "21/21 [==============================] - 289s 14s/step - loss: 243.2515 - mse: 243.2515 - val_loss: 150.7756 - val_mse: 150.7756\n"
     ]
    }
   ],
   "source": [
    "history = model.fit(X_train, y_train, epochs=5, \n",
    "                    validation_data=(X_test, y_test))"
   ]
  },
  {
   "cell_type": "code",
   "execution_count": 35,
   "metadata": {},
   "outputs": [
    {
     "name": "stdout",
     "output_type": "stream",
     "text": [
      "7/7 - 11s - loss: 150.7756 - mse: 150.7756\n"
     ]
    },
    {
     "data": {
      "image/png": "[encoded data removed]",
      "text/plain": [
       "<Figure size 432x288 with 1 Axes>"
      ]
     },
     "metadata": {
      "needs_background": "dark"
     },
     "output_type": "display_data"
    }
   ],
   "source": [
    "plt.plot(history.history['mse'], label='mse')\n",
    "plt.plot(history.history['val_mse'], label = 'val_mse')\n",
    "plt.xlabel('Epoch')\n",
    "plt.ylabel('mse')\n",
    "plt.legend(loc='lower right')\n",
    "\n",
    "test_loss, test_acc = model.evaluate(X_test,  y_test, verbose=2)"
   ]
  },
  {
   "cell_type": "code",
   "execution_count": 36,
   "metadata": {},
   "outputs": [],
   "source": [
    "y_hat = model.predict(X_test);"
   ]
  },
  {
   "cell_type": "code",
   "execution_count": 37,
   "metadata": {},
   "outputs": [],
   "source": [
    "error = y_test - y_hat;"
   ]
  },
  {
   "cell_type": "code",
   "execution_count": 38,
   "metadata": {},
   "outputs": [],
   "source": [
    "thr = 10;\n",
    "numCorrect = sum(abs(error) < thr);\n",
    "numValidationImages = len(y_test);\n",
    "\n",
    "accuracy = numCorrect/numValidationImages"
   ]
  },
  {
   "cell_type": "code",
   "execution_count": 39,
   "metadata": {},
   "outputs": [
    {
     "data": {
      "text/plain": [
       "array([0.60730594])"
      ]
     },
     "execution_count": 39,
     "metadata": {},
     "output_type": "execute_result"
    }
   ],
   "source": [
    "accuracy"
   ]
  },
  {
   "cell_type": "code",
   "execution_count": 41,
   "metadata": {},
   "outputs": [],
   "source": [
    "squares = error**2;\n",
    "rmse = np.sqrt(np.mean(squares))"
   ]
  },
  {
   "cell_type": "code",
   "execution_count": 42,
   "metadata": {
    "scrolled": true
   },
   "outputs": [
    {
     "data": {
      "text/plain": [
       "(10.0, 55.0)"
      ]
     },
     "execution_count": 42,
     "metadata": {},
     "output_type": "execute_result"
    },
    {
     "data": {
      "image/png": "[encoded data removed]",
      "text/plain": [
       "<Figure size 432x288 with 1 Axes>"
      ]
     },
     "metadata": {
      "needs_background": "dark"
     },
     "output_type": "display_data"
    }
   ],
   "source": [
    "plt.scatter(y_hat,y_test)\n",
    "plt.xlabel(\"Predicted Value\")\n",
    "plt.ylabel(\"True Value\")\n",
    "\n",
    "# plt.plot(np.linspace(10,55,10))\n",
    "\n",
    "plt.xlim([10, 55])\n",
    "plt.ylim([10, 55])"
   ]
  },
  {
   "cell_type": "markdown",
   "metadata": {},
   "source": [
    "### DATA PROCESSING PT. 2 - CHANGING PIXEL SIZE"
   ]
  },
  {
   "cell_type": "code",
   "execution_count": 46,
   "metadata": {},
   "outputs": [
    {
     "name": "stdout",
     "output_type": "stream",
     "text": [
      ".DS_Store did not import\n"
     ]
    }
   ],
   "source": [
    "for name in os.listdir('data/album_art'):\n",
    "    try:\n",
    "        img = Image.open('data/album_art/'+name)\n",
    "        img = img.resize((60,60))\n",
    "        img.save('data/album_art_resized/'+name)\n",
    "    except:\n",
    "        print(name+' did not import')"
   ]
  },
  {
   "cell_type": "code",
   "execution_count": 47,
   "metadata": {},
   "outputs": [
    {
     "name": "stdout",
     "output_type": "stream",
     "text": [
      "Say Datt_Hip-Hop.jpg was resized to (60, 60, 3)\n",
      ".DS_Store did not import\n",
      "Consolation Prize_Rock.jpg was resized to (60, 60, 3)\n",
      "Family Man_Rock.jpg was resized to (60, 60, 3)\n",
      "Say Datt_All Genres.jpg was resized to (60, 60, 3)\n",
      "Goner feat Kellin Quinn_Rock.jpg was resized to (60, 60, 3)\n",
      "At Least_Folk.jpg was resized to (60, 60, 3)\n",
      "Portals_R&B.jpg was resized to (60, 60, 3)\n",
      "Face the Music_Experimental.jpg was resized to (60, 60, 3)\n",
      "Grimiest Ever_Dance.jpg was resized to (60, 60, 3)\n",
      "WORK 4 A SMILE DEMO_R&B.jpg was resized to (60, 60, 3)\n",
      "The Wolves_Country.jpg was resized to (60, 60, 3)\n",
      "Black Visa_Hip-Hop.jpg was resized to (60, 60, 3)\n"
     ]
    }
   ],
   "source": [
    "# importing saved album art files as values in dictionary, with key being the track name. This is so we can later tie the target variable to the features (album art)\n",
    "\n",
    "# initializing dict\n",
    "resized_image_dict = {}\n",
    "\n",
    "# looping through each album art saved\n",
    "for file in os.listdir(\"data/album_art_resized/\"):\n",
    "    \n",
    "    filename = file.split('.jpg')[0]\n",
    "    \n",
    "    # assigning track name as key, and value as matrix form of album art (Height, Width, Depth)\n",
    "    try:\n",
    "        resized_image_dict[filename] = (mpimg.imread('data/album_art_resized/'+file))\n",
    "        \n",
    "        # Not including image if it is not in uniform shape\n",
    "        if resized_image_dict[filename].shape == (60,60):\n",
    "                resized_image_dict[filename] = np.stack((resized_image_dict[filename],)*3, axis=-1)\n",
    "                \n",
    "                newshape = resized_image_dict[filename].shape\n",
    "                print(file+' was resized to '+str(newshape)) \n",
    "            \n",
    "        if resized_image_dict[filename].shape != (60,60,3):\n",
    "            del resized_image_dict[filename]\n",
    "            \n",
    "    # created error list to observe files that were not read in properly        \n",
    "    except:\n",
    "        print(file+' did not import')"
   ]
  },
  {
   "cell_type": "code",
   "execution_count": 54,
   "metadata": {},
   "outputs": [],
   "source": [
    "# filtering down dataframe so that only the files that were read in properly are included. \n",
    "resized_filtered_df = df.loc[df.key.isin(resized_image_dict.keys())]"
   ]
  },
  {
   "cell_type": "code",
   "execution_count": 56,
   "metadata": {},
   "outputs": [
    {
     "data": {
      "text/plain": [
       "895"
      ]
     },
     "execution_count": 56,
     "metadata": {},
     "output_type": "execute_result"
    }
   ],
   "source": [
    "len(resized_filtered_df)"
   ]
  },
  {
   "cell_type": "code",
   "execution_count": 57,
   "metadata": {},
   "outputs": [
    {
     "data": {
      "text/plain": [
       "0"
      ]
     },
     "execution_count": 57,
     "metadata": {},
     "output_type": "execute_result"
    }
   ],
   "source": [
    "resized_filtered_df.duplicated().sum()"
   ]
  },
  {
   "cell_type": "code",
   "execution_count": 59,
   "metadata": {},
   "outputs": [
    {
     "name": "stdout",
     "output_type": "stream",
     "text": [
      "Could not find associated value for .SYSTVMRVSTVRT, delete from the album art dictionary\n",
      "Could not find associated value for .SYSTVMRVSTVRT*, delete from the album art dictionary\n"
     ]
    }
   ],
   "source": [
    "del_list = []\n",
    "\n",
    "for key in resized_image_dict.keys():\n",
    "    if key in df.key.to_list():\n",
    "        pass\n",
    "    else:\n",
    "        print(\"Could not find associated value for \"+key+\", delete from the album art dictionary\")\n",
    "        del_list.append(key)\n",
    "        \n",
    "for key in del_list:\n",
    "    del resized_image_dict[key]"
   ]
  },
  {
   "cell_type": "code",
   "execution_count": 60,
   "metadata": {},
   "outputs": [],
   "source": [
    "# Sorting Dictionary to match DataFrame order\n",
    "resized_image_dict = collections.OrderedDict(sorted(resized_image_dict.items()))"
   ]
  },
  {
   "cell_type": "code",
   "execution_count": 64,
   "metadata": {},
   "outputs": [
    {
     "data": {
      "text/plain": [
       "True"
      ]
     },
     "execution_count": 64,
     "metadata": {},
     "output_type": "execute_result"
    }
   ],
   "source": [
    "# Checking if order of names matches, so we can accuractly match features with target data. \n",
    "resized_filtered_df.key.to_list() == list(resized_image_dict.keys())"
   ]
  },
  {
   "cell_type": "markdown",
   "metadata": {},
   "source": [
    "### DATA PREP PART 2 - REDUCED PIXEL SIZE"
   ]
  },
  {
   "cell_type": "code",
   "execution_count": 69,
   "metadata": {},
   "outputs": [
    {
     "data": {
      "text/plain": [
       "(895, 60, 60, 3)"
      ]
     },
     "execution_count": 69,
     "metadata": {},
     "output_type": "execute_result"
    }
   ],
   "source": [
    "X = np.array(list(resized_image_dict.values()))\n",
    "X.shape"
   ]
  },
  {
   "cell_type": "code",
   "execution_count": 71,
   "metadata": {},
   "outputs": [
    {
     "data": {
      "text/plain": [
       "(895, 1)"
      ]
     },
     "execution_count": 71,
     "metadata": {},
     "output_type": "execute_result"
    }
   ],
   "source": [
    "y = np.array(resized_filtered_df.popularity).reshape(len(resized_filtered_df.popularity), 1)\n",
    "y.shape"
   ]
  },
  {
   "cell_type": "code",
   "execution_count": 72,
   "metadata": {},
   "outputs": [],
   "source": [
    "# Split the data into Train and Test, so we can later validate our model on \"unseen\" data.\n",
    "X_train, X_test, y_train, y_test = train_test_split(X, y, test_size=0.25)"
   ]
  },
  {
   "cell_type": "code",
   "execution_count": 73,
   "metadata": {},
   "outputs": [],
   "source": [
    "X_train = X_train / 255\n",
    "X_test  = X_test  / 255"
   ]
  },
  {
   "cell_type": "markdown",
   "metadata": {},
   "source": [
    "## MODEL #2: REDUCED PIXELS"
   ]
  },
  {
   "cell_type": "code",
   "execution_count": 75,
   "metadata": {},
   "outputs": [],
   "source": [
    "model = Sequential()\n",
    "model.add(layers.Conv2D(64, kernel_size=1, input_shape = X_train[0].shape))\n",
    "model.add(layers.MaxPooling2D((2, 2)))\n",
    "model.add(Flatten())\n",
    "model.add(layers.Dense(1, activation='linear'))"
   ]
  },
  {
   "cell_type": "code",
   "execution_count": 76,
   "metadata": {},
   "outputs": [],
   "source": [
    "model.compile(optimizer='adam',\n",
    "              loss='mse',\n",
    "              metrics=['mse'])"
   ]
  },
  {
   "cell_type": "code",
   "execution_count": 78,
   "metadata": {},
   "outputs": [
    {
     "name": "stdout",
     "output_type": "stream",
     "text": [
      "Epoch 1/5\n",
      "21/21 [==============================] - 1s 52ms/step - loss: 113.9240 - mse: 113.9240 - val_loss: 130.6186 - val_mse: 130.6186\n",
      "Epoch 2/5\n",
      "21/21 [==============================] - 1s 46ms/step - loss: 111.7095 - mse: 111.7095 - val_loss: 149.2059 - val_mse: 149.2059\n",
      "Epoch 3/5\n",
      "21/21 [==============================] - 1s 32ms/step - loss: 111.8872 - mse: 111.8872 - val_loss: 127.7292 - val_mse: 127.7292\n",
      "Epoch 4/5\n",
      "21/21 [==============================] - 1s 31ms/step - loss: 104.4404 - mse: 104.4404 - val_loss: 124.6401 - val_mse: 124.6401\n",
      "Epoch 5/5\n",
      "21/21 [==============================] - 1s 31ms/step - loss: 101.3055 - mse: 101.3055 - val_loss: 124.7441 - val_mse: 124.7441\n"
     ]
    }
   ],
   "source": [
    "history = model.fit(X_train, y_train, epochs=5, \n",
    "                    validation_data=(X_test, y_test))"
   ]
  },
  {
   "cell_type": "code",
   "execution_count": 79,
   "metadata": {},
   "outputs": [
    {
     "name": "stdout",
     "output_type": "stream",
     "text": [
      "7/7 - 0s - loss: 124.7441 - mse: 124.7441\n"
     ]
    },
    {
     "data": {
      "image/png": "[encoded data removed]",
      "text/plain": [
       "<Figure size 432x288 with 1 Axes>"
      ]
     },
     "metadata": {
      "needs_background": "dark"
     },
     "output_type": "display_data"
    }
   ],
   "source": [
    "plt.plot(history.history['mse'], label='mse')\n",
    "plt.plot(history.history['val_mse'], label = 'val_mse')\n",
    "plt.xlabel('Epoch')\n",
    "plt.ylabel('mse')\n",
    "plt.legend(loc='lower right')\n",
    "\n",
    "test_loss, test_acc = model.evaluate(X_test,  y_test, verbose=2)"
   ]
  },
  {
   "cell_type": "code",
   "execution_count": 80,
   "metadata": {},
   "outputs": [],
   "source": [
    "y_hat = model.predict(X_test);\n",
    "error = y_test - y_hat;"
   ]
  },
  {
   "cell_type": "code",
   "execution_count": 109,
   "metadata": {},
   "outputs": [],
   "source": [
    "thr = 5;\n",
    "numCorrect = sum(abs(error) < thr);\n",
    "numValidationImages = len(y_test);\n",
    "\n",
    "accuracy = numCorrect/numValidationImages"
   ]
  },
  {
   "cell_type": "code",
   "execution_count": 110,
   "metadata": {},
   "outputs": [
    {
     "data": {
      "text/plain": [
       "array([0.40178571])"
      ]
     },
     "execution_count": 110,
     "metadata": {},
     "output_type": "execute_result"
    }
   ],
   "source": [
    "accuracy"
   ]
  },
  {
   "cell_type": "code",
   "execution_count": 83,
   "metadata": {},
   "outputs": [],
   "source": [
    "squares = error**2;\n",
    "rmse = np.sqrt(np.mean(squares))"
   ]
  },
  {
   "cell_type": "code",
   "execution_count": 84,
   "metadata": {},
   "outputs": [
    {
     "data": {
      "text/plain": [
       "(10.0, 55.0)"
      ]
     },
     "execution_count": 84,
     "metadata": {},
     "output_type": "execute_result"
    },
    {
     "data": {
      "image/png": "[encoded data removed]",
      "text/plain": [
       "<Figure size 432x288 with 1 Axes>"
      ]
     },
     "metadata": {
      "needs_background": "dark"
     },
     "output_type": "display_data"
    }
   ],
   "source": [
    "plt.scatter(y_hat,y_test)\n",
    "plt.xlabel(\"Predicted Value\")\n",
    "plt.ylabel(\"True Value\")\n",
    "\n",
    "# plt.plot(np.linspace(10,55,10))\n",
    "\n",
    "plt.xlim([10, 55])\n",
    "plt.ylim([10, 55])"
   ]
  },
  {
   "cell_type": "markdown",
   "metadata": {},
   "source": [
    "`# Looks like it didn't converget. lets add more epochs and layers. "
   ]
  },
  {
   "cell_type": "markdown",
   "metadata": {},
   "source": [
    "### Model #3: added Conv2d layers and increase in epochs"
   ]
  },
  {
   "cell_type": "code",
   "execution_count": 89,
   "metadata": {},
   "outputs": [],
   "source": [
    "model = Sequential()\n",
    "model.add(layers.Conv2D(64, kernel_size=1, input_shape = X_train[0].shape))\n",
    "model.add(layers.MaxPooling2D((2, 2)))\n",
    "model.add(layers.Conv2D(64, (3, 3), activation='relu'))\n",
    "model.add(layers.MaxPooling2D((2, 2)))\n",
    "model.add(layers.Conv2D(64, (3, 3), activation='relu'))\n",
    "model.add(Flatten())\n",
    "model.add(layers.Dense(1, activation='linear'))\n",
    "\n",
    "model.compile(optimizer='adam',\n",
    "              loss='mse',\n",
    "              metrics=['mse'])"
   ]
  },
  {
   "cell_type": "code",
   "execution_count": 90,
   "metadata": {},
   "outputs": [
    {
     "name": "stdout",
     "output_type": "stream",
     "text": [
      "Epoch 1/15\n",
      "21/21 [==============================] - 2s 104ms/step - loss: 433.3909 - mse: 433.3909 - val_loss: 236.4724 - val_mse: 236.4724\n",
      "Epoch 2/15\n",
      "21/21 [==============================] - 2s 102ms/step - loss: 202.0234 - mse: 202.0234 - val_loss: 176.7823 - val_mse: 176.7823\n",
      "Epoch 3/15\n",
      "21/21 [==============================] - 2s 103ms/step - loss: 158.9086 - mse: 158.9086 - val_loss: 154.0990 - val_mse: 154.0990\n",
      "Epoch 4/15\n",
      "21/21 [==============================] - 2s 108ms/step - loss: 127.0873 - mse: 127.0873 - val_loss: 126.6316 - val_mse: 126.6316\n",
      "Epoch 5/15\n",
      "21/21 [==============================] - 2s 105ms/step - loss: 127.1919 - mse: 127.1919 - val_loss: 168.1716 - val_mse: 168.1716\n",
      "Epoch 6/15\n",
      "21/21 [==============================] - 2s 100ms/step - loss: 118.4427 - mse: 118.4427 - val_loss: 128.3436 - val_mse: 128.3436\n",
      "Epoch 7/15\n",
      "21/21 [==============================] - 2s 104ms/step - loss: 121.7921 - mse: 121.7921 - val_loss: 123.0562 - val_mse: 123.0562\n",
      "Epoch 8/15\n",
      "21/21 [==============================] - 2s 100ms/step - loss: 118.3113 - mse: 118.3113 - val_loss: 121.0141 - val_mse: 121.0141\n",
      "Epoch 9/15\n",
      "21/21 [==============================] - 2s 101ms/step - loss: 115.5478 - mse: 115.5478 - val_loss: 126.7445 - val_mse: 126.7445\n",
      "Epoch 10/15\n",
      "21/21 [==============================] - 2s 100ms/step - loss: 118.2826 - mse: 118.2826 - val_loss: 131.8361 - val_mse: 131.8361\n",
      "Epoch 11/15\n",
      "21/21 [==============================] - 2s 102ms/step - loss: 112.0867 - mse: 112.0867 - val_loss: 129.1447 - val_mse: 129.1447\n",
      "Epoch 12/15\n",
      "21/21 [==============================] - 2s 107ms/step - loss: 112.0843 - mse: 112.0843 - val_loss: 120.2847 - val_mse: 120.2847\n",
      "Epoch 13/15\n",
      "21/21 [==============================] - 2s 103ms/step - loss: 110.0388 - mse: 110.0388 - val_loss: 120.3145 - val_mse: 120.3145\n",
      "Epoch 14/15\n",
      "21/21 [==============================] - 2s 103ms/step - loss: 108.7738 - mse: 108.7738 - val_loss: 128.1716 - val_mse: 128.1716\n",
      "Epoch 15/15\n",
      "21/21 [==============================] - 2s 101ms/step - loss: 107.3672 - mse: 107.3672 - val_loss: 122.9581 - val_mse: 122.9581\n"
     ]
    }
   ],
   "source": [
    "history = model.fit(X_train, y_train, epochs=15, \n",
    "                    validation_data=(X_test, y_test))"
   ]
  },
  {
   "cell_type": "code",
   "execution_count": 91,
   "metadata": {},
   "outputs": [
    {
     "name": "stdout",
     "output_type": "stream",
     "text": [
      "7/7 - 0s - loss: 122.9581 - mse: 122.9581\n"
     ]
    },
    {
     "data": {
      "image/png": "[encoded data removed]",
      "text/plain": [
       "<Figure size 432x288 with 1 Axes>"
      ]
     },
     "metadata": {
      "needs_background": "dark"
     },
     "output_type": "display_data"
    }
   ],
   "source": [
    "plt.plot(history.history['mse'], label='mse')\n",
    "plt.plot(history.history['val_mse'], label = 'val_mse')\n",
    "plt.xlabel('Epoch')\n",
    "plt.ylabel('mse')\n",
    "plt.legend(loc='lower right')\n",
    "\n",
    "test_loss, test_acc = model.evaluate(X_test,  y_test, verbose=2)"
   ]
  },
  {
   "cell_type": "code",
   "execution_count": 108,
   "metadata": {},
   "outputs": [
    {
     "name": "stdout",
     "output_type": "stream",
     "text": [
      "[0.40178571]\n"
     ]
    },
    {
     "data": {
      "text/plain": [
       "(10.0, 55.0)"
      ]
     },
     "execution_count": 108,
     "metadata": {},
     "output_type": "execute_result"
    },
    {
     "data": {
      "image/png": "[encoded data removed]",
      "text/plain": [
       "<Figure size 432x288 with 1 Axes>"
      ]
     },
     "metadata": {
      "needs_background": "dark"
     },
     "output_type": "display_data"
    }
   ],
   "source": [
    "y_hat = model.predict(X_test);\n",
    "error = y_test - y_hat;\n",
    "\n",
    "thr = 5;\n",
    "numCorrect = sum(abs(error) < thr);\n",
    "numValidationImages = len(y_test);\n",
    "\n",
    "accuracy = numCorrect/numValidationImages\n",
    "print(accuracy)\n",
    "\n",
    "squares = error**2;\n",
    "rmse = np.sqrt(np.mean(squares))\n",
    "\n",
    "plt.scatter(y_hat,y_test)\n",
    "plt.xlabel(\"Predicted Value\")\n",
    "plt.ylabel(\"True Value\")\n",
    "\n",
    "# plt.plot(np.linspace(10,55,10))\n",
    "\n",
    "plt.xlim([10, 55])\n",
    "plt.ylim([10, 55])"
   ]
  },
  {
   "cell_type": "markdown",
   "metadata": {},
   "source": [
    "## Model 3. tuning parameters"
   ]
  },
  {
   "cell_type": "markdown",
   "metadata": {},
   "source": [
    "## Model 4. grid search"
   ]
  },
  {
   "cell_type": "code",
   "execution_count": null,
   "metadata": {},
   "outputs": [],
   "source": [
    "model = KerasClassifier(model=create_model, verbose=0)\n",
    "# define the grid search parameters\n",
    "batch_size = [10, 20, 40, 60, 80, 100]\n",
    "epochs = [10, 50, 100]\n",
    "param_grid = dict(batch_size=batch_size, epochs=epochs)\n",
    "grid = GridSearchCV(estimator=model, param_grid=param_grid, n_jobs=-1, cv=3)\n",
    "grid_result = grid.fit(X, Y)\n",
    "# summarize results\n",
    "print(\"Best: %f using %s\" % (grid_result.best_score_, grid_result.best_params_))\n",
    "means = grid_result.cv_results_['mean_test_score']\n",
    "stds = grid_result.cv_results_['std_test_score']\n",
    "params = grid_result.cv_results_['params']\n",
    "for mean, stdev, param in zip(means, stds, params):\n",
    "    print(\"%f (%f) with: %r\" % (mean, stdev, param))"
   ]
  },
  {
   "cell_type": "code",
   "execution_count": null,
   "metadata": {},
   "outputs": [],
   "source": []
  },
  {
   "cell_type": "markdown",
   "metadata": {},
   "source": [
    "#  -------------------------------------- FINAL MODEL EVALUATION ----------------------------------------------------"
   ]
  },
  {
   "cell_type": "markdown",
   "metadata": {},
   "source": [
    "# -------------------------------------- CONCLUSION AND NEXT STEPS ----------------------------------------------"
   ]
  },
  {
   "cell_type": "markdown",
   "metadata": {},
   "source": [
    "- with more time, I would look into creating my own architecture to mix categorical variables with image classification. this would help me take genre of a playlist into account, as my hypothesis is that album art could affect success of a track depending on the genre it's in. "
   ]
  },
  {
   "cell_type": "code",
   "execution_count": null,
   "metadata": {},
   "outputs": [],
   "source": []
  }
 ],
 "metadata": {
  "kernelspec": {
   "display_name": "Python (learn-env)",
   "language": "python",
   "name": "learn-env"
  },
  "language_info": {
   "codemirror_mode": {
    "name": "ipython",
    "version": 3
   },
   "file_extension": ".py",
   "mimetype": "text/x-python",
   "name": "python",
   "nbconvert_exporter": "python",
   "pygments_lexer": "ipython3",
   "version": "3.8.5"
  }
 },
 "nbformat": 4,
 "nbformat_minor": 4
}
