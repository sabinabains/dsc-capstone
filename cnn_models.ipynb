{
 "cells": [
  {
   "cell_type": "markdown",
   "metadata": {},
   "source": [
    "# PREDICTING TRACK SUCCESS ON SPOTIFY USING COVER ART\n",
    " - Capstone Project\n",
    " - Student- Sabina Bains\n",
    " - Presentation Date- 10/07/2022\n",
    " - Instructor- Abhineet Kulkarni"
   ]
  },
  {
   "cell_type": "markdown",
   "metadata": {},
   "source": [
    "## BUSINESS UNDERSTANDING"
   ]
  },
  {
   "cell_type": "markdown",
   "metadata": {},
   "source": [
    "Album art has played an important role in music. It gives visual representation and additional context to the story behind an album. Perhaps most importantly, it helped artists sell music. Before streaming was introducted into the world of music, albums were largely judged by their artwork. Iconic albums such as \"Abbey Road\" by The Beatles and \"Nevermind\" by Nirvana have artwork that are still frequently talked about today.\n",
    "\n",
    "However, in recent years streaming services such as Spotify have dominated, with streaming making up 80% of revenue in the U.S. music industry. Artists and labels have been left wondering if this shift from hard copies to streaming has affected the prominence of albums, and therefore album artwork. The Playist Effect is a phenomenon that suggests with the rise of streaming, subscribers largest listen to curated auto-play playlists with individual tracks rather an albums as a whole.\n",
    "\n",
    "with Spotify leading the music streaming industry, it's crucial for record labels to understand the effectiveness of albums and their artwork in this space.\n",
    "\n",
    "This analysis will look at the popularity of tracks from Spotify's discovery playlists and their respective artwork to determine which album styles are associated with track success."
   ]
  },
  {
   "cell_type": "markdown",
   "metadata": {},
   "source": [
    "## DATA UNDERSTANDING"
   ]
  },
  {
   "cell_type": "code",
   "execution_count": 1,
   "metadata": {},
   "outputs": [
    {
     "name": "stdout",
     "output_type": "stream",
     "text": [
      "Requirement already up-to-date: spotipy in /opt/anaconda3/envs/learn-env/lib/python3.8/site-packages (2.20.0)\n",
      "Requirement already satisfied, skipping upgrade: redis>=3.5.3 in /opt/anaconda3/envs/learn-env/lib/python3.8/site-packages (from spotipy) (4.3.4)\n",
      "Requirement already satisfied, skipping upgrade: urllib3>=1.26.0 in /opt/anaconda3/envs/learn-env/lib/python3.8/site-packages (from spotipy) (1.26.11)\n",
      "Requirement already satisfied, skipping upgrade: six>=1.15.0 in /opt/anaconda3/envs/learn-env/lib/python3.8/site-packages (from spotipy) (1.15.0)\n",
      "Requirement already satisfied, skipping upgrade: requests>=2.25.0 in /opt/anaconda3/envs/learn-env/lib/python3.8/site-packages (from spotipy) (2.28.1)\n",
      "Requirement already satisfied, skipping upgrade: deprecated>=1.2.3 in /opt/anaconda3/envs/learn-env/lib/python3.8/site-packages (from redis>=3.5.3->spotipy) (1.2.13)\n",
      "Requirement already satisfied, skipping upgrade: packaging>=20.4 in /opt/anaconda3/envs/learn-env/lib/python3.8/site-packages (from redis>=3.5.3->spotipy) (20.4)\n",
      "Collecting async-timeout>=4.0.2\n",
      "  Using cached async_timeout-4.0.2-py3-none-any.whl (5.8 kB)\n",
      "Requirement already satisfied, skipping upgrade: idna<4,>=2.5 in /opt/anaconda3/envs/learn-env/lib/python3.8/site-packages (from requests>=2.25.0->spotipy) (2.10)\n",
      "Requirement already satisfied, skipping upgrade: charset-normalizer<3,>=2 in /opt/anaconda3/envs/learn-env/lib/python3.8/site-packages (from requests>=2.25.0->spotipy) (2.1.0)\n",
      "Requirement already satisfied, skipping upgrade: certifi>=2017.4.17 in /opt/anaconda3/envs/learn-env/lib/python3.8/site-packages (from requests>=2.25.0->spotipy) (2021.10.8)\n",
      "Requirement already satisfied, skipping upgrade: wrapt<2,>=1.10 in /opt/anaconda3/envs/learn-env/lib/python3.8/site-packages (from deprecated>=1.2.3->redis>=3.5.3->spotipy) (1.12.1)\n",
      "Requirement already satisfied, skipping upgrade: pyparsing>=2.0.2 in /opt/anaconda3/envs/learn-env/lib/python3.8/site-packages (from packaging>=20.4->redis>=3.5.3->spotipy) (2.4.7)\n",
      "Installing collected packages: async-timeout\n",
      "  Attempting uninstall: async-timeout\n",
      "    Found existing installation: async-timeout 3.0.1\n",
      "    Uninstalling async-timeout-3.0.1:\n",
      "      Successfully uninstalled async-timeout-3.0.1\n",
      "\u001b[31mERROR: After October 2020 you may experience errors when installing or updating packages. This is because pip will change the way that it resolves dependency conflicts.\n",
      "\n",
      "We recommend you use --use-feature=2020-resolver to test your packages with the new resolver before it becomes the default.\n",
      "\n",
      "aiohttp 3.6.2 requires async-timeout<4.0,>=3.0, but you'll have async-timeout 4.0.2 which is incompatible.\u001b[0m\n",
      "Successfully installed async-timeout-4.0.2\n",
      "Requirement already satisfied: pillow in /opt/anaconda3/envs/learn-env/lib/python3.8/site-packages (7.2.0)\n",
      "Requirement already satisfied: ipynb in /opt/anaconda3/envs/learn-env/lib/python3.8/site-packages (0.5.1)\n"
     ]
    }
   ],
   "source": [
    "!pip3 install spotipy --upgrade\n",
    "!pip3 install pillow\n",
    "!pip3 install ipynb"
   ]
  },
  {
   "cell_type": "markdown",
   "metadata": {},
   "source": [
    "#### Importing Packages"
   ]
  },
  {
   "cell_type": "code",
   "execution_count": 2,
   "metadata": {},
   "outputs": [],
   "source": [
    "from sklearn.model_selection import train_test_split\n",
    "from matplotlib import image as mpimg\n",
    "from tensorflow.keras.models import Sequential\n",
    "from tensorflow.keras import layers\n",
    "from tensorflow.keras.layers import Dense, Dropout, Conv2D, MaxPool2D, Flatten\n",
    "import os\n",
    "import matplotlib.pyplot as plt\n",
    "import numpy as np\n",
    "import pandas as pd\n",
    "import collections\n",
    "import tensorflow.keras.backend as K\n",
    "\n",
    "# changing colors of output\n",
    "import matplotlib as mpl\n",
    "COLOR = 'white'\n",
    "mpl.rcParams['text.color'] = 'grey'\n",
    "mpl.rcParams['axes.labelcolor'] = COLOR\n",
    "mpl.rcParams['xtick.color'] = COLOR\n",
    "mpl.rcParams['ytick.color'] = COLOR\n",
    "\n",
    "# importing color coding functions from another file\n",
    "%run \"helper_functions.ipynb\""
   ]
  },
  {
   "cell_type": "markdown",
   "metadata": {},
   "source": [
    "#### Importing Target Variables"
   ]
  },
  {
   "cell_type": "code",
   "execution_count": 3,
   "metadata": {},
   "outputs": [],
   "source": [
    "# importing dataset created from API pulls in other jupyter notebook. \n",
    "df_full = pd.read_csv('data/popularity_index.csv')"
   ]
  },
  {
   "cell_type": "markdown",
   "metadata": {},
   "source": [
    "#### Descriptive Statistics for Target Variable"
   ]
  },
  {
   "cell_type": "code",
   "execution_count": 4,
   "metadata": {},
   "outputs": [
    {
     "name": "stdout",
     "output_type": "stream",
     "text": [
      "        popularity\n",
      "count  1860.000000\n",
      "mean     30.078495\n",
      "std      11.852113\n",
      "min       0.000000\n",
      "25%      22.000000\n",
      "50%      29.000000\n",
      "75%      37.000000\n",
      "max      81.000000\n",
      "\n",
      "\n",
      "Data is slightly skewed to the right with a mean of 30, which makes sense because this playlist is for up and coming artists / labels, outliers would be more popular music.\n"
     ]
    },
    {
     "data": {
      "image/png": "[encoded data removed]",
      "text/plain": [
       "<Figure size 432x288 with 1 Axes>"
      ]
     },
     "metadata": {
      "needs_background": "dark"
     },
     "output_type": "display_data"
    }
   ],
   "source": [
    "# Looking at descriptive statistics for target variable Popularity Index. \n",
    "print(df_full[['key','popularity']].describe())\n",
    "\n",
    "# Plotting Histogram of data\n",
    "df_full.hist('popularity')\n",
    "plt.title('Histogram for Popularity Index')\n",
    "plt.grid(False)\n",
    "\n",
    "print('\\n\\nData is slightly skewed to the right with a mean of 30, which makes sense because this playlist is for up and coming artists / labels, outliers would be more popular music.')"
   ]
  },
  {
   "cell_type": "markdown",
   "metadata": {},
   "source": [
    "#### Printing Genre list"
   ]
  },
  {
   "cell_type": "code",
   "execution_count": 5,
   "metadata": {},
   "outputs": [
    {
     "name": "stdout",
     "output_type": "stream",
     "text": [
      "Korea\n",
      "Vietnam\n",
      "Hip-Hop\n",
      "Indie\n",
      "Brasil\n",
      "2021\n",
      "Folk\n",
      "NZ\n",
      "2019\n",
      "IE\n",
      "Country\n",
      "nan\n",
      "Dance\n",
      "Latin\n",
      "R&B\n",
      "Rock\n",
      "GSA\n",
      "Jazz\n",
      "Pop\n",
      "Experimental\n",
      "Italia\n",
      "España\n",
      "EDM\n",
      "All Genres\n"
     ]
    }
   ],
   "source": [
    "for i in list(df_full.playlist_name.unique()):\n",
    "    print(i)"
   ]
  },
  {
   "cell_type": "markdown",
   "metadata": {},
   "source": [
    "#### Preview of Album Artwork"
   ]
  },
  {
   "cell_type": "code",
   "execution_count": 6,
   "metadata": {},
   "outputs": [
    {
     "data": {
      "image/png": "[encoded data removed]",
      "text/plain": [
       "<Figure size 432x288 with 1 Axes>"
      ]
     },
     "metadata": {
      "needs_background": "dark"
     },
     "output_type": "display_data"
    }
   ],
   "source": [
    "# Displaying example of photos downloaded from Spotify API\n",
    "album_art_example = mpimg.imread(os.getcwd()+\"/data/album_art/\"+os.listdir('data/album_art_resized')[9])\n",
    "\n",
    "plt.imshow(album_art_example)\n",
    "plt.xlabel(\"X pixel scaling\")\n",
    "plt.ylabel(\"Y pixels scaling\")\n",
    "plt.show()"
   ]
  },
  {
   "cell_type": "code",
   "execution_count": 7,
   "metadata": {},
   "outputs": [
    {
     "name": "stdout",
     "output_type": "stream",
     "text": [
      "Baby Choppa_2021.jpg was resized to (60, 60, 3)\n",
      "Say Datt_Hip-Hop.jpg was resized to (60, 60, 3)\n",
      ".DS_Store did not import\n",
      "Spirito della Domenica_Italia.jpg was resized to (60, 60, 3)\n",
      "Consolation Prize_Rock.jpg was resized to (60, 60, 3)\n",
      "Something_NZ.jpg was resized to (60, 60, 3)\n",
      "PDF_All Genres.jpg was resized to (60, 60, 3)\n",
      "HEAVY METAL_2021.jpg was resized to (60, 60, 3)\n",
      "Rave_All Genres.jpg was resized to (60, 60, 3)\n",
      "Family Man_Rock.jpg was resized to (60, 60, 3)\n",
      "concussion_2021.jpg was resized to (60, 60, 3)\n",
      "Lost_NZ.jpg was resized to (60, 60, 3)\n",
      "Goner feat Kellin Quinn_Rock.jpg was resized to (60, 60, 3)\n",
      "White Picket Fence_2021.jpg was resized to (60, 60, 3)\n",
      "At Least_Folk.jpg was resized to (60, 60, 3)\n",
      "Portals_R&B.jpg was resized to (60, 60, 3)\n",
      "Inconsciencia_Latin.jpg was resized to (60, 60, 3)\n",
      "Rave_Dance.jpg was resized to (60, 60, 3)\n",
      "BE FREE_R&B.jpg was resized to (60, 60, 3)\n",
      "Be Your Lover_NZ.jpg was resized to (60, 60, 3)\n",
      "Grimiest Ever_Dance.jpg was resized to (60, 60, 3)\n",
      "WORK 4 A SMILE DEMO_R&B.jpg was resized to (60, 60, 3)\n",
      "The Wolves_Country.jpg was resized to (60, 60, 3)\n",
      "Black Visa_Hip-Hop.jpg was resized to (60, 60, 3)\n"
     ]
    }
   ],
   "source": [
    "# importing saved album art files as values in dictionary, with key being the track name. This is so we can later tie the target variable to the features (album art)\n",
    "\n",
    "# initializing dict\n",
    "image_dict = {}\n",
    "\n",
    "# looping through each album art saved\n",
    "for file in os.listdir(\"data/album_art_resized/\"):\n",
    "    \n",
    "    filename = file.split('.jpg')[0]\n",
    "    \n",
    "    # assigning track name as key, and value as matrix form of album art (Height, Width, Depth)\n",
    "    try:\n",
    "        image_dict[filename] = (mpimg.imread('data/album_art_resized/'+file))\n",
    "        \n",
    "        # Not including image if it is not in uniform shape\n",
    "        if image_dict[filename].shape == (60,60):\n",
    "                image_dict[filename] = np.stack((image_dict[filename],)*3, axis=-1)\n",
    "                \n",
    "                newshape = image_dict[filename].shape\n",
    "                print(file+' was resized to '+str(newshape)) \n",
    "            \n",
    "        if image_dict[filename].shape != (60,60,3):\n",
    "            del image_dict[filename]\n",
    "            \n",
    "    # created error list to observe files that were not read in properly        \n",
    "    except:\n",
    "        print(file+' did not import')"
   ]
  },
  {
   "cell_type": "code",
   "execution_count": 8,
   "metadata": {},
   "outputs": [],
   "source": [
    "# filtering down dataframe so that only the files that were read in properly are included. \n",
    "df = df_full.loc[df_full.key.isin(image_dict.keys())]"
   ]
  },
  {
   "cell_type": "code",
   "execution_count": 9,
   "metadata": {},
   "outputs": [
    {
     "name": "stdout",
     "output_type": "stream",
     "text": [
      "Could not find associated value for 4 Ya Kiss_Experimental, delete from the album art dictionary\n",
      "Could not find associated value for .SYSTVMRVSTVRT, delete from the album art dictionary\n",
      "Could not find associated value for .SYSTVMRVSTVRT*, delete from the album art dictionary\n"
     ]
    }
   ],
   "source": [
    "del_list = []\n",
    "\n",
    "for key in image_dict.keys():\n",
    "    if key in df.key.to_list():\n",
    "        pass\n",
    "    else:\n",
    "        print(\"Could not find associated value for \"+key+\", delete from the album art dictionary\")\n",
    "        del_list.append(key)\n",
    "        \n",
    "for key in del_list:\n",
    "    del image_dict[key]"
   ]
  },
  {
   "cell_type": "code",
   "execution_count": 10,
   "metadata": {},
   "outputs": [],
   "source": [
    "# Sorting Dictionary to match DataFrame order\n",
    "image_dict = collections.OrderedDict(sorted(image_dict.items()))"
   ]
  },
  {
   "cell_type": "code",
   "execution_count": 11,
   "metadata": {},
   "outputs": [
    {
     "name": "stdout",
     "output_type": "stream",
     "text": [
      "data aligns, ready to process\n"
     ]
    }
   ],
   "source": [
    "# Checking if order of names matches, so we can accuractly match features with target data. \n",
    "\n",
    "if df.key.to_list() == list(image_dict.keys()):\n",
    "    print('data aligns, ready to process')\n",
    "else:\n",
    "    print('data does not align')"
   ]
  },
  {
   "cell_type": "markdown",
   "metadata": {},
   "source": [
    "### Preliminary analysis of album artwork colors and relation to popularity index\n",
    "\n",
    "Prior to running CNN models, I wanted to take a look at potential differences in the average popularity values between dominant colors on albums. I also take a look at the average popularity between albums with black and white images vs those with color. "
   ]
  },
  {
   "cell_type": "code",
   "execution_count": 12,
   "metadata": {},
   "outputs": [
    {
     "name": "stdout",
     "output_type": "stream",
     "text": [
      "18 feat Paloalto_Korea (60, 60, 3)\n"
     ]
    }
   ],
   "source": [
    "# using get_top_colors function from helper functions notebook to loop through each album in dictionary and return the top 3 R G B values associated with the album art.  \n",
    "top_colors_dict = {}\n",
    "\n",
    "for k, v in image_dict.items():\n",
    "    try:\n",
    "        top_colors_dict[k] = get_top_colors(image_dict[k])\n",
    "    except:\n",
    "        print(k, image_dict[k].shape)"
   ]
  },
  {
   "cell_type": "code",
   "execution_count": 13,
   "metadata": {},
   "outputs": [],
   "source": [
    "# looping through newly created top_colors_dict to further classify the R G B values into the color it's closest to. \n",
    "top_labels_dict = {}\n",
    "\n",
    "for k, v in top_colors_dict.items():\n",
    "    top_labels_dict[k] = []\n",
    "    for color in top_colors_dict[k]:\n",
    "         top_labels_dict[k].append(classify(color))"
   ]
  },
  {
   "cell_type": "code",
   "execution_count": 14,
   "metadata": {},
   "outputs": [
    {
     "name": "stdout",
     "output_type": "stream",
     "text": [
      "Exit Music_GSA was deleted\n",
      "I'm Dope_NZ was deleted\n",
      "So Long_All Genres was deleted\n"
     ]
    }
   ],
   "source": [
    "# deleting albums that only have two colors, as they will produce errors. printing albums that got deleted\n",
    "del_list = []\n",
    "\n",
    "for k, v in top_labels_dict.items():\n",
    "    if len(v) != 3:\n",
    "        del_list.append(k)\n",
    "        \n",
    "for key in del_list:\n",
    "    del top_labels_dict[key]\n",
    "    print(key+' was deleted')"
   ]
  },
  {
   "cell_type": "code",
   "execution_count": 15,
   "metadata": {},
   "outputs": [],
   "source": [
    "# putting dict into dataframe\n",
    "colors = pd.DataFrame(top_labels_dict.items(), columns=['key','color'])"
   ]
  },
  {
   "cell_type": "code",
   "execution_count": 16,
   "metadata": {},
   "outputs": [],
   "source": [
    "# adding column to distinguish black and white images from regular ones for further analysis\n",
    "colors['b_w'] = colors.color.apply(b_w)"
   ]
  },
  {
   "cell_type": "code",
   "execution_count": 17,
   "metadata": {},
   "outputs": [],
   "source": [
    "# merging in the popularity values for analysis\n",
    "colors = pd.merge(colors, df[['key','popularity']], on='key', how = 'inner')\n",
    "colors[['color 1','color 2','color 3']] = colors.color.apply(pd.Series)"
   ]
  },
  {
   "cell_type": "code",
   "execution_count": 18,
   "metadata": {},
   "outputs": [
    {
     "name": "stdout",
     "output_type": "stream",
     "text": [
      "No major difference in mean between dominant color in album artwork. This may foresshadow the model not performing well, but perhaps the CNN model will be able to make sense\n",
      "         of shapes and faces in the artwork \n"
     ]
    },
    {
     "data": {
      "image/png": "[encoded data removed]",
      "text/plain": [
       "<Figure size 576x288 with 1 Axes>"
      ]
     },
     "metadata": {
      "needs_background": "dark"
     },
     "output_type": "display_data"
    }
   ],
   "source": [
    "# grouping by dominant color and sorting for graph output\n",
    "colors_grouped = pd.DataFrame(colors.groupby('color 1')['popularity'].mean()).reset_index().sort_values(by = 'popularity', ascending = False)\n",
    "\n",
    "# creating bar graph\n",
    "plt.figure(figsize=(8,4))\n",
    "bars = plt.bar(colors_grouped['color 1'], colors_grouped['popularity'], color=colors_grouped['color 1'], edgecolor = \"black\", width=0.8)\n",
    "plt.ylim([0, 35])\n",
    "plt.ylabel('Average Popularity Index')\n",
    "plt.xlabel('Dominant Color in Album Artwork')\n",
    "\n",
    "\n",
    "# adding axes values\n",
    "for bar in bars:\n",
    "    yval = bar.get_height()\n",
    "    plt.text(bar.get_x() + .08, yval + 1, \"{:.1f}\".format(yval))\n",
    "    \n",
    "print('''No major difference in mean between dominant color in album artwork. This may foresshadow the model not performing well, but perhaps the CNN model will be able to make sense\n",
    "         of shapes and faces in the artwork ''')"
   ]
  },
  {
   "cell_type": "code",
   "execution_count": 19,
   "metadata": {},
   "outputs": [
    {
     "name": "stdout",
     "output_type": "stream",
     "text": [
      "No major difference in mean between color artwork and black and white artwork. Further support that our model may not generate significant results\n"
     ]
    },
    {
     "data": {
      "image/png": "[encoded data removed]",
      "text/plain": [
       "<Figure size 576x288 with 1 Axes>"
      ]
     },
     "metadata": {
      "needs_background": "dark"
     },
     "output_type": "display_data"
    }
   ],
   "source": [
    "# grouping by black and white photos and colored photos\n",
    "b_w_grouped = pd.DataFrame(colors.groupby('b_w')['popularity'].mean()).reset_index().sort_values(by = 'popularity', ascending = False)\n",
    "\n",
    "\n",
    "# creating batplot and adding axes\n",
    "plt.figure(figsize=(8,4))\n",
    "bars = plt.bar(b_w_grouped['b_w'], b_w_grouped['popularity'], edgecolor = \"black\", color = ['grey' , '#4D003C'])\n",
    "plt.ylim([0, 35])\n",
    "plt.ylabel('Average Popularity Index')\n",
    "for bar in bars:\n",
    "    yval = bar.get_height()\n",
    "    plt.text(bar.get_x() + .34, yval + 1, \"{:.1f}\".format(yval))\n",
    "    \n",
    "print('No major difference in mean between color artwork and black and white artwork. Further support that our model may not generate significant results')"
   ]
  },
  {
   "cell_type": "markdown",
   "metadata": {},
   "source": [
    "## DATA PREPARATION"
   ]
  },
  {
   "cell_type": "code",
   "execution_count": 20,
   "metadata": {},
   "outputs": [
    {
     "data": {
      "text/plain": [
       "(1859, 60, 60, 3)"
      ]
     },
     "execution_count": 20,
     "metadata": {},
     "output_type": "execute_result"
    }
   ],
   "source": [
    "# Creating feature array from album artwork dictionary\n",
    "X = np.array(list(image_dict.values()))\n",
    "\n",
    "# Assuring shape is correct\n",
    "X.shape"
   ]
  },
  {
   "cell_type": "code",
   "execution_count": 21,
   "metadata": {},
   "outputs": [
    {
     "data": {
      "text/plain": [
       "(1859, 1)"
      ]
     },
     "execution_count": 21,
     "metadata": {},
     "output_type": "execute_result"
    }
   ],
   "source": [
    "# Creating target array from df with popularity index\n",
    "y = np.array(df.popularity).reshape(len(df.popularity), 1)\n",
    "\n",
    "# Assuring shape is correct\n",
    "y.shape"
   ]
  },
  {
   "cell_type": "code",
   "execution_count": 22,
   "metadata": {},
   "outputs": [],
   "source": [
    "# Split the data into Train and Test, so we can later validate our model on \"unseen\" data.\n",
    "X_train, X_test, y_train, y_test = train_test_split(X, y, test_size=0.25)"
   ]
  },
  {
   "cell_type": "code",
   "execution_count": 23,
   "metadata": {},
   "outputs": [],
   "source": [
    "# dividing Training and testing data by 255 to normalize\n",
    "X_train = X_train / 255\n",
    "X_test  = X_test  / 255"
   ]
  },
  {
   "cell_type": "markdown",
   "metadata": {},
   "source": [
    "## MODELING"
   ]
  },
  {
   "cell_type": "markdown",
   "metadata": {},
   "source": [
    "#### Creating functions to evaluate models more efficiently"
   ]
  },
  {
   "cell_type": "code",
   "execution_count": 24,
   "metadata": {},
   "outputs": [],
   "source": [
    "# creating function to plot history MSE of CNN Model \n",
    "def plot_history(model, history, X_test, y_test):\n",
    "    \n",
    "    plt.plot(history.history['mse'], label='mse')\n",
    "    plt.plot(history.history['val_mse'], label = 'val_mse')\n",
    "    \n",
    "    plt.xlabel('Epoch')\n",
    "    plt.ylabel('Mean Squared Error')\n",
    "    plt.legend(loc='upper right')\n",
    "    \n",
    "    loss, mse, R2 = model.evaluate(X_test,  y_test)\n",
    "    return np.sqrt(mse), R2"
   ]
  },
  {
   "cell_type": "code",
   "execution_count": 25,
   "metadata": {},
   "outputs": [],
   "source": [
    "# creating function to produce scatter plot of predicted values and true values\n",
    "def plot_scatter(model, X_test):\n",
    "    \n",
    "    y_hat = model.predict(X_test);\n",
    "    \n",
    "    error = y_test - y_hat\n",
    "    rmse = np.sqrt(np.mean(error**2))\n",
    "\n",
    "    plt.figure(figsize=(5, 5))\n",
    "    plt.scatter(y_hat,y_test)\n",
    "    plt.xlabel(\"Predicted Value\")\n",
    "    plt.ylabel(\"True Value\")\n",
    "    yvy = np.linspace(0,80,2)\n",
    "    plt.plot(yvy, yvy, color='red', linestyle='dashed')\n",
    "    plt.xlim([0, 80])\n",
    "    plt.ylim([0, 80])"
   ]
  },
  {
   "cell_type": "code",
   "execution_count": 26,
   "metadata": {},
   "outputs": [],
   "source": [
    "# function to calculate R2 score to assess model's ability to predict popularity\n",
    "def r2_score(y_true, y_pred):\n",
    "    SS_res =  K.sum(K.square(y_true - y_pred)) \n",
    "    SS_tot = K.sum(K.square(y_true - K.mean(y_true))) \n",
    "    return ( 1 - SS_res/(SS_tot + K.epsilon()) )"
   ]
  },
  {
   "cell_type": "markdown",
   "metadata": {},
   "source": [
    "#### Model 2: Reduced Pixels\n",
    "\n",
    "The dimensions for each photo in this run is (60,60,3). This will hopefully run much faster, and therefore will give the ability to add layers and tune parameters. For this model we will use the adam optimizer, which is different to classical stochastic gradient descent due to it's adaptive learning rate as learning occurs. model loss will be MSE, to determine the average distance the predicted values are to the true values. "
   ]
  },
  {
   "cell_type": "code",
   "execution_count": 27,
   "metadata": {},
   "outputs": [
    {
     "name": "stdout",
     "output_type": "stream",
     "text": [
      "Epoch 1/5\n",
      "44/44 [==============================] - 1s 34ms/step - loss: 306.3106 - mse: 306.3106 - r2_score: -1.3051 - val_loss: 202.9367 - val_mse: 202.9367 - val_r2_score: -0.5477\n",
      "Epoch 2/5\n",
      "44/44 [==============================] - 1s 32ms/step - loss: 180.2110 - mse: 180.2110 - r2_score: -0.3388 - val_loss: 165.4612 - val_mse: 165.4612 - val_r2_score: -0.2411\n",
      "Epoch 3/5\n",
      "44/44 [==============================] - 1s 32ms/step - loss: 150.1637 - mse: 150.1637 - r2_score: -0.1248 - val_loss: 159.9958 - val_mse: 159.9958 - val_r2_score: -0.2367\n",
      "Epoch 4/5\n",
      "44/44 [==============================] - 1s 32ms/step - loss: 132.8277 - mse: 132.8277 - r2_score: 0.0237 - val_loss: 137.0912 - val_mse: 137.0912 - val_r2_score: -0.0357\n",
      "Epoch 5/5\n",
      "44/44 [==============================] - 2s 37ms/step - loss: 128.4172 - mse: 128.4172 - r2_score: 0.0576 - val_loss: 139.3533 - val_mse: 139.3533 - val_r2_score: -0.0657\n"
     ]
    }
   ],
   "source": [
    "model_2 = Sequential()\n",
    "model_2.add(layers.Conv2D(64, kernel_size=(3,3), input_shape = X_train[0].shape))\n",
    "model_2.add(Flatten())\n",
    "model_2.add(layers.Dense(1, activation='linear'))\n",
    "\n",
    "model_2.compile(optimizer='adam',\n",
    "              loss='mse',\n",
    "              metrics=['mse', r2_score])\n",
    "\n",
    "history_2 = model_2.fit(X_train, y_train, epochs=5, \n",
    "                    validation_data=(X_test, y_test))"
   ]
  },
  {
   "cell_type": "code",
   "execution_count": 28,
   "metadata": {
    "scrolled": false
   },
   "outputs": [
    {
     "name": "stdout",
     "output_type": "stream",
     "text": [
      "15/15 [==============================] - 0s 12ms/step - loss: 139.3533 - mse: 139.3533 - r2_score: -0.0657\n",
      "\n",
      "\n",
      "Our second model after reducing pixels outperforms our baseline model with the larger dimensions, \n",
      "with a significantly faster computiation time. and a RMSE of 11.8. This will allow us to increase epochs and add layers. \n"
     ]
    },
    {
     "data": {
      "image/png": "[encoded data removed]",
      "text/plain": [
       "<Figure size 432x288 with 1 Axes>"
      ]
     },
     "metadata": {
      "needs_background": "dark"
     },
     "output_type": "display_data"
    }
   ],
   "source": [
    "rmse_2, r2_2 = plot_history(model_2, history_2, X_test, y_test)\n",
    "\n",
    "print('''\\n\\nOur second model after reducing pixels outperforms our baseline model with the larger dimensions, \n",
    "with a significantly faster computiation time. and a RMSE of {:.1f}. This will allow us to increase epochs and add layers. '''.format(rmse_2))"
   ]
  },
  {
   "cell_type": "markdown",
   "metadata": {},
   "source": [
    "#### Model #3: increased layers and epochs\n",
    "Now that our model runs quicker, I will add another convolution and pooling layer. I will increase epochs as well. the rest of the parameters will remain the same"
   ]
  },
  {
   "cell_type": "code",
   "execution_count": 29,
   "metadata": {},
   "outputs": [
    {
     "name": "stdout",
     "output_type": "stream",
     "text": [
      "Epoch 1/15\n",
      "44/44 [==============================] - 5s 103ms/step - loss: 322.4494 - mse: 322.4494 - r2_score: -1.5662 - val_loss: 228.0503 - val_mse: 228.0503 - val_r2_score: -0.7540\n",
      "Epoch 2/15\n",
      "44/44 [==============================] - 4s 100ms/step - loss: 185.3055 - mse: 185.3055 - r2_score: -0.3358 - val_loss: 150.2081 - val_mse: 150.2081 - val_r2_score: -0.1594\n",
      "Epoch 3/15\n",
      "44/44 [==============================] - 5s 102ms/step - loss: 155.5364 - mse: 155.5364 - r2_score: -0.1524 - val_loss: 159.9653 - val_mse: 159.9653 - val_r2_score: -0.2179\n",
      "Epoch 4/15\n",
      "44/44 [==============================] - 4s 100ms/step - loss: 158.4972 - mse: 158.4972 - r2_score: -0.1602 - val_loss: 151.1226 - val_mse: 151.1226 - val_r2_score: -0.1660\n",
      "Epoch 5/15\n",
      "44/44 [==============================] - 4s 102ms/step - loss: 150.7871 - mse: 150.7871 - r2_score: -0.0973 - val_loss: 144.3956 - val_mse: 144.3956 - val_r2_score: -0.1004\n",
      "Epoch 6/15\n",
      "44/44 [==============================] - 4s 102ms/step - loss: 148.1056 - mse: 148.1056 - r2_score: -0.0958 - val_loss: 188.3815 - val_mse: 188.3815 - val_r2_score: -0.4305\n",
      "Epoch 7/15\n",
      "44/44 [==============================] - 4s 100ms/step - loss: 149.7861 - mse: 149.7861 - r2_score: -0.0860 - val_loss: 164.8248 - val_mse: 164.8248 - val_r2_score: -0.2506\n",
      "Epoch 8/15\n",
      "44/44 [==============================] - 5s 103ms/step - loss: 158.4757 - mse: 158.4757 - r2_score: -0.1672 - val_loss: 145.7368 - val_mse: 145.7368 - val_r2_score: -0.1274\n",
      "Epoch 9/15\n",
      "44/44 [==============================] - 4s 101ms/step - loss: 151.1282 - mse: 151.1282 - r2_score: -0.1319 - val_loss: 175.8534 - val_mse: 175.8534 - val_r2_score: -0.3326\n",
      "Epoch 10/15\n",
      "44/44 [==============================] - 4s 101ms/step - loss: 149.3684 - mse: 149.3684 - r2_score: -0.0960 - val_loss: 151.8857 - val_mse: 151.8857 - val_r2_score: -0.1828\n",
      "Epoch 11/15\n",
      "44/44 [==============================] - 5s 109ms/step - loss: 141.2272 - mse: 141.2272 - r2_score: -0.0283 - val_loss: 138.8681 - val_mse: 138.8681 - val_r2_score: -0.0618\n",
      "Epoch 12/15\n",
      "44/44 [==============================] - 4s 102ms/step - loss: 140.4764 - mse: 140.4764 - r2_score: -0.0298 - val_loss: 141.0142 - val_mse: 141.0142 - val_r2_score: -0.0757\n",
      "Epoch 13/15\n",
      "44/44 [==============================] - 4s 102ms/step - loss: 138.2346 - mse: 138.2346 - r2_score: -0.0136 - val_loss: 143.0794 - val_mse: 143.0794 - val_r2_score: -0.1038\n",
      "Epoch 14/15\n",
      "44/44 [==============================] - 4s 102ms/step - loss: 138.3520 - mse: 138.3520 - r2_score: 0.0054 - val_loss: 140.6028 - val_mse: 140.6028 - val_r2_score: -0.0674\n",
      "Epoch 15/15\n",
      "44/44 [==============================] - 4s 102ms/step - loss: 138.4865 - mse: 138.4865 - r2_score: -0.0043 - val_loss: 141.6201 - val_mse: 141.6201 - val_r2_score: -0.0735\n"
     ]
    }
   ],
   "source": [
    "# as it's good to use a repeating structure for cnns, lets add some more layers and increase epochs now that our model is more simplified\n",
    "model_3 = Sequential()\n",
    "model_3.add(layers.Conv2D(64, kernel_size =(3, 3), input_shape = X_train[0].shape))\n",
    "model_3.add(layers.MaxPooling2D(pool_size =(2, 2)))\n",
    "model_3.add(layers.Conv2D(64, (3, 3)))\n",
    "model_3.add(layers.MaxPooling2D(pool_size =(2, 2)))\n",
    "model_3.add(Flatten())\n",
    "model_3.add(layers.Dense(1, activation='linear'))\n",
    "   \n",
    "    \n",
    "# training\n",
    "model_3.compile(optimizer='adam',\n",
    "              loss='mse',\n",
    "              metrics=['mse', r2_score])\n",
    "  \n",
    "# fitting\n",
    "history_3 = model_3.fit(X_train, y_train, epochs=15, \n",
    "                    validation_data=(X_test, y_test))"
   ]
  },
  {
   "cell_type": "code",
   "execution_count": 30,
   "metadata": {},
   "outputs": [
    {
     "name": "stdout",
     "output_type": "stream",
     "text": [
      "15/15 [==============================] - 0s 26ms/step - loss: 141.6201 - mse: 141.6201 - r2_score: -0.0735\n",
      "\n",
      "\n",
      "The third model iteration just barely outperforms our previous model with an RMSE of 11.9, testing data doesn't show any signs of overfitting,\n",
      "so we will continue to add layers / increase epochs\n"
     ]
    },
    {
     "data": {
      "image/png": "[encoded data removed]",
      "text/plain": [
       "<Figure size 432x288 with 1 Axes>"
      ]
     },
     "metadata": {
      "needs_background": "dark"
     },
     "output_type": "display_data"
    }
   ],
   "source": [
    "rmse_3, r2_3 = plot_history(model_3, history_3, X_test, y_test)\n",
    "\n",
    "print('''\\n\\nThe third model iteration just barely outperforms our previous model with an RMSE of {:.1f}, testing data doesn't show any signs of overfitting,\n",
    "so we will continue to add layers / increase epochs'''.format(rmse_3))"
   ]
  },
  {
   "cell_type": "markdown",
   "metadata": {},
   "source": [
    "#### Model 4. further increase in layers and epochs\n",
    "Checking to see if adding yet another conv and pooling later will improve results"
   ]
  },
  {
   "cell_type": "code",
   "execution_count": 40,
   "metadata": {},
   "outputs": [
    {
     "name": "stdout",
     "output_type": "stream",
     "text": [
      "Epoch 1/25\n",
      "44/44 [==============================] - 5s 118ms/step - loss: 360.6615 - mse: 360.6615 - r2_score: -1.6632 - val_loss: 226.2244 - val_mse: 226.2244 - val_r2_score: -0.7502\n",
      "Epoch 2/25\n",
      "44/44 [==============================] - 6s 125ms/step - loss: 196.3481 - mse: 196.3481 - r2_score: -0.4610 - val_loss: 179.3866 - val_mse: 179.3866 - val_r2_score: -0.3722\n",
      "Epoch 3/25\n",
      "44/44 [==============================] - 5s 125ms/step - loss: 161.5405 - mse: 161.5405 - r2_score: -0.1853 - val_loss: 150.8046 - val_mse: 150.8046 - val_r2_score: -0.1647\n",
      "Epoch 4/25\n",
      "44/44 [==============================] - 5s 117ms/step - loss: 154.8679 - mse: 154.8679 - r2_score: -0.1524 - val_loss: 158.6795 - val_mse: 158.6795 - val_r2_score: -0.2145\n",
      "Epoch 5/25\n",
      "44/44 [==============================] - 5s 121ms/step - loss: 149.2170 - mse: 149.2170 - r2_score: -0.0930 - val_loss: 144.7128 - val_mse: 144.7128 - val_r2_score: -0.1173\n",
      "Epoch 6/25\n",
      "44/44 [==============================] - 5s 123ms/step - loss: 149.8006 - mse: 149.8006 - r2_score: -0.1034 - val_loss: 155.6062 - val_mse: 155.6062 - val_r2_score: -0.2152\n",
      "Epoch 7/25\n",
      "44/44 [==============================] - 6s 127ms/step - loss: 155.4905 - mse: 155.4905 - r2_score: -0.1337 - val_loss: 154.7637 - val_mse: 154.7637 - val_r2_score: -0.2092\n",
      "Epoch 8/25\n",
      "44/44 [==============================] - 5s 116ms/step - loss: 147.4949 - mse: 147.4949 - r2_score: -0.0719 - val_loss: 144.5546 - val_mse: 144.5546 - val_r2_score: -0.1050\n",
      "Epoch 9/25\n",
      "44/44 [==============================] - 5s 112ms/step - loss: 144.3258 - mse: 144.3258 - r2_score: -0.0501 - val_loss: 147.6428 - val_mse: 147.6428 - val_r2_score: -0.1241\n",
      "Epoch 10/25\n",
      "44/44 [==============================] - 5s 115ms/step - loss: 145.9433 - mse: 145.9433 - r2_score: -0.0702 - val_loss: 140.9322 - val_mse: 140.9322 - val_r2_score: -0.0808\n",
      "Epoch 11/25\n",
      "44/44 [==============================] - 5s 114ms/step - loss: 149.2540 - mse: 149.2540 - r2_score: -0.0820 - val_loss: 140.7653 - val_mse: 140.7653 - val_r2_score: -0.0802\n",
      "Epoch 12/25\n",
      "44/44 [==============================] - 5s 113ms/step - loss: 146.4921 - mse: 146.4921 - r2_score: -0.0775 - val_loss: 143.4161 - val_mse: 143.4161 - val_r2_score: -0.1079\n",
      "Epoch 13/25\n",
      "44/44 [==============================] - 5s 120ms/step - loss: 142.3577 - mse: 142.3577 - r2_score: -0.0365 - val_loss: 144.5236 - val_mse: 144.5236 - val_r2_score: -0.0984\n",
      "Epoch 14/25\n",
      "44/44 [==============================] - 5s 116ms/step - loss: 142.4725 - mse: 142.4725 - r2_score: -0.0337 - val_loss: 140.1429 - val_mse: 140.1429 - val_r2_score: -0.0679\n",
      "Epoch 15/25\n",
      "44/44 [==============================] - 5s 118ms/step - loss: 144.0080 - mse: 144.0080 - r2_score: -0.0525 - val_loss: 139.0889 - val_mse: 139.0889 - val_r2_score: -0.0649\n",
      "Epoch 16/25\n",
      "44/44 [==============================] - 5s 114ms/step - loss: 142.5732 - mse: 142.5732 - r2_score: -0.0487 - val_loss: 139.5135 - val_mse: 139.5135 - val_r2_score: -0.0632\n",
      "Epoch 17/25\n",
      "44/44 [==============================] - 5s 116ms/step - loss: 141.6727 - mse: 141.6727 - r2_score: -0.0252 - val_loss: 148.8573 - val_mse: 148.8573 - val_r2_score: -0.1525\n",
      "Epoch 18/25\n",
      "44/44 [==============================] - 5s 116ms/step - loss: 143.8257 - mse: 143.8257 - r2_score: -0.0403 - val_loss: 140.0019 - val_mse: 140.0019 - val_r2_score: -0.0664\n",
      "Epoch 19/25\n",
      "44/44 [==============================] - 5s 119ms/step - loss: 153.0458 - mse: 153.0458 - r2_score: -0.1253 - val_loss: 143.7627 - val_mse: 143.7627 - val_r2_score: -0.1078\n",
      "Epoch 20/25\n",
      "44/44 [==============================] - 5s 115ms/step - loss: 141.4686 - mse: 141.4686 - r2_score: -0.0253 - val_loss: 139.9798 - val_mse: 139.9798 - val_r2_score: -0.0666\n",
      "Epoch 21/25\n",
      "44/44 [==============================] - 5s 121ms/step - loss: 145.6800 - mse: 145.6800 - r2_score: -0.0573 - val_loss: 142.3870 - val_mse: 142.3870 - val_r2_score: -0.0928\n",
      "Epoch 22/25\n",
      "44/44 [==============================] - 5s 115ms/step - loss: 143.2239 - mse: 143.2239 - r2_score: -0.0403 - val_loss: 144.3155 - val_mse: 144.3155 - val_r2_score: -0.0966\n",
      "Epoch 23/25\n",
      "44/44 [==============================] - 5s 115ms/step - loss: 137.9131 - mse: 137.9131 - r2_score: -0.0156 - val_loss: 142.9554 - val_mse: 142.9554 - val_r2_score: -0.0959\n",
      "Epoch 24/25\n",
      "44/44 [==============================] - 5s 120ms/step - loss: 138.2183 - mse: 138.2183 - r2_score: 0.0047 - val_loss: 141.8870 - val_mse: 141.8870 - val_r2_score: -0.0873\n",
      "Epoch 25/25\n",
      "44/44 [==============================] - 5s 118ms/step - loss: 136.9081 - mse: 136.9081 - r2_score: 0.0058 - val_loss: 140.4769 - val_mse: 140.4769 - val_r2_score: -0.0685\n"
     ]
    }
   ],
   "source": [
    "# adding yet another Conv and Pooling layer.\n",
    "model_4 = Sequential()\n",
    "model_4.add(layers.Conv2D(64, kernel_size=(3,3), input_shape = X_train[0].shape))\n",
    "model_4.add(layers.MaxPooling2D((2, 2), strides=(2,2)))\n",
    "model_4.add(layers.Conv2D(64, (3, 3), activation='relu'))\n",
    "model_4.add(layers.MaxPooling2D((2, 2), strides=(2,2)))\n",
    "model_4.add(layers.Conv2D(64, (3, 3), activation='relu'))\n",
    "model_4.add(layers.MaxPooling2D((2, 2)))\n",
    "model_4.add(Flatten())\n",
    "model_4.add(layers.Dense(1, activation='linear'))\n",
    "\n",
    "model_4.compile(optimizer='adam',\n",
    "              loss='mse',\n",
    "              metrics=['mse', r2_score])\n",
    "\n",
    "# fitting the model\n",
    "history_4 = model_4.fit(X_train, y_train, epochs=25, \n",
    "                    validation_data=(X_test, y_test))"
   ]
  },
  {
   "cell_type": "code",
   "execution_count": 59,
   "metadata": {},
   "outputs": [
    {
     "name": "stdout",
     "output_type": "stream",
     "text": [
      "15/15 [==============================] - 0s 28ms/step - loss: 140.4769 - mse: 140.4769 - r2_score: -0.0685\n",
      "\n",
      "\n",
      "The fourth model does slightly worse than model 3, with an RMSE of 11.9. Looking at the below scatterplot this model\n",
      "doesnt seem to have any predictive power. We will begin to tune hyperparameters, but will need to look at an R Squared value to determine if this model \n",
      "is useful. Although the validation MSE does not show any signs of overfitting, MSE seems to be plateauing, so adding layers doesn't seem as if it would help. \n"
     ]
    },
    {
     "data": {
      "image/png": "[encoded data removed]",
      "text/plain": [
       "<Figure size 432x288 with 1 Axes>"
      ]
     },
     "metadata": {
      "needs_background": "dark"
     },
     "output_type": "display_data"
    }
   ],
   "source": [
    "rmse_4, r2_4 = plot_history(model_4, history_4, X_test, y_test)\n",
    "\n",
    "print('''\\n\\nThe fourth model does slightly worse than model 3, with an RMSE of {:.1f}. Looking at the below scatterplot this model\n",
    "doesnt seem to have any predictive power. We will begin to tune hyperparameters, but will need to look at an R Squared value to determine if this model \n",
    "is useful. Although the validation MSE does not show any signs of overfitting, MSE seems to be plateauing, so adding layers doesn't seem as if it would help. '''.format(rmse_4))"
   ]
  },
  {
   "cell_type": "code",
   "execution_count": 42,
   "metadata": {},
   "outputs": [
    {
     "data": {
      "image/png": "[encoded data removed]",
      "text/plain": [
       "<Figure size 360x360 with 1 Axes>"
      ]
     },
     "metadata": {
      "needs_background": "dark"
     },
     "output_type": "display_data"
    }
   ],
   "source": [
    "# scatterplot shows model is not predicting well\n",
    "plot_scatter(model_4, X_test)"
   ]
  },
  {
   "cell_type": "markdown",
   "metadata": {},
   "source": [
    "#### Model 5: tuning hyperparameters with function\n",
    "removing additional layer, and creating function to test hyperparameters and other model features, such as padding, pooling layer size, kernel size, activation type, and epochs"
   ]
  },
  {
   "cell_type": "code",
   "execution_count": 52,
   "metadata": {},
   "outputs": [],
   "source": [
    "# building a function to test hyperparameters\n",
    "def build_cnn(X_train, y_train, X_test, y_test, neurons, kernel_size, activation, epochs, pool_size, padding):\n",
    "    \n",
    "    # building the model\n",
    "    model = Sequential()\n",
    "    model.add(layers.Conv2D(neurons, kernel_size=kernel_size, activation= activation))\n",
    "    model.add(layers.MaxPooling2D(pool_size = pool_size))\n",
    "    model.add(layers.Conv2D(neurons, kernel_size=kernel_size, activation = activation, padding=padding))\n",
    "    model.add(layers.MaxPooling2D(pool_size = pool_size))\n",
    "    model.add(Flatten())\n",
    "    model.add(layers.Dense(1, activation=activation))\n",
    "\n",
    "    # training\n",
    "    model.compile(optimizer='adam', loss='mse', metrics=['mse', r2_score])\n",
    "    \n",
    "    # fitting\n",
    "    history = model.fit(X_train, y_train, epochs=epochs, validation_data=(X_test, y_test))\n",
    "\n",
    "    return model, history"
   ]
  },
  {
   "cell_type": "code",
   "execution_count": 53,
   "metadata": {},
   "outputs": [
    {
     "name": "stdout",
     "output_type": "stream",
     "text": [
      "Epoch 1/20\n",
      "44/44 [==============================] - 4s 102ms/step - loss: 333.0540 - mse: 333.0540 - r2_score: -1.5642 - val_loss: 228.2571 - val_mse: 228.2571 - val_r2_score: -0.7538\n",
      "Epoch 2/20\n",
      "44/44 [==============================] - 4s 100ms/step - loss: 176.5565 - mse: 176.5565 - r2_score: -0.2950 - val_loss: 154.4023 - val_mse: 154.4023 - val_r2_score: -0.2000\n",
      "Epoch 3/20\n",
      "44/44 [==============================] - 4s 98ms/step - loss: 152.6666 - mse: 152.6666 - r2_score: -0.1122 - val_loss: 166.7142 - val_mse: 166.7142 - val_r2_score: -0.2654\n",
      "Epoch 4/20\n",
      "44/44 [==============================] - 5s 105ms/step - loss: 163.4061 - mse: 163.4061 - r2_score: -0.2219 - val_loss: 141.9107 - val_mse: 141.9107 - val_r2_score: -0.0842\n",
      "Epoch 5/20\n",
      "44/44 [==============================] - 5s 104ms/step - loss: 144.2053 - mse: 144.2053 - r2_score: -0.0519 - val_loss: 145.7878 - val_mse: 145.7878 - val_r2_score: -0.1245\n",
      "Epoch 6/20\n",
      "44/44 [==============================] - 4s 101ms/step - loss: 148.7088 - mse: 148.7088 - r2_score: -0.0810 - val_loss: 151.6102 - val_mse: 151.6102 - val_r2_score: -0.1735\n",
      "Epoch 7/20\n",
      "44/44 [==============================] - 4s 101ms/step - loss: 145.8558 - mse: 145.8558 - r2_score: -0.0623 - val_loss: 149.5899 - val_mse: 149.5899 - val_r2_score: -0.1546\n",
      "Epoch 8/20\n",
      "44/44 [==============================] - 4s 102ms/step - loss: 145.1119 - mse: 145.1119 - r2_score: -0.0699 - val_loss: 142.1795 - val_mse: 142.1795 - val_r2_score: -0.0861\n",
      "Epoch 9/20\n",
      "44/44 [==============================] - 5s 103ms/step - loss: 150.2796 - mse: 150.2796 - r2_score: -0.1143 - val_loss: 147.8442 - val_mse: 147.8442 - val_r2_score: -0.1191\n",
      "Epoch 10/20\n",
      "44/44 [==============================] - 5s 104ms/step - loss: 154.2424 - mse: 154.2424 - r2_score: -0.1511 - val_loss: 167.7942 - val_mse: 167.7942 - val_r2_score: -0.2708\n",
      "Epoch 11/20\n",
      "44/44 [==============================] - 5s 103ms/step - loss: 142.3040 - mse: 142.3040 - r2_score: -0.0425 - val_loss: 140.6324 - val_mse: 140.6324 - val_r2_score: -0.0668\n",
      "Epoch 12/20\n",
      "44/44 [==============================] - 5s 104ms/step - loss: 142.5906 - mse: 142.5906 - r2_score: -0.0311 - val_loss: 140.4629 - val_mse: 140.4629 - val_r2_score: -0.0726\n",
      "Epoch 13/20\n",
      "44/44 [==============================] - 5s 103ms/step - loss: 140.9421 - mse: 140.9421 - r2_score: -0.0323 - val_loss: 142.8179 - val_mse: 142.8179 - val_r2_score: -0.0819\n",
      "Epoch 14/20\n",
      "44/44 [==============================] - 5s 105ms/step - loss: 143.4640 - mse: 143.4640 - r2_score: -0.0514 - val_loss: 140.1335 - val_mse: 140.1335 - val_r2_score: -0.0712\n",
      "Epoch 15/20\n",
      "44/44 [==============================] - 5s 106ms/step - loss: 146.9365 - mse: 146.9365 - r2_score: -0.0827 - val_loss: 142.8729 - val_mse: 142.8729 - val_r2_score: -0.0828\n",
      "Epoch 16/20\n",
      "44/44 [==============================] - 5s 106ms/step - loss: 137.1289 - mse: 137.1289 - r2_score: -0.0187 - val_loss: 161.9919 - val_mse: 161.9919 - val_r2_score: -0.2675\n",
      "Epoch 17/20\n",
      "44/44 [==============================] - 5s 109ms/step - loss: 131.4365 - mse: 131.4365 - r2_score: 0.0531 - val_loss: 142.3199 - val_mse: 142.3199 - val_r2_score: -0.0940\n",
      "Epoch 18/20\n",
      "44/44 [==============================] - 5s 109ms/step - loss: 131.0851 - mse: 131.0851 - r2_score: 0.0476 - val_loss: 141.8284 - val_mse: 141.8284 - val_r2_score: -0.0801\n",
      "Epoch 19/20\n",
      "44/44 [==============================] - 5s 106ms/step - loss: 127.1193 - mse: 127.1193 - r2_score: 0.0631 - val_loss: 145.3069 - val_mse: 145.3069 - val_r2_score: -0.0968\n",
      "Epoch 20/20\n",
      "44/44 [==============================] - 5s 106ms/step - loss: 132.4163 - mse: 132.4163 - r2_score: 0.0328 - val_loss: 156.8836 - val_mse: 156.8836 - val_r2_score: -0.2073\n"
     ]
    }
   ],
   "source": [
    "model_5, history_5 = build_cnn(X_train, y_train, X_test, y_test, 64, (3,3), 'linear', 20, (2,2), 'valid')"
   ]
  },
  {
   "cell_type": "code",
   "execution_count": 56,
   "metadata": {},
   "outputs": [
    {
     "name": "stdout",
     "output_type": "stream",
     "text": [
      "15/15 [==============================] - 0s 25ms/step - loss: 156.8836 - mse: 156.8836 - r2_score: -0.2073\n",
      "\n",
      "\n",
      "The fifth model has an RMSE of 12.5, which underperforms in comparison to the other models even while fine tuning. It generated an R Squared of -0.2\n"
     ]
    },
    {
     "data": {
      "image/png": "[encoded data removed]",
      "text/plain": [
       "<Figure size 432x288 with 1 Axes>"
      ]
     },
     "metadata": {
      "needs_background": "dark"
     },
     "output_type": "display_data"
    }
   ],
   "source": [
    "rmse_5, r2_5 = plot_history(model_5, history_5, X_test, y_test)\n",
    "\n",
    "print('''\\n\\nThe fifth model has an RMSE of {:.1f}, which underperforms in comparison to the other models even while fine tuning. It generated an R Squared of {:.1f}'''.format(rmse_5, r2_5))"
   ]
  },
  {
   "cell_type": "markdown",
   "metadata": {},
   "source": [
    "## FINAL MODEL EVALUATION"
   ]
  },
  {
   "cell_type": "code",
   "execution_count": 57,
   "metadata": {},
   "outputs": [
    {
     "name": "stdout",
     "output_type": "stream",
     "text": [
      "model 2 RMSE: 11.804800602328791\n",
      "model 3 RMSE: 11.900423161011242\n",
      "model 4 RMSE: 11.852294416465122\n",
      "model 5 RMSE: 12.525318597027033\n"
     ]
    }
   ],
   "source": [
    "# creating loop to look at all model results side by side\n",
    "for idx, i in enumerate([rmse_2, rmse_3, rmse_4, rmse_5]):\n",
    "    print('model '+str(idx+2)+\" RMSE: \"+str(i))"
   ]
  },
  {
   "cell_type": "code",
   "execution_count": 58,
   "metadata": {},
   "outputs": [
    {
     "name": "stdout",
     "output_type": "stream",
     "text": [
      "\n",
      "After using the create_cnn function to test hyperparameters to further fine tune, The final model chosen was model 4, with a filter size of 3 x 3, a pooling size of 2 x 2,\n",
      "linear activation, and no padding. This model was chosen because it generated the lowest Root Mean Squared Error value of 11.9. Although this model outperformed the\n",
      "others, it is not an effective predictor for Spotify's popularity index. The scatterplot of true vs. predicted values demonstrate this, as well as it's R Squared score of -0.1.\n",
      "This essentially tells us the model is about as efficient at predicting popularity than a simple averaging of popularity, 30.1, would be able to predict, which is evident \n",
      "from the scatter plot.  \n",
      "\n"
     ]
    },
    {
     "data": {
      "image/png": "[encoded data removed]",
      "text/plain": [
       "<Figure size 360x360 with 1 Axes>"
      ]
     },
     "metadata": {
      "needs_background": "dark"
     },
     "output_type": "display_data"
    }
   ],
   "source": [
    "print('''\n",
    "After using the create_cnn function to test hyperparameters to further fine tune, The final model chosen was model 4, with a filter size of 3 x 3, a pooling size of 2 x 2,\n",
    "linear activation, and no padding. This model was chosen because it generated the lowest Root Mean Squared Error value of {:.1f}. Although this model outperformed the\n",
    "others, it is not an effective predictor for Spotify's popularity index. The scatterplot of true vs. predicted values demonstrate this, as well as it's R Squared score of {:.1f}.\n",
    "This essentially tells us the model is about as efficient at predicting popularity than a simple averaging of popularity, {:.1f}, would be able to predict, which is evident \n",
    "from the scatter plot.  \n",
    "'''.format(rmse_4, r2_4, y_test.mean()))\n",
    "\n",
    "plot_scatter(model_4, X_test)"
   ]
  },
  {
   "cell_type": "markdown",
   "metadata": {},
   "source": [
    "## CONCLUSION"
   ]
  },
  {
   "cell_type": "markdown",
   "metadata": {},
   "source": [
    "#### Our final model was unsuccessful in predicting Spotify popularity by album artwork. \n",
    "\n",
    "\n",
    "Although there are other hyperparameters to tune and methods to try, I do not believe any model could have successfully predicted our target variable solely on album artwork. With a switch in streaming for music consumption, it's highly possible that users no longer focus on album artwork. With more time I would attempt to support this theory by running the same analysis on albums from the 80's up to the early 2000's. I would also look into finding a different target variable to measure \"success\", as Spotify's metric is based on recency, which is not relevant. Lastly, I would run a NLP analysis on track name, and see if this has any effect on popularity among Spotify listeners. \n",
    "\n",
    "#### Based on the above results, I would make three recommendations to the client. \n",
    "- Consider allocating resources away from album art creation, as artwork style doesn’t seem to affect popularity on Spotify\n",
    "- Commission a study on album and/or song name to understand naming effect on Spotify popularity\n",
    "- If artwork context is crucial to telling the album story, consider other means of distribution outside of Spotify, such as physical stores, as users don’t seem engaged with artwork on Spotify "
   ]
  }
 ],
 "metadata": {
  "kernelspec": {
   "display_name": "Python (learn-env)",
   "language": "python",
   "name": "learn-env"
  },
  "language_info": {
   "codemirror_mode": {
    "name": "ipython",
    "version": 3
   },
   "file_extension": ".py",
   "mimetype": "text/x-python",
   "name": "python",
   "nbconvert_exporter": "python",
   "pygments_lexer": "ipython3",
   "version": "3.8.5"
  }
 },
 "nbformat": 4,
 "nbformat_minor": 4
}
