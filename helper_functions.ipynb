{
 "cells": [
  {
   "cell_type": "code",
   "execution_count": 6,
   "metadata": {},
   "outputs": [],
   "source": [
    "import matplotlib.image as img\n",
    "import matplotlib.pyplot as plt\n",
    "from scipy.cluster.vq import whiten\n",
    "from scipy.cluster.vq import kmeans\n",
    "import pandas as pd"
   ]
  },
  {
   "cell_type": "code",
   "execution_count": 7,
   "metadata": {},
   "outputs": [],
   "source": [
    "# function to pull top 3 colors of each album art\n",
    "def get_top_colors(art):\n",
    "    r = []\n",
    "    g = []\n",
    "    b = []\n",
    "    \n",
    "    for row in art:\n",
    "        for temp_r, temp_g, temp_b in row:\n",
    "            r.append(temp_r)\n",
    "            g.append(temp_g)\n",
    "            b.append(temp_b)\n",
    "            \n",
    "    df = pd.DataFrame({'red'   : r,\n",
    "                       'green' : g,\n",
    "                       'blue'  : b})\n",
    "    \n",
    "    df['scaled_color_red'] = whiten(df['red'])\n",
    "    df['scaled_color_blue'] = whiten(df['blue'])\n",
    "    df['scaled_color_green'] = whiten(df['green'])\n",
    "\n",
    "    cluster_centers, _ = kmeans(df[['scaled_color_red',\n",
    "                                    'scaled_color_blue',\n",
    "                                    'scaled_color_green']], 3)\n",
    "\n",
    "    dominant_colors = []\n",
    "\n",
    "    red_std, green_std, blue_std = df[['red',\n",
    "                                       'green',\n",
    "                                       'blue']].std()\n",
    "\n",
    "    for cluster_center in cluster_centers:\n",
    "        red_scaled, green_scaled, blue_scaled = cluster_center\n",
    "        dominant_colors.append((\n",
    "            red_scaled * red_std / 255,\n",
    "            green_scaled * green_std / 255,\n",
    "            blue_scaled * blue_std / 255\n",
    "        ))\n",
    "        \n",
    "    return dominant_colors\n",
    "\n",
    "#  citation - https://www.geeksforgeeks.org/extract-dominant-colors-of-an-image-using-python/"
   ]
  },
  {
   "cell_type": "code",
   "execution_count": 11,
   "metadata": {},
   "outputs": [],
   "source": [
    "# function to classify color based on RBG value's manhattan distance to the below colors\n",
    "def classify(rgb_tuple):\n",
    "    colors = {'black'  :(0,0,0),\n",
    "              'white'  :(1,1,1),\n",
    "              'red'    :(1,0,0),\n",
    "              'lime'   :(0,1,0),\n",
    "              'blue'   :(0,0,1),\n",
    "              'yellow' :(1,1,0),\n",
    "              'cyan'   :(0,1,1),\n",
    "              'magenta':(1,0,1),\n",
    "             }\n",
    "    \n",
    "    manhattan = lambda x,y : abs(x[0] - y[0]) + abs(x[1] - y[1]) + abs(x[2] - y[2]) \n",
    "    distances = {k: manhattan(v, rgb_tuple) for k, v in colors.items()}\n",
    "    color = min(distances, key=distances.get)\n",
    "    return color\n",
    "\n",
    "# citation - https://stackoverflow.com/questions/36439384/classifying-rgb-values-in-python"
   ]
  },
  {
   "cell_type": "code",
   "execution_count": 13,
   "metadata": {},
   "outputs": [],
   "source": [
    "# creating function add column distinguishing black and white images from regular ones\n",
    "def b_w(test):\n",
    "    count = 0\n",
    "    for i in test:\n",
    "        if i == 'black' or i == 'white':\n",
    "            count += 1\n",
    "    if count == 3:\n",
    "        return 'black and white image'\n",
    "    else:\n",
    "        return 'colored image'"
   ]
  }
 ],
 "metadata": {
  "kernelspec": {
   "display_name": "Python (learn-env)",
   "language": "python",
   "name": "learn-env"
  },
  "language_info": {
   "codemirror_mode": {
    "name": "ipython",
    "version": 3
   },
   "file_extension": ".py",
   "mimetype": "text/x-python",
   "name": "python",
   "nbconvert_exporter": "python",
   "pygments_lexer": "ipython3",
   "version": "3.8.5"
  }
 },
 "nbformat": 4,
 "nbformat_minor": 4
}
